{
  "nbformat": 4,
  "nbformat_minor": 0,
  "metadata": {
    "colab": {
      "name": "DMA_Final_Project.ipynb",
      "provenance": [],
      "collapsed_sections": [],
      "toc_visible": true,
      "include_colab_link": true
    },
    "kernelspec": {
      "display_name": "Python 3",
      "name": "python3"
    }
  },
  "cells": [
    {
      "cell_type": "markdown",
      "metadata": {
        "id": "view-in-github",
        "colab_type": "text"
      },
      "source": [
        "<a href=\"https://colab.research.google.com/github/ryosuke1224-haas/FirstPullRequest/blob/master/DMA_Final_Project.ipynb\" target=\"_parent\"><img src=\"https://colab.research.google.com/assets/colab-badge.svg\" alt=\"Open In Colab\"/></a>"
      ]
    },
    {
      "cell_type": "markdown",
      "metadata": {
        "id": "cWyxrEabkbPZ"
      },
      "source": [
        "# Ecommerce Recommender System with Word2Vec\n",
        "Avinash Javaji   | \n",
        "Daniel Alston   | \n",
        "Ignacio Balaguer Serra   | \n",
        "Ryosuke Kato"
      ]
    },
    {
      "cell_type": "code",
      "metadata": {
        "id": "trPcvEjikiL2"
      },
      "source": [
        "import numpy as np\n",
        "import pandas as pd\n",
        "import matplotlib.pyplot as plt\n",
        "import seaborn as sns\n",
        "from sklearn.model_selection import train_test_split\n",
        "import gensim\n",
        "from gensim import corpora, models, similarities\n",
        "%matplotlib inline\n",
        "import warnings;\n",
        "warnings.filterwarnings('ignore')\n",
        "\n",
        "df = pd.read_excel('https://drive.google.com/uc?export=download&id=1icqOqpQ9fcBIbN2E_dWDJzXaF1Js2laf')"
      ],
      "execution_count": null,
      "outputs": []
    },
    {
      "cell_type": "code",
      "metadata": {
        "id": "qUADDO7pY-jz"
      },
      "source": [
        "#Define ntile function\n",
        "def ntile(a,n):\n",
        "  q = a.quantile(np.linspace(1/n,1,n))\n",
        "  output = []\n",
        "  for i in a:\n",
        "    if np.isnan(i):\n",
        "      k = np.nan\n",
        "    else:\n",
        "      k = 0\n",
        "      for j in q:\n",
        "        if i<=j:\n",
        "          break\n",
        "        k += 1\n",
        "        \n",
        "    output.append(k)\n",
        "\n",
        "  return np.array(output)"
      ],
      "execution_count": null,
      "outputs": []
    },
    {
      "cell_type": "markdown",
      "metadata": {
        "id": "VdQzq5mulZmB"
      },
      "source": [
        "# Preprocessing & Exploration"
      ]
    },
    {
      "cell_type": "code",
      "metadata": {
        "id": "n2B_jsUGlNZi",
        "colab": {
          "base_uri": "https://localhost:8080/",
          "height": 200
        },
        "outputId": "3dc2a752-003c-41d1-a475-3a0af0f686f3"
      },
      "source": [
        "df.head()"
      ],
      "execution_count": null,
      "outputs": [
        {
          "output_type": "execute_result",
          "data": {
            "text/html": [
              "<div>\n",
              "<style scoped>\n",
              "    .dataframe tbody tr th:only-of-type {\n",
              "        vertical-align: middle;\n",
              "    }\n",
              "\n",
              "    .dataframe tbody tr th {\n",
              "        vertical-align: top;\n",
              "    }\n",
              "\n",
              "    .dataframe thead th {\n",
              "        text-align: right;\n",
              "    }\n",
              "</style>\n",
              "<table border=\"1\" class=\"dataframe\">\n",
              "  <thead>\n",
              "    <tr style=\"text-align: right;\">\n",
              "      <th></th>\n",
              "      <th>InvoiceNo</th>\n",
              "      <th>StockCode</th>\n",
              "      <th>Description</th>\n",
              "      <th>Quantity</th>\n",
              "      <th>InvoiceDate</th>\n",
              "      <th>UnitPrice</th>\n",
              "      <th>CustomerID</th>\n",
              "      <th>Country</th>\n",
              "    </tr>\n",
              "  </thead>\n",
              "  <tbody>\n",
              "    <tr>\n",
              "      <th>0</th>\n",
              "      <td>536365</td>\n",
              "      <td>85123A</td>\n",
              "      <td>WHITE HANGING HEART T-LIGHT HOLDER</td>\n",
              "      <td>6</td>\n",
              "      <td>2010-12-01 08:26:00</td>\n",
              "      <td>2.55</td>\n",
              "      <td>17850.0</td>\n",
              "      <td>United Kingdom</td>\n",
              "    </tr>\n",
              "    <tr>\n",
              "      <th>1</th>\n",
              "      <td>536365</td>\n",
              "      <td>71053</td>\n",
              "      <td>WHITE METAL LANTERN</td>\n",
              "      <td>6</td>\n",
              "      <td>2010-12-01 08:26:00</td>\n",
              "      <td>3.39</td>\n",
              "      <td>17850.0</td>\n",
              "      <td>United Kingdom</td>\n",
              "    </tr>\n",
              "    <tr>\n",
              "      <th>2</th>\n",
              "      <td>536365</td>\n",
              "      <td>84406B</td>\n",
              "      <td>CREAM CUPID HEARTS COAT HANGER</td>\n",
              "      <td>8</td>\n",
              "      <td>2010-12-01 08:26:00</td>\n",
              "      <td>2.75</td>\n",
              "      <td>17850.0</td>\n",
              "      <td>United Kingdom</td>\n",
              "    </tr>\n",
              "    <tr>\n",
              "      <th>3</th>\n",
              "      <td>536365</td>\n",
              "      <td>84029G</td>\n",
              "      <td>KNITTED UNION FLAG HOT WATER BOTTLE</td>\n",
              "      <td>6</td>\n",
              "      <td>2010-12-01 08:26:00</td>\n",
              "      <td>3.39</td>\n",
              "      <td>17850.0</td>\n",
              "      <td>United Kingdom</td>\n",
              "    </tr>\n",
              "    <tr>\n",
              "      <th>4</th>\n",
              "      <td>536365</td>\n",
              "      <td>84029E</td>\n",
              "      <td>RED WOOLLY HOTTIE WHITE HEART.</td>\n",
              "      <td>6</td>\n",
              "      <td>2010-12-01 08:26:00</td>\n",
              "      <td>3.39</td>\n",
              "      <td>17850.0</td>\n",
              "      <td>United Kingdom</td>\n",
              "    </tr>\n",
              "  </tbody>\n",
              "</table>\n",
              "</div>"
            ],
            "text/plain": [
              "  InvoiceNo StockCode  ... CustomerID         Country\n",
              "0    536365    85123A  ...    17850.0  United Kingdom\n",
              "1    536365     71053  ...    17850.0  United Kingdom\n",
              "2    536365    84406B  ...    17850.0  United Kingdom\n",
              "3    536365    84029G  ...    17850.0  United Kingdom\n",
              "4    536365    84029E  ...    17850.0  United Kingdom\n",
              "\n",
              "[5 rows x 8 columns]"
            ]
          },
          "metadata": {
            "tags": []
          },
          "execution_count": 9
        }
      ]
    },
    {
      "cell_type": "code",
      "metadata": {
        "colab": {
          "base_uri": "https://localhost:8080/"
        },
        "id": "Cfkoo6tUwMzs",
        "outputId": "aa23070d-30a5-4e44-d147-9e7ec1631711"
      },
      "source": [
        "# some data exploration\n",
        "# top 10 product\n",
        "print(df['Description'].value_counts()[:10])\n",
        "print('---------')\n",
        "# top 10 country\n",
        "print(df['Country'].value_counts()[:10])"
      ],
      "execution_count": null,
      "outputs": [
        {
          "output_type": "stream",
          "text": [
            "WHITE HANGING HEART T-LIGHT HOLDER    2369\n",
            "REGENCY CAKESTAND 3 TIER              2200\n",
            "JUMBO BAG RED RETROSPOT               2159\n",
            "PARTY BUNTING                         1727\n",
            "LUNCH BAG RED RETROSPOT               1638\n",
            "ASSORTED COLOUR BIRD ORNAMENT         1501\n",
            "SET OF 3 CAKE TINS PANTRY DESIGN      1473\n",
            "PACK OF 72 RETROSPOT CAKE CASES       1385\n",
            "LUNCH BAG  BLACK SKULL.               1350\n",
            "NATURAL SLATE HEART CHALKBOARD        1280\n",
            "Name: Description, dtype: int64\n",
            "---------\n",
            "United Kingdom    495478\n",
            "Germany             9495\n",
            "France              8557\n",
            "EIRE                8196\n",
            "Spain               2533\n",
            "Netherlands         2371\n",
            "Belgium             2069\n",
            "Switzerland         2002\n",
            "Portugal            1519\n",
            "Australia           1259\n",
            "Name: Country, dtype: int64\n"
          ],
          "name": "stdout"
        }
      ]
    },
    {
      "cell_type": "code",
      "metadata": {
        "colab": {
          "base_uri": "https://localhost:8080/",
          "height": 1000
        },
        "id": "bBVCFxiGw54r",
        "outputId": "a338ac80-2a6d-4c35-dcbf-5e0967ff8854"
      },
      "source": [
        "#average price by country\n",
        "df[['UnitPrice','Country']].groupby('Country').mean().sort_values(by=['UnitPrice'])"
      ],
      "execution_count": null,
      "outputs": [
        {
          "output_type": "execute_result",
          "data": {
            "text/html": [
              "<div>\n",
              "<style scoped>\n",
              "    .dataframe tbody tr th:only-of-type {\n",
              "        vertical-align: middle;\n",
              "    }\n",
              "\n",
              "    .dataframe tbody tr th {\n",
              "        vertical-align: top;\n",
              "    }\n",
              "\n",
              "    .dataframe thead th {\n",
              "        text-align: right;\n",
              "    }\n",
              "</style>\n",
              "<table border=\"1\" class=\"dataframe\">\n",
              "  <thead>\n",
              "    <tr style=\"text-align: right;\">\n",
              "      <th></th>\n",
              "      <th>UnitPrice</th>\n",
              "    </tr>\n",
              "    <tr>\n",
              "      <th>Country</th>\n",
              "      <th></th>\n",
              "    </tr>\n",
              "  </thead>\n",
              "  <tbody>\n",
              "    <tr>\n",
              "      <th>USA</th>\n",
              "      <td>2.216426</td>\n",
              "    </tr>\n",
              "    <tr>\n",
              "      <th>Japan</th>\n",
              "      <td>2.276145</td>\n",
              "    </tr>\n",
              "    <tr>\n",
              "      <th>Saudi Arabia</th>\n",
              "      <td>2.411000</td>\n",
              "    </tr>\n",
              "    <tr>\n",
              "      <th>Iceland</th>\n",
              "      <td>2.644011</td>\n",
              "    </tr>\n",
              "    <tr>\n",
              "      <th>Unspecified</th>\n",
              "      <td>2.699574</td>\n",
              "    </tr>\n",
              "    <tr>\n",
              "      <th>Netherlands</th>\n",
              "      <td>2.738317</td>\n",
              "    </tr>\n",
              "    <tr>\n",
              "      <th>Lithuania</th>\n",
              "      <td>2.841143</td>\n",
              "    </tr>\n",
              "    <tr>\n",
              "      <th>Czech Republic</th>\n",
              "      <td>2.938333</td>\n",
              "    </tr>\n",
              "    <tr>\n",
              "      <th>Australia</th>\n",
              "      <td>3.220612</td>\n",
              "    </tr>\n",
              "    <tr>\n",
              "      <th>Denmark</th>\n",
              "      <td>3.256941</td>\n",
              "    </tr>\n",
              "    <tr>\n",
              "      <th>United Arab Emirates</th>\n",
              "      <td>3.380735</td>\n",
              "    </tr>\n",
              "    <tr>\n",
              "      <th>Switzerland</th>\n",
              "      <td>3.403442</td>\n",
              "    </tr>\n",
              "    <tr>\n",
              "      <th>Israel</th>\n",
              "      <td>3.633131</td>\n",
              "    </tr>\n",
              "    <tr>\n",
              "      <th>Belgium</th>\n",
              "      <td>3.644335</td>\n",
              "    </tr>\n",
              "    <tr>\n",
              "      <th>Sweden</th>\n",
              "      <td>3.910887</td>\n",
              "    </tr>\n",
              "    <tr>\n",
              "      <th>Germany</th>\n",
              "      <td>3.966930</td>\n",
              "    </tr>\n",
              "    <tr>\n",
              "      <th>Poland</th>\n",
              "      <td>4.170880</td>\n",
              "    </tr>\n",
              "    <tr>\n",
              "      <th>Austria</th>\n",
              "      <td>4.243192</td>\n",
              "    </tr>\n",
              "    <tr>\n",
              "      <th>RSA</th>\n",
              "      <td>4.277586</td>\n",
              "    </tr>\n",
              "    <tr>\n",
              "      <th>Brazil</th>\n",
              "      <td>4.456250</td>\n",
              "    </tr>\n",
              "    <tr>\n",
              "      <th>United Kingdom</th>\n",
              "      <td>4.532422</td>\n",
              "    </tr>\n",
              "    <tr>\n",
              "      <th>Bahrain</th>\n",
              "      <td>4.556316</td>\n",
              "    </tr>\n",
              "    <tr>\n",
              "      <th>European Community</th>\n",
              "      <td>4.820492</td>\n",
              "    </tr>\n",
              "    <tr>\n",
              "      <th>Italy</th>\n",
              "      <td>4.831121</td>\n",
              "    </tr>\n",
              "    <tr>\n",
              "      <th>Greece</th>\n",
              "      <td>4.885548</td>\n",
              "    </tr>\n",
              "    <tr>\n",
              "      <th>Channel Islands</th>\n",
              "      <td>4.932124</td>\n",
              "    </tr>\n",
              "    <tr>\n",
              "      <th>Spain</th>\n",
              "      <td>4.987544</td>\n",
              "    </tr>\n",
              "    <tr>\n",
              "      <th>France</th>\n",
              "      <td>5.028864</td>\n",
              "    </tr>\n",
              "    <tr>\n",
              "      <th>Malta</th>\n",
              "      <td>5.244173</td>\n",
              "    </tr>\n",
              "    <tr>\n",
              "      <th>Lebanon</th>\n",
              "      <td>5.387556</td>\n",
              "    </tr>\n",
              "    <tr>\n",
              "      <th>Finland</th>\n",
              "      <td>5.448705</td>\n",
              "    </tr>\n",
              "    <tr>\n",
              "      <th>EIRE</th>\n",
              "      <td>5.911077</td>\n",
              "    </tr>\n",
              "    <tr>\n",
              "      <th>Norway</th>\n",
              "      <td>6.012026</td>\n",
              "    </tr>\n",
              "    <tr>\n",
              "      <th>Canada</th>\n",
              "      <td>6.030331</td>\n",
              "    </tr>\n",
              "    <tr>\n",
              "      <th>Cyprus</th>\n",
              "      <td>6.302363</td>\n",
              "    </tr>\n",
              "    <tr>\n",
              "      <th>Portugal</th>\n",
              "      <td>8.582976</td>\n",
              "    </tr>\n",
              "    <tr>\n",
              "      <th>Hong Kong</th>\n",
              "      <td>42.505208</td>\n",
              "    </tr>\n",
              "    <tr>\n",
              "      <th>Singapore</th>\n",
              "      <td>109.645808</td>\n",
              "    </tr>\n",
              "  </tbody>\n",
              "</table>\n",
              "</div>"
            ],
            "text/plain": [
              "                       UnitPrice\n",
              "Country                         \n",
              "USA                     2.216426\n",
              "Japan                   2.276145\n",
              "Saudi Arabia            2.411000\n",
              "Iceland                 2.644011\n",
              "Unspecified             2.699574\n",
              "Netherlands             2.738317\n",
              "Lithuania               2.841143\n",
              "Czech Republic          2.938333\n",
              "Australia               3.220612\n",
              "Denmark                 3.256941\n",
              "United Arab Emirates    3.380735\n",
              "Switzerland             3.403442\n",
              "Israel                  3.633131\n",
              "Belgium                 3.644335\n",
              "Sweden                  3.910887\n",
              "Germany                 3.966930\n",
              "Poland                  4.170880\n",
              "Austria                 4.243192\n",
              "RSA                     4.277586\n",
              "Brazil                  4.456250\n",
              "United Kingdom          4.532422\n",
              "Bahrain                 4.556316\n",
              "European Community      4.820492\n",
              "Italy                   4.831121\n",
              "Greece                  4.885548\n",
              "Channel Islands         4.932124\n",
              "Spain                   4.987544\n",
              "France                  5.028864\n",
              "Malta                   5.244173\n",
              "Lebanon                 5.387556\n",
              "Finland                 5.448705\n",
              "EIRE                    5.911077\n",
              "Norway                  6.012026\n",
              "Canada                  6.030331\n",
              "Cyprus                  6.302363\n",
              "Portugal                8.582976\n",
              "Hong Kong              42.505208\n",
              "Singapore             109.645808"
            ]
          },
          "metadata": {
            "tags": []
          },
          "execution_count": 11
        }
      ]
    },
    {
      "cell_type": "code",
      "metadata": {
        "colab": {
          "base_uri": "https://localhost:8080/",
          "height": 1000
        },
        "id": "ozAolOx2xrP0",
        "outputId": "a2e97fac-278b-4de8-eda1-371b5d3a8a51"
      },
      "source": [
        "#average Quantity by country\n",
        "df[['Quantity','Country']].groupby('Country').mean().sort_values(by=['Quantity'])"
      ],
      "execution_count": null,
      "outputs": [
        {
          "output_type": "execute_result",
          "data": {
            "text/html": [
              "<div>\n",
              "<style scoped>\n",
              "    .dataframe tbody tr th:only-of-type {\n",
              "        vertical-align: middle;\n",
              "    }\n",
              "\n",
              "    .dataframe tbody tr th {\n",
              "        vertical-align: top;\n",
              "    }\n",
              "\n",
              "    .dataframe thead th {\n",
              "        text-align: right;\n",
              "    }\n",
              "</style>\n",
              "<table border=\"1\" class=\"dataframe\">\n",
              "  <thead>\n",
              "    <tr style=\"text-align: right;\">\n",
              "      <th></th>\n",
              "      <th>Quantity</th>\n",
              "    </tr>\n",
              "    <tr>\n",
              "      <th>Country</th>\n",
              "      <th></th>\n",
              "    </tr>\n",
              "  </thead>\n",
              "  <tbody>\n",
              "    <tr>\n",
              "      <th>USA</th>\n",
              "      <td>3.553265</td>\n",
              "    </tr>\n",
              "    <tr>\n",
              "      <th>RSA</th>\n",
              "      <td>6.068966</td>\n",
              "    </tr>\n",
              "    <tr>\n",
              "      <th>Unspecified</th>\n",
              "      <td>7.399103</td>\n",
              "    </tr>\n",
              "    <tr>\n",
              "      <th>Malta</th>\n",
              "      <td>7.433071</td>\n",
              "    </tr>\n",
              "    <tr>\n",
              "      <th>Saudi Arabia</th>\n",
              "      <td>7.500000</td>\n",
              "    </tr>\n",
              "    <tr>\n",
              "      <th>European Community</th>\n",
              "      <td>8.147541</td>\n",
              "    </tr>\n",
              "    <tr>\n",
              "      <th>Lebanon</th>\n",
              "      <td>8.577778</td>\n",
              "    </tr>\n",
              "    <tr>\n",
              "      <th>United Kingdom</th>\n",
              "      <td>8.605486</td>\n",
              "    </tr>\n",
              "    <tr>\n",
              "      <th>Italy</th>\n",
              "      <td>9.961395</td>\n",
              "    </tr>\n",
              "    <tr>\n",
              "      <th>Cyprus</th>\n",
              "      <td>10.155949</td>\n",
              "    </tr>\n",
              "    <tr>\n",
              "      <th>Spain</th>\n",
              "      <td>10.589814</td>\n",
              "    </tr>\n",
              "    <tr>\n",
              "      <th>Portugal</th>\n",
              "      <td>10.651745</td>\n",
              "    </tr>\n",
              "    <tr>\n",
              "      <th>Greece</th>\n",
              "      <td>10.657534</td>\n",
              "    </tr>\n",
              "    <tr>\n",
              "      <th>Poland</th>\n",
              "      <td>10.712610</td>\n",
              "    </tr>\n",
              "    <tr>\n",
              "      <th>Brazil</th>\n",
              "      <td>11.125000</td>\n",
              "    </tr>\n",
              "    <tr>\n",
              "      <th>Belgium</th>\n",
              "      <td>11.189947</td>\n",
              "    </tr>\n",
              "    <tr>\n",
              "      <th>Austria</th>\n",
              "      <td>12.037406</td>\n",
              "    </tr>\n",
              "    <tr>\n",
              "      <th>Germany</th>\n",
              "      <td>12.369458</td>\n",
              "    </tr>\n",
              "    <tr>\n",
              "      <th>Channel Islands</th>\n",
              "      <td>12.505277</td>\n",
              "    </tr>\n",
              "    <tr>\n",
              "      <th>France</th>\n",
              "      <td>12.911067</td>\n",
              "    </tr>\n",
              "    <tr>\n",
              "      <th>Iceland</th>\n",
              "      <td>13.505495</td>\n",
              "    </tr>\n",
              "    <tr>\n",
              "      <th>Bahrain</th>\n",
              "      <td>13.684211</td>\n",
              "    </tr>\n",
              "    <tr>\n",
              "      <th>United Arab Emirates</th>\n",
              "      <td>14.441176</td>\n",
              "    </tr>\n",
              "    <tr>\n",
              "      <th>Israel</th>\n",
              "      <td>14.656566</td>\n",
              "    </tr>\n",
              "    <tr>\n",
              "      <th>Switzerland</th>\n",
              "      <td>15.147353</td>\n",
              "    </tr>\n",
              "    <tr>\n",
              "      <th>Finland</th>\n",
              "      <td>15.346763</td>\n",
              "    </tr>\n",
              "    <tr>\n",
              "      <th>Hong Kong</th>\n",
              "      <td>16.559028</td>\n",
              "    </tr>\n",
              "    <tr>\n",
              "      <th>EIRE</th>\n",
              "      <td>17.403245</td>\n",
              "    </tr>\n",
              "    <tr>\n",
              "      <th>Norway</th>\n",
              "      <td>17.722836</td>\n",
              "    </tr>\n",
              "    <tr>\n",
              "      <th>Canada</th>\n",
              "      <td>18.298013</td>\n",
              "    </tr>\n",
              "    <tr>\n",
              "      <th>Lithuania</th>\n",
              "      <td>18.628571</td>\n",
              "    </tr>\n",
              "    <tr>\n",
              "      <th>Czech Republic</th>\n",
              "      <td>19.733333</td>\n",
              "    </tr>\n",
              "    <tr>\n",
              "      <th>Denmark</th>\n",
              "      <td>21.048843</td>\n",
              "    </tr>\n",
              "    <tr>\n",
              "      <th>Singapore</th>\n",
              "      <td>22.855895</td>\n",
              "    </tr>\n",
              "    <tr>\n",
              "      <th>Australia</th>\n",
              "      <td>66.444003</td>\n",
              "    </tr>\n",
              "    <tr>\n",
              "      <th>Japan</th>\n",
              "      <td>70.441341</td>\n",
              "    </tr>\n",
              "    <tr>\n",
              "      <th>Sweden</th>\n",
              "      <td>77.136364</td>\n",
              "    </tr>\n",
              "    <tr>\n",
              "      <th>Netherlands</th>\n",
              "      <td>84.406580</td>\n",
              "    </tr>\n",
              "  </tbody>\n",
              "</table>\n",
              "</div>"
            ],
            "text/plain": [
              "                       Quantity\n",
              "Country                        \n",
              "USA                    3.553265\n",
              "RSA                    6.068966\n",
              "Unspecified            7.399103\n",
              "Malta                  7.433071\n",
              "Saudi Arabia           7.500000\n",
              "European Community     8.147541\n",
              "Lebanon                8.577778\n",
              "United Kingdom         8.605486\n",
              "Italy                  9.961395\n",
              "Cyprus                10.155949\n",
              "Spain                 10.589814\n",
              "Portugal              10.651745\n",
              "Greece                10.657534\n",
              "Poland                10.712610\n",
              "Brazil                11.125000\n",
              "Belgium               11.189947\n",
              "Austria               12.037406\n",
              "Germany               12.369458\n",
              "Channel Islands       12.505277\n",
              "France                12.911067\n",
              "Iceland               13.505495\n",
              "Bahrain               13.684211\n",
              "United Arab Emirates  14.441176\n",
              "Israel                14.656566\n",
              "Switzerland           15.147353\n",
              "Finland               15.346763\n",
              "Hong Kong             16.559028\n",
              "EIRE                  17.403245\n",
              "Norway                17.722836\n",
              "Canada                18.298013\n",
              "Lithuania             18.628571\n",
              "Czech Republic        19.733333\n",
              "Denmark               21.048843\n",
              "Singapore             22.855895\n",
              "Australia             66.444003\n",
              "Japan                 70.441341\n",
              "Sweden                77.136364\n",
              "Netherlands           84.406580"
            ]
          },
          "metadata": {
            "tags": []
          },
          "execution_count": 12
        }
      ]
    },
    {
      "cell_type": "code",
      "metadata": {
        "id": "YhKkxFgKlLU0",
        "colab": {
          "base_uri": "https://localhost:8080/"
        },
        "outputId": "6efce94e-0a2e-436e-fbde-662d150923e4"
      },
      "source": [
        "df.info()"
      ],
      "execution_count": null,
      "outputs": [
        {
          "output_type": "stream",
          "text": [
            "<class 'pandas.core.frame.DataFrame'>\n",
            "RangeIndex: 541909 entries, 0 to 541908\n",
            "Data columns (total 8 columns):\n",
            " #   Column       Non-Null Count   Dtype         \n",
            "---  ------       --------------   -----         \n",
            " 0   InvoiceNo    541909 non-null  object        \n",
            " 1   StockCode    541909 non-null  object        \n",
            " 2   Description  540455 non-null  object        \n",
            " 3   Quantity     541909 non-null  int64         \n",
            " 4   InvoiceDate  541909 non-null  datetime64[ns]\n",
            " 5   UnitPrice    541909 non-null  float64       \n",
            " 6   CustomerID   406829 non-null  float64       \n",
            " 7   Country      541909 non-null  object        \n",
            "dtypes: datetime64[ns](1), float64(2), int64(1), object(4)\n",
            "memory usage: 33.1+ MB\n"
          ],
          "name": "stdout"
        }
      ]
    },
    {
      "cell_type": "code",
      "metadata": {
        "id": "tFG9T1q_lOJF",
        "colab": {
          "base_uri": "https://localhost:8080/"
        },
        "outputId": "acf45396-6469-4d66-c218-428e4e631749"
      },
      "source": [
        "#Appears to be some nulls in CustomerID and Description\n",
        "df.isna().sum()"
      ],
      "execution_count": null,
      "outputs": [
        {
          "output_type": "execute_result",
          "data": {
            "text/plain": [
              "InvoiceNo           0\n",
              "StockCode           0\n",
              "Description      1454\n",
              "Quantity            0\n",
              "InvoiceDate         0\n",
              "UnitPrice           0\n",
              "CustomerID     135080\n",
              "Country             0\n",
              "dtype: int64"
            ]
          },
          "metadata": {
            "tags": []
          },
          "execution_count": 14
        }
      ]
    },
    {
      "cell_type": "code",
      "metadata": {
        "id": "V6ZGidU6lRak"
      },
      "source": [
        "#Drop these rows from the dataset\n",
        "df = df.dropna()"
      ],
      "execution_count": null,
      "outputs": []
    },
    {
      "cell_type": "code",
      "metadata": {
        "id": "oIpi7D1avZXl",
        "colab": {
          "base_uri": "https://localhost:8080/"
        },
        "outputId": "0e084a83-e475-42e2-eb1d-5af3b3f5384e"
      },
      "source": [
        "#Number of unique customers\n",
        "df['CustomerID'].nunique()"
      ],
      "execution_count": null,
      "outputs": [
        {
          "output_type": "execute_result",
          "data": {
            "text/plain": [
              "4372"
            ]
          },
          "metadata": {
            "tags": []
          },
          "execution_count": 16
        }
      ]
    },
    {
      "cell_type": "code",
      "metadata": {
        "colab": {
          "base_uri": "https://localhost:8080/"
        },
        "id": "ATM9TIKs6mH1",
        "outputId": "f4623f6e-e4f9-4a1a-c6dc-d07a0cfc5dab"
      },
      "source": [
        "df['Description'].nunique()"
      ],
      "execution_count": null,
      "outputs": [
        {
          "output_type": "execute_result",
          "data": {
            "text/plain": [
              "3896"
            ]
          },
          "metadata": {
            "tags": []
          },
          "execution_count": 17
        }
      ]
    },
    {
      "cell_type": "code",
      "metadata": {
        "colab": {
          "base_uri": "https://localhost:8080/"
        },
        "id": "YF29nMXoplDf",
        "outputId": "7e34762e-549e-4523-b37b-25a97e56c089"
      },
      "source": [
        "df.columns"
      ],
      "execution_count": null,
      "outputs": [
        {
          "output_type": "execute_result",
          "data": {
            "text/plain": [
              "Index(['InvoiceNo', 'StockCode', 'Description', 'Quantity', 'InvoiceDate',\n",
              "       'UnitPrice', 'CustomerID', 'Country'],\n",
              "      dtype='object')"
            ]
          },
          "metadata": {
            "tags": []
          },
          "execution_count": 11
        }
      ]
    },
    {
      "cell_type": "code",
      "metadata": {
        "colab": {
          "base_uri": "https://localhost:8080/"
        },
        "id": "0AxStKnZqHnu",
        "outputId": "4e2368ed-2621-476d-d128-eeb996b1ec50"
      },
      "source": [
        "df['Quantity'].describe()"
      ],
      "execution_count": null,
      "outputs": [
        {
          "output_type": "execute_result",
          "data": {
            "text/plain": [
              "count    406829.000000\n",
              "mean         12.061303\n",
              "std         248.693370\n",
              "min      -80995.000000\n",
              "25%           2.000000\n",
              "50%           5.000000\n",
              "75%          12.000000\n",
              "max       80995.000000\n",
              "Name: Quantity, dtype: float64"
            ]
          },
          "metadata": {
            "tags": []
          },
          "execution_count": 12
        }
      ]
    },
    {
      "cell_type": "code",
      "metadata": {
        "colab": {
          "base_uri": "https://localhost:8080/"
        },
        "id": "kNkXt5X0qT4_",
        "outputId": "43cc97cc-1eca-4578-aedd-854612cd4401"
      },
      "source": [
        "df['UnitPrice'].describe()"
      ],
      "execution_count": null,
      "outputs": [
        {
          "output_type": "execute_result",
          "data": {
            "text/plain": [
              "count    406829.000000\n",
              "mean          3.460471\n",
              "std          69.315162\n",
              "min           0.000000\n",
              "25%           1.250000\n",
              "50%           1.950000\n",
              "75%           3.750000\n",
              "max       38970.000000\n",
              "Name: UnitPrice, dtype: float64"
            ]
          },
          "metadata": {
            "tags": []
          },
          "execution_count": 13
        }
      ]
    },
    {
      "cell_type": "code",
      "metadata": {
        "colab": {
          "base_uri": "https://localhost:8080/",
          "height": 296
        },
        "id": "B_rA1FtEKBdN",
        "outputId": "1ffd2efe-c96d-4253-c823-f7980976a640"
      },
      "source": [
        "sns.distplot(df['Quantity'])"
      ],
      "execution_count": null,
      "outputs": [
        {
          "output_type": "execute_result",
          "data": {
            "text/plain": [
              "<matplotlib.axes._subplots.AxesSubplot at 0x7f36de171dd8>"
            ]
          },
          "metadata": {
            "tags": []
          },
          "execution_count": 16
        },
        {
          "output_type": "display_data",
          "data": {
            "image/png": "[encoded data removed]",
            "text/plain": [
              "<Figure size 432x288 with 1 Axes>"
            ]
          },
          "metadata": {
            "tags": [],
            "needs_background": "light"
          }
        }
      ]
    },
    {
      "cell_type": "code",
      "metadata": {
        "colab": {
          "base_uri": "https://localhost:8080/",
          "height": 296
        },
        "id": "4qZwlb6MKZuf",
        "outputId": "de487179-ca6f-472c-c89e-9905681d2819"
      },
      "source": [
        "sns.distplot(df['UnitPrice'])"
      ],
      "execution_count": null,
      "outputs": [
        {
          "output_type": "execute_result",
          "data": {
            "text/plain": [
              "<matplotlib.axes._subplots.AxesSubplot at 0x7f36de171780>"
            ]
          },
          "metadata": {
            "tags": []
          },
          "execution_count": 17
        },
        {
          "output_type": "display_data",
          "data": {
            "image/png": "[encoded data removed]",
            "text/plain": [
              "<Figure size 432x288 with 1 Axes>"
            ]
          },
          "metadata": {
            "tags": [],
            "needs_background": "light"
          }
        }
      ]
    },
    {
      "cell_type": "code",
      "metadata": {
        "colab": {
          "base_uri": "https://localhost:8080/",
          "height": 376
        },
        "id": "Z1z1H-lRK-MA",
        "outputId": "f8c3d7c0-d70d-4cfe-8298-03eb7b612cdf"
      },
      "source": [
        "plt.figure(figsize=(20,6))\n",
        "sns.boxplot(x='Country',y='Quantity',data=df)"
      ],
      "execution_count": null,
      "outputs": [
        {
          "output_type": "execute_result",
          "data": {
            "text/plain": [
              "<matplotlib.axes._subplots.AxesSubplot at 0x7f36ce838be0>"
            ]
          },
          "metadata": {
            "tags": []
          },
          "execution_count": 22
        },
        {
          "output_type": "display_data",
          "data": {
            "image/png": "[encoded data removed]",
            "text/plain": [
              "<Figure size 1440x432 with 1 Axes>"
            ]
          },
          "metadata": {
            "tags": [],
            "needs_background": "light"
          }
        }
      ]
    },
    {
      "cell_type": "code",
      "metadata": {
        "colab": {
          "base_uri": "https://localhost:8080/",
          "height": 378
        },
        "id": "_h19-2pVMCxy",
        "outputId": "bbcaa597-0b11-4ab7-df1c-3138d4ef4e15"
      },
      "source": [
        "plt.figure(figsize=(20,6))\n",
        "sns.boxplot(x='Country',y='UnitPrice',data=df)"
      ],
      "execution_count": null,
      "outputs": [
        {
          "output_type": "execute_result",
          "data": {
            "text/plain": [
              "<matplotlib.axes._subplots.AxesSubplot at 0x7f36ce505358>"
            ]
          },
          "metadata": {
            "tags": []
          },
          "execution_count": 23
        },
        {
          "output_type": "display_data",
          "data": {
            "image/png": "[encoded data removed]",
            "text/plain": [
              "<Figure size 1440x432 with 1 Axes>"
            ]
          },
          "metadata": {
            "tags": [],
            "needs_background": "light"
          }
        }
      ]
    },
    {
      "cell_type": "code",
      "metadata": {
        "colab": {
          "base_uri": "https://localhost:8080/",
          "height": 394
        },
        "id": "zVpIS328MJkl",
        "outputId": "f8660c5f-5e51-4cb0-8f61-28ac1ee77dee"
      },
      "source": [
        "df[['Country','InvoiceNo']].groupby('Country').count().plot(kind='bar')"
      ],
      "execution_count": null,
      "outputs": [
        {
          "output_type": "execute_result",
          "data": {
            "text/plain": [
              "<matplotlib.axes._subplots.AxesSubplot at 0x7f36c74bb7b8>"
            ]
          },
          "metadata": {
            "tags": []
          },
          "execution_count": 24
        },
        {
          "output_type": "display_data",
          "data": {
            "image/png": "[encoded data removed]",
            "text/plain": [
              "<Figure size 432x288 with 1 Axes>"
            ]
          },
          "metadata": {
            "tags": [],
            "needs_background": "light"
          }
        }
      ]
    },
    {
      "cell_type": "code",
      "metadata": {
        "colab": {
          "base_uri": "https://localhost:8080/",
          "height": 405
        },
        "id": "2UTlBYLbMcjp",
        "outputId": "649e0b54-3307-48cc-a2dc-8626f92ece3e"
      },
      "source": [
        "df[['Country','Quantity']].groupby('Country').sum().plot(kind='bar')"
      ],
      "execution_count": null,
      "outputs": [
        {
          "output_type": "execute_result",
          "data": {
            "text/plain": [
              "<matplotlib.axes._subplots.AxesSubplot at 0x7f36c74bbba8>"
            ]
          },
          "metadata": {
            "tags": []
          },
          "execution_count": 25
        },
        {
          "output_type": "display_data",
          "data": {
            "image/png": "[encoded data removed]",
            "text/plain": [
              "<Figure size 432x288 with 1 Axes>"
            ]
          },
          "metadata": {
            "tags": [],
            "needs_background": "light"
          }
        }
      ]
    },
    {
      "cell_type": "code",
      "metadata": {
        "colab": {
          "base_uri": "https://localhost:8080/",
          "height": 394
        },
        "id": "miKvZYl3MgsC",
        "outputId": "3edbbcc5-957e-4b0a-ed21-bbdb8cf3d83c"
      },
      "source": [
        "df[['Country','UnitPrice']].groupby('Country').mean().plot(kind='bar')"
      ],
      "execution_count": null,
      "outputs": [
        {
          "output_type": "execute_result",
          "data": {
            "text/plain": [
              "<matplotlib.axes._subplots.AxesSubplot at 0x7f36c73494e0>"
            ]
          },
          "metadata": {
            "tags": []
          },
          "execution_count": 26
        },
        {
          "output_type": "display_data",
          "data": {
            "image/png": "[encoded data removed]",
            "text/plain": [
              "<Figure size 432x288 with 1 Axes>"
            ]
          },
          "metadata": {
            "tags": [],
            "needs_background": "light"
          }
        }
      ]
    },
    {
      "cell_type": "code",
      "metadata": {
        "colab": {
          "base_uri": "https://localhost:8080/",
          "height": 436
        },
        "id": "ezsJduMlMqY5",
        "outputId": "694fea49-75b7-4471-8638-a0780e209723"
      },
      "source": [
        "df[['Description','Quantity']].groupby('Description').sum().sort_values(by='Quantity',ascending=False)"
      ],
      "execution_count": null,
      "outputs": [
        {
          "output_type": "execute_result",
          "data": {
            "text/html": [
              "<div>\n",
              "<style scoped>\n",
              "    .dataframe tbody tr th:only-of-type {\n",
              "        vertical-align: middle;\n",
              "    }\n",
              "\n",
              "    .dataframe tbody tr th {\n",
              "        vertical-align: top;\n",
              "    }\n",
              "\n",
              "    .dataframe thead th {\n",
              "        text-align: right;\n",
              "    }\n",
              "</style>\n",
              "<table border=\"1\" class=\"dataframe\">\n",
              "  <thead>\n",
              "    <tr style=\"text-align: right;\">\n",
              "      <th></th>\n",
              "      <th>Quantity</th>\n",
              "    </tr>\n",
              "    <tr>\n",
              "      <th>Description</th>\n",
              "      <th></th>\n",
              "    </tr>\n",
              "  </thead>\n",
              "  <tbody>\n",
              "    <tr>\n",
              "      <th>WORLD WAR 2 GLIDERS ASSTD DESIGNS</th>\n",
              "      <td>53215</td>\n",
              "    </tr>\n",
              "    <tr>\n",
              "      <th>JUMBO BAG RED RETROSPOT</th>\n",
              "      <td>45066</td>\n",
              "    </tr>\n",
              "    <tr>\n",
              "      <th>ASSORTED COLOUR BIRD ORNAMENT</th>\n",
              "      <td>35314</td>\n",
              "    </tr>\n",
              "    <tr>\n",
              "      <th>WHITE HANGING HEART T-LIGHT HOLDER</th>\n",
              "      <td>34147</td>\n",
              "    </tr>\n",
              "    <tr>\n",
              "      <th>PACK OF 72 RETROSPOT CAKE CASES</th>\n",
              "      <td>33409</td>\n",
              "    </tr>\n",
              "    <tr>\n",
              "      <th>...</th>\n",
              "      <td>...</td>\n",
              "    </tr>\n",
              "    <tr>\n",
              "      <th>PINK POODLE HANGING DECORATION</th>\n",
              "      <td>-12</td>\n",
              "    </tr>\n",
              "    <tr>\n",
              "      <th>CRUK Commission</th>\n",
              "      <td>-16</td>\n",
              "    </tr>\n",
              "    <tr>\n",
              "      <th>ASSORTED TUTTI FRUTTI ROUND BOX</th>\n",
              "      <td>-24</td>\n",
              "    </tr>\n",
              "    <tr>\n",
              "      <th>Discount</th>\n",
              "      <td>-1194</td>\n",
              "    </tr>\n",
              "    <tr>\n",
              "      <th>ROTATING SILVER ANGELS T-LIGHT HLDR</th>\n",
              "      <td>-1460</td>\n",
              "    </tr>\n",
              "  </tbody>\n",
              "</table>\n",
              "<p>3896 rows × 1 columns</p>\n",
              "</div>"
            ],
            "text/plain": [
              "                                     Quantity\n",
              "Description                                  \n",
              "WORLD WAR 2 GLIDERS ASSTD DESIGNS       53215\n",
              "JUMBO BAG RED RETROSPOT                 45066\n",
              "ASSORTED COLOUR BIRD ORNAMENT           35314\n",
              "WHITE HANGING HEART T-LIGHT HOLDER      34147\n",
              "PACK OF 72 RETROSPOT CAKE CASES         33409\n",
              "...                                       ...\n",
              "PINK POODLE HANGING DECORATION            -12\n",
              "CRUK Commission                           -16\n",
              "ASSORTED TUTTI FRUTTI ROUND BOX           -24\n",
              "Discount                                -1194\n",
              "ROTATING SILVER ANGELS T-LIGHT HLDR     -1460\n",
              "\n",
              "[3896 rows x 1 columns]"
            ]
          },
          "metadata": {
            "tags": []
          },
          "execution_count": 32
        }
      ]
    },
    {
      "cell_type": "code",
      "metadata": {
        "colab": {
          "base_uri": "https://localhost:8080/",
          "height": 436
        },
        "id": "dtHqRB7KNnFn",
        "outputId": "5cdb8d12-972f-4b40-a80e-832a98e8766b"
      },
      "source": [
        "df[['Description','InvoiceNo']].groupby('Description').count().sort_values(by='InvoiceNo',ascending=False)"
      ],
      "execution_count": null,
      "outputs": [
        {
          "output_type": "execute_result",
          "data": {
            "text/html": [
              "<div>\n",
              "<style scoped>\n",
              "    .dataframe tbody tr th:only-of-type {\n",
              "        vertical-align: middle;\n",
              "    }\n",
              "\n",
              "    .dataframe tbody tr th {\n",
              "        vertical-align: top;\n",
              "    }\n",
              "\n",
              "    .dataframe thead th {\n",
              "        text-align: right;\n",
              "    }\n",
              "</style>\n",
              "<table border=\"1\" class=\"dataframe\">\n",
              "  <thead>\n",
              "    <tr style=\"text-align: right;\">\n",
              "      <th></th>\n",
              "      <th>InvoiceNo</th>\n",
              "    </tr>\n",
              "    <tr>\n",
              "      <th>Description</th>\n",
              "      <th></th>\n",
              "    </tr>\n",
              "  </thead>\n",
              "  <tbody>\n",
              "    <tr>\n",
              "      <th>WHITE HANGING HEART T-LIGHT HOLDER</th>\n",
              "      <td>2070</td>\n",
              "    </tr>\n",
              "    <tr>\n",
              "      <th>REGENCY CAKESTAND 3 TIER</th>\n",
              "      <td>1905</td>\n",
              "    </tr>\n",
              "    <tr>\n",
              "      <th>JUMBO BAG RED RETROSPOT</th>\n",
              "      <td>1662</td>\n",
              "    </tr>\n",
              "    <tr>\n",
              "      <th>ASSORTED COLOUR BIRD ORNAMENT</th>\n",
              "      <td>1418</td>\n",
              "    </tr>\n",
              "    <tr>\n",
              "      <th>PARTY BUNTING</th>\n",
              "      <td>1416</td>\n",
              "    </tr>\n",
              "    <tr>\n",
              "      <th>...</th>\n",
              "      <td>...</td>\n",
              "    </tr>\n",
              "    <tr>\n",
              "      <th>BLUE NEW BAROQUE FLOCK CANDLESTICK</th>\n",
              "      <td>1</td>\n",
              "    </tr>\n",
              "    <tr>\n",
              "      <th>IVORY SHELL HEART EARRINGS</th>\n",
              "      <td>1</td>\n",
              "    </tr>\n",
              "    <tr>\n",
              "      <th>BLUE PAINTED KASHMIRI CHAIR</th>\n",
              "      <td>1</td>\n",
              "    </tr>\n",
              "    <tr>\n",
              "      <th>IVORY PANTRY HANGING LAMP</th>\n",
              "      <td>1</td>\n",
              "    </tr>\n",
              "    <tr>\n",
              "      <th>MINT DINER CLOCK</th>\n",
              "      <td>1</td>\n",
              "    </tr>\n",
              "  </tbody>\n",
              "</table>\n",
              "<p>3896 rows × 1 columns</p>\n",
              "</div>"
            ],
            "text/plain": [
              "                                    InvoiceNo\n",
              "Description                                  \n",
              "WHITE HANGING HEART T-LIGHT HOLDER       2070\n",
              "REGENCY CAKESTAND 3 TIER                 1905\n",
              "JUMBO BAG RED RETROSPOT                  1662\n",
              "ASSORTED COLOUR BIRD ORNAMENT            1418\n",
              "PARTY BUNTING                            1416\n",
              "...                                       ...\n",
              "BLUE NEW BAROQUE FLOCK CANDLESTICK          1\n",
              "IVORY SHELL HEART EARRINGS                  1\n",
              "BLUE PAINTED KASHMIRI CHAIR                 1\n",
              "IVORY PANTRY HANGING LAMP                   1\n",
              "MINT DINER CLOCK                            1\n",
              "\n",
              "[3896 rows x 1 columns]"
            ]
          },
          "metadata": {
            "tags": []
          },
          "execution_count": 33
        }
      ]
    },
    {
      "cell_type": "code",
      "metadata": {
        "colab": {
          "base_uri": "https://localhost:8080/",
          "height": 436
        },
        "id": "n-wUVehwNvKN",
        "outputId": "446647b5-9e0f-48f0-b867-452e2f3498d1"
      },
      "source": [
        "df[['Description','UnitPrice']].groupby('Description').mean().sort_values(by='UnitPrice',ascending=False)"
      ],
      "execution_count": null,
      "outputs": [
        {
          "output_type": "execute_result",
          "data": {
            "text/html": [
              "<div>\n",
              "<style scoped>\n",
              "    .dataframe tbody tr th:only-of-type {\n",
              "        vertical-align: middle;\n",
              "    }\n",
              "\n",
              "    .dataframe tbody tr th {\n",
              "        vertical-align: top;\n",
              "    }\n",
              "\n",
              "    .dataframe thead th {\n",
              "        text-align: right;\n",
              "    }\n",
              "</style>\n",
              "<table border=\"1\" class=\"dataframe\">\n",
              "  <thead>\n",
              "    <tr style=\"text-align: right;\">\n",
              "      <th></th>\n",
              "      <th>UnitPrice</th>\n",
              "    </tr>\n",
              "    <tr>\n",
              "      <th>Description</th>\n",
              "      <th></th>\n",
              "    </tr>\n",
              "  </thead>\n",
              "  <tbody>\n",
              "    <tr>\n",
              "      <th>DOTCOM POSTAGE</th>\n",
              "      <td>744.147500</td>\n",
              "    </tr>\n",
              "    <tr>\n",
              "      <th>PICNIC BASKET WICKER 60 PIECES</th>\n",
              "      <td>649.500000</td>\n",
              "    </tr>\n",
              "    <tr>\n",
              "      <th>CRUK Commission</th>\n",
              "      <td>495.839375</td>\n",
              "    </tr>\n",
              "    <tr>\n",
              "      <th>Manual</th>\n",
              "      <td>334.425634</td>\n",
              "    </tr>\n",
              "    <tr>\n",
              "      <th>REGENCY MIRROR WITH SHUTTERS</th>\n",
              "      <td>156.428571</td>\n",
              "    </tr>\n",
              "    <tr>\n",
              "      <th>...</th>\n",
              "      <td>...</td>\n",
              "    </tr>\n",
              "    <tr>\n",
              "      <th>LETTER SHAPE PENCIL SHARPENER</th>\n",
              "      <td>0.094634</td>\n",
              "    </tr>\n",
              "    <tr>\n",
              "      <th>HOUSE SHAPE PENCIL SHARPENER</th>\n",
              "      <td>0.090208</td>\n",
              "    </tr>\n",
              "    <tr>\n",
              "      <th>CARTOON  PENCIL SHARPENERS</th>\n",
              "      <td>0.073200</td>\n",
              "    </tr>\n",
              "    <tr>\n",
              "      <th>POPART WOODEN PENCILS ASST</th>\n",
              "      <td>0.043478</td>\n",
              "    </tr>\n",
              "    <tr>\n",
              "      <th>PADS TO MATCH ALL CUSHIONS</th>\n",
              "      <td>0.000750</td>\n",
              "    </tr>\n",
              "  </tbody>\n",
              "</table>\n",
              "<p>3896 rows × 1 columns</p>\n",
              "</div>"
            ],
            "text/plain": [
              "                                 UnitPrice\n",
              "Description                               \n",
              "DOTCOM POSTAGE                  744.147500\n",
              "PICNIC BASKET WICKER 60 PIECES  649.500000\n",
              "CRUK Commission                 495.839375\n",
              "Manual                          334.425634\n",
              "REGENCY MIRROR WITH SHUTTERS    156.428571\n",
              "...                                    ...\n",
              "LETTER SHAPE PENCIL SHARPENER     0.094634\n",
              "HOUSE SHAPE PENCIL SHARPENER      0.090208\n",
              "CARTOON  PENCIL SHARPENERS        0.073200\n",
              "POPART WOODEN PENCILS ASST        0.043478\n",
              "PADS TO MATCH ALL CUSHIONS        0.000750\n",
              "\n",
              "[3896 rows x 1 columns]"
            ]
          },
          "metadata": {
            "tags": []
          },
          "execution_count": 34
        }
      ]
    },
    {
      "cell_type": "markdown",
      "metadata": {
        "id": "T7EJAIfrlbSa"
      },
      "source": [
        "# Product Recommender"
      ]
    },
    {
      "cell_type": "code",
      "metadata": {
        "id": "Aq36qjT8mXxj"
      },
      "source": [
        "#Break unique customers into a train and validation set\n",
        "customers_train, customers_test = train_test_split(df['CustomerID'].unique(),test_size=0.1,random_state=42)\n",
        "\n",
        "#Create train and test datasets\n",
        "df_train = df[df['CustomerID'].isin(customers_train)]\n",
        "df_test = df[df['CustomerID'].isin(customers_test)]"
      ],
      "execution_count": null,
      "outputs": []
    },
    {
      "cell_type": "code",
      "metadata": {
        "id": "LxbEDJBCvuD2",
        "colab": {
          "base_uri": "https://localhost:8080/"
        },
        "outputId": "6cea6b06-439d-42fb-e64e-2ecc524e8e0d"
      },
      "source": [
        "print(len(customers_train))\n",
        "print(len(customers_test))"
      ],
      "execution_count": null,
      "outputs": [
        {
          "output_type": "stream",
          "text": [
            "3934\n",
            "438\n"
          ],
          "name": "stdout"
        }
      ]
    },
    {
      "cell_type": "code",
      "metadata": {
        "id": "Sp08o7gCljvI"
      },
      "source": [
        "#For each customer, create sequence of purchases - training set\n",
        "purchase_list_train = []\n",
        "\n",
        "for customer in customers_train:\n",
        "  purch_list = df_train[df_train['CustomerID']==customer]['Description'].tolist()\n",
        "  purchase_list_train.append(purch_list)"
      ],
      "execution_count": null,
      "outputs": []
    },
    {
      "cell_type": "code",
      "metadata": {
        "id": "4aF9RdjkE5sB",
        "colab": {
          "base_uri": "https://localhost:8080/"
        },
        "outputId": "51d83f5b-90ad-4e75-8a28-8e4afa279d10"
      },
      "source": [
        "#Quick validation: check the first customer in customers_train\n",
        "customers_train[0]"
      ],
      "execution_count": null,
      "outputs": [
        {
          "output_type": "execute_result",
          "data": {
            "text/plain": [
              "17007.0"
            ]
          },
          "metadata": {
            "tags": []
          },
          "execution_count": 16
        }
      ]
    },
    {
      "cell_type": "code",
      "metadata": {
        "id": "9MUp9QR6Giqe",
        "colab": {
          "base_uri": "https://localhost:8080/"
        },
        "outputId": "6f39c9ee-212c-44ec-a352-6e2c273f78a1"
      },
      "source": [
        "#Validate the number of instances in the training set for customer 17007\n",
        "len(df_train[df_train['CustomerID']==17007.0])"
      ],
      "execution_count": null,
      "outputs": [
        {
          "output_type": "execute_result",
          "data": {
            "text/plain": [
              "53"
            ]
          },
          "metadata": {
            "tags": []
          },
          "execution_count": 17
        }
      ]
    },
    {
      "cell_type": "code",
      "metadata": {
        "id": "_EbfA2ZaElSW",
        "colab": {
          "base_uri": "https://localhost:8080/"
        },
        "outputId": "1dd7b72c-4968-4e9e-821c-5551f8ab4865"
      },
      "source": [
        "#Validate the number of purchases in the purchases list for customer 17007: matches above\n",
        "len(purchase_list_train[0])"
      ],
      "execution_count": null,
      "outputs": [
        {
          "output_type": "execute_result",
          "data": {
            "text/plain": [
              "53"
            ]
          },
          "metadata": {
            "tags": []
          },
          "execution_count": 18
        }
      ]
    },
    {
      "cell_type": "code",
      "metadata": {
        "id": "LfOv9VKHTbjs",
        "colab": {
          "base_uri": "https://localhost:8080/"
        },
        "outputId": "c96cd6f8-d08e-4c58-b61b-a53f9d7d32ff"
      },
      "source": [
        "purchase_list_train[0]"
      ],
      "execution_count": null,
      "outputs": [
        {
          "output_type": "execute_result",
          "data": {
            "text/plain": [
              "['T-LIGHT GLASS FLUTED ANTIQUE',\n",
              " 'ANTIQUE GLASS HEART DECORATION ',\n",
              " 'BLUE DRAGONFLY HELICOPTER',\n",
              " 'STRING OF STARS CARD HOLDER',\n",
              " '4 VANILLA BOTANICAL CANDLES',\n",
              " 'HAND WARMER BABUSHKA DESIGN',\n",
              " 'BIRD HOUSE HOT WATER BOTTLE',\n",
              " 'CHARLIE + LOLA RED HOT WATER BOTTLE',\n",
              " 'SET OF 2 WOODEN MARKET CRATES',\n",
              " 'OFFICE MUG WARMER POLKADOT',\n",
              " 'GREEN POLKADOT PLATE ',\n",
              " 'GREEN POLKADOT BOWL',\n",
              " 'T-LIGHT GLASS FLUTED ANTIQUE',\n",
              " 'IVORY GIANT GARDEN THERMOMETER',\n",
              " 'RED RETROSPOT PICNIC BAG',\n",
              " 'GLASS JAR ENGLISH CONFECTIONERY',\n",
              " 'COLOUR GLASS T-LIGHT HOLDER HANGING',\n",
              " 'PAPER BUNTING WHITE LACE',\n",
              " 'CHILDRENS CUTLERY SPACEBOY ',\n",
              " 'FELTCRAFT PRINCESS LOLA DOLL',\n",
              " 'FELTCRAFT PRINCESS CHARLOTTE DOLL',\n",
              " 'FELTCRAFT HAIRBAND PINK AND BLUE',\n",
              " 'DINOSAUR KEYRINGS ASSORTED',\n",
              " 'FELTCRAFT DOLL ROSIE',\n",
              " 'BAKING SET SPACEBOY DESIGN',\n",
              " '10 COLOUR SPACEBOY PEN',\n",
              " 'BREAD BIN DINER STYLE RED ',\n",
              " 'SET 6 PAPER TABLE LANTERN HEARTS ',\n",
              " '12 PENCILS TALL TUBE POSY',\n",
              " 'CAKE STAND WHITE TWO TIER LACE',\n",
              " 'SET OF 9 HEART SHAPED BALLOONS',\n",
              " 'PINK  HEART CONFETTI IN TUBE',\n",
              " 'LARGE IVORY HEART WALL ORGANISER',\n",
              " 'WOODEN CROQUET GARDEN SET',\n",
              " 'RED RETROSPOT PLATE ',\n",
              " 'RED RETROSPOT BOWL',\n",
              " 'RED RETROSPOT CUP',\n",
              " 'FANCY FONTS BIRTHDAY WRAP',\n",
              " 'FANCY FONT BIRTHDAY CARD, ',\n",
              " 'RETROSPOT TEA SET CERAMIC 11 PC ',\n",
              " 'CHILDRENS CUTLERY RETROSPOT RED ',\n",
              " 'CARD BILLBOARD FONT',\n",
              " 'RED SPOT PAPER GIFT BAG',\n",
              " 'RED RETROSPOT WRAP ',\n",
              " '12 PENCILS TALL TUBE SKULLS',\n",
              " 'RED METAL BOX TOP SECRET',\n",
              " 'ROTATING LEAVES T-LIGHT HOLDER',\n",
              " 'STRING OF STARS CARD HOLDER',\n",
              " 'ANTIQUE SILVER T-LIGHT GLASS',\n",
              " 'DINOSAUR KEYRINGS ASSORTED',\n",
              " 'CHILDS BREAKFAST SET CIRCUS PARADE',\n",
              " 'CARD BIRTHDAY COWBOY',\n",
              " 'ZINC T-LIGHT HOLDER STAR LARGE']"
            ]
          },
          "metadata": {
            "tags": []
          },
          "execution_count": 19
        }
      ]
    },
    {
      "cell_type": "code",
      "metadata": {
        "id": "p7BMM0rUx4Ug"
      },
      "source": [
        "#For each customer, create sequence of purchases - test set\n",
        "purchase_list_test = []\n",
        "\n",
        "for customer in customers_test:\n",
        "  purch_list = df_test[df_test['CustomerID']==customer]['Description'].tolist()\n",
        "  purchase_list_test.append(purch_list)"
      ],
      "execution_count": null,
      "outputs": []
    },
    {
      "cell_type": "code",
      "metadata": {
        "id": "BBMwh0QyyqhS"
      },
      "source": [
        "#Train a word2vec model\n",
        "#Starting with a vector size of 10\n",
        "product_model = gensim.models.Word2Vec(purchase_list_train,min_count=1,size=100,window=10,seed=7)"
      ],
      "execution_count": null,
      "outputs": []
    },
    {
      "cell_type": "code",
      "metadata": {
        "id": "ZkEYy3uxDfSJ"
      },
      "source": [
        "#Define a function to give the n-most similar products based a single description\n",
        "#The use case here is to recommend products to the consumer based on their most recent purchase\n",
        "def n_most_similar(Description,n):\n",
        "  return product_model.most_similar(positive=Description)[:n]"
      ],
      "execution_count": null,
      "outputs": []
    },
    {
      "cell_type": "code",
      "metadata": {
        "id": "EJ4U9mNV6cIM",
        "colab": {
          "base_uri": "https://localhost:8080/"
        },
        "outputId": "926a6b1a-1945-46b3-9c17-4360c07eaab6"
      },
      "source": [
        "#Find 5 most similar products to first customer in training set's most recent purchase\n",
        "n_most_similar(purchase_list_train[0][-1],5)"
      ],
      "execution_count": null,
      "outputs": [
        {
          "output_type": "execute_result",
          "data": {
            "text/plain": [
              "[('ZINC T-LIGHT HOLDER STARS SMALL', 0.9750351309776306),\n",
              " ('ZINC HEART FLOWER T-LIGHT HOLDER', 0.9485046863555908),\n",
              " ('ZINC WILLIE WINKIE  CANDLE STICK', 0.925857424736023),\n",
              " ('LARGE IVORY HEART WALL ORGANISER', 0.9240706562995911),\n",
              " ('SILVER HANGING T-LIGHT HOLDER', 0.9143853187561035)]"
            ]
          },
          "metadata": {
            "tags": []
          },
          "execution_count": 23
        }
      ]
    },
    {
      "cell_type": "code",
      "metadata": {
        "id": "DewJQXD50lbC"
      },
      "source": [
        "#Define a function to give the n-most similar products based on ALL products a consumer has purchased\n",
        "#The use case here is to recommend products to the consumer based on ALL purchases that they have made\n",
        "def n_most_similar_list(purchase_list,n):\n",
        "    product_vec = []\n",
        "    for i in purchase_list:\n",
        "      vec = product_model[i]\n",
        "      product_vec.append(vec)\n",
        "      mean_vec = np.mean(product_vec, axis=0)\n",
        "\n",
        "    return product_model.similar_by_vector(mean_vec,n)"
      ],
      "execution_count": null,
      "outputs": []
    },
    {
      "cell_type": "code",
      "metadata": {
        "colab": {
          "base_uri": "https://localhost:8080/"
        },
        "id": "rOVHpCPx2vHl",
        "outputId": "c22dd378-4240-4ce8-8d1c-8e6024a5c4a0"
      },
      "source": [
        "#Find 5 most similar products to first customer in training set's entire purchasing history\n",
        "n_most_similar_list(purchase_list_train[0],5)"
      ],
      "execution_count": null,
      "outputs": [
        {
          "output_type": "execute_result",
          "data": {
            "text/plain": [
              "[(\"DOCTOR'S BAG SOFT TOY\", 0.9255819320678711),\n",
              " ('GIFT BAG BIRTHDAY', 0.9243654608726501),\n",
              " ('CANDY SPOT HAND BAG', 0.921528160572052),\n",
              " ('PINK PARTY SUNGLASSES', 0.9207194447517395),\n",
              " ('PARTY CONES CARNIVAL ASSORTED', 0.920302152633667)]"
            ]
          },
          "metadata": {
            "tags": []
          },
          "execution_count": 25
        }
      ]
    },
    {
      "cell_type": "code",
      "metadata": {
        "colab": {
          "base_uri": "https://localhost:8080/"
        },
        "id": "GbuaZC47-SfL",
        "outputId": "2d9ac82e-8598-40bc-bfa6-34c4d4cae645"
      },
      "source": [
        "#Let's examine our two functions to see how they're working\n",
        "\n",
        "#List of purchases for second customer in our training set\n",
        "list_of_purchases = purchase_list_train[1]\n",
        "\n",
        "print('Description of products purchased by this customer:\\n', list_of_purchases,'\\n')\n",
        "\n",
        "print('Five top recommended products based on most recent purchase:\\n', n_most_similar(list_of_purchases[-1],5),'\\n')\n",
        "\n",
        "print('Five top recommended products based on all purchases:\\n', n_most_similar_list(list_of_purchases,5),'\\n')"
      ],
      "execution_count": null,
      "outputs": [
        {
          "output_type": "stream",
          "text": [
            "Description of products purchased by this customer:\n",
            " ['ALARM CLOCK BAKELIKE RED ', 'ALARM CLOCK BAKELIKE CHOCOLATE', 'ANTIQUE SILVER T-LIGHT GLASS'] \n",
            "\n",
            "Five top recommended products based on most recent purchase:\n",
            " [('ANTIQUE SILVER TEA GLASS ENGRAVED', 0.9371315240859985), ('ZINC T-LIGHT HOLDER STAR LARGE', 0.9061539769172668), ('MULTI COLOUR SILVER T-LIGHT HOLDER', 0.9059759378433228), ('SILVER HANGING T-LIGHT HOLDER', 0.9005051255226135), ('T-LIGHT GLASS FLUTED ANTIQUE', 0.898181140422821)] \n",
            "\n",
            "Five top recommended products based on all purchases:\n",
            " [('ALARM CLOCK BAKELIKE IVORY', 0.9624022245407104), ('ALARM CLOCK BAKELIKE GREEN', 0.9478898048400879), ('ALARM CLOCK BAKELIKE RED ', 0.9359858632087708), ('ALARM CLOCK BAKELIKE PINK', 0.933828592300415), ('ALARM CLOCK BAKELIKE CHOCOLATE', 0.9284676909446716)] \n",
            "\n"
          ],
          "name": "stdout"
        }
      ]
    },
    {
      "cell_type": "code",
      "metadata": {
        "id": "ExI_mxQgzg2v",
        "colab": {
          "base_uri": "https://localhost:8080/"
        },
        "outputId": "04fc46c4-324f-4842-a83f-c271ca87e129"
      },
      "source": [
        "#Test similarity of different products\n",
        "product_model.similarity('WHITE HANGING HEART T-LIGHT HOLDER','WHITE METAL LANTERN')"
      ],
      "execution_count": null,
      "outputs": [
        {
          "output_type": "execute_result",
          "data": {
            "text/plain": [
              "0.6493991"
            ]
          },
          "metadata": {
            "tags": []
          },
          "execution_count": 27
        }
      ]
    },
    {
      "cell_type": "code",
      "metadata": {
        "id": "2Z4Q_8gu61XT",
        "colab": {
          "base_uri": "https://localhost:8080/"
        },
        "outputId": "7bce4c80-63bb-45f4-a141-6e4b1ba665ee"
      },
      "source": [
        "#Analogy product finder - potential for a consumer facing product discovery app\n",
        "product_model.most_similar(positive=['PINK PARTY SUNGLASSES'],negative=[\"SILK PURSE BABUSHKA PINK\"])[:5]"
      ],
      "execution_count": null,
      "outputs": [
        {
          "output_type": "execute_result",
          "data": {
            "text/plain": [
              "[('SMALL PARISIENNE HEART PHOTO FRAME ', 0.8574258685112),\n",
              " ('PARISIENNE KEY CABINET ', 0.852778971195221),\n",
              " ('PARISIENNE JEWELLERY DRAWER ', 0.833879828453064),\n",
              " ('LE GRAND TRAY CHIC SET', 0.8250954151153564),\n",
              " ('PARISIENNE SEWING BOX', 0.8183879852294922)]"
            ]
          },
          "metadata": {
            "tags": []
          },
          "execution_count": 93
        }
      ]
    },
    {
      "cell_type": "code",
      "metadata": {
        "id": "_Qqz_RLR8-tZ"
      },
      "source": [
        "#Dimensionality reduction for visualization\n",
        "vector_list = product_model[df_train['Description'].unique().tolist()]"
      ],
      "execution_count": null,
      "outputs": []
    },
    {
      "cell_type": "code",
      "metadata": {
        "id": "K2TLUQVN9dfg",
        "colab": {
          "base_uri": "https://localhost:8080/"
        },
        "outputId": "a7cfb3a8-5431-42b0-91f0-b25495bbc19e"
      },
      "source": [
        "#Reduce the vector list to 2 dimensions for visualization\n",
        "from sklearn.manifold import TSNE\n",
        "data_embed=TSNE(n_components=2, perplexity=50, verbose=2, method='barnes_hut').fit_transform(vector_list)"
      ],
      "execution_count": null,
      "outputs": [
        {
          "output_type": "stream",
          "text": [
            "[t-SNE] Computing 151 nearest neighbors...\n",
            "[t-SNE] Indexed 3865 samples in 0.040s...\n",
            "[t-SNE] Computed neighbors for 3865 samples in 3.557s...\n",
            "[t-SNE] Computed conditional probabilities for sample 1000 / 3865\n",
            "[t-SNE] Computed conditional probabilities for sample 2000 / 3865\n",
            "[t-SNE] Computed conditional probabilities for sample 3000 / 3865\n",
            "[t-SNE] Computed conditional probabilities for sample 3865 / 3865\n",
            "[t-SNE] Mean sigma: 0.130655\n",
            "[t-SNE] Computed conditional probabilities in 0.385s\n",
            "[t-SNE] Iteration 50: error = 76.2081528, gradient norm = 0.0448918 (50 iterations in 3.002s)\n",
            "[t-SNE] Iteration 100: error = 72.8265991, gradient norm = 0.0065684 (50 iterations in 2.805s)\n",
            "[t-SNE] Iteration 150: error = 72.2407837, gradient norm = 0.0006930 (50 iterations in 2.579s)\n",
            "[t-SNE] Iteration 200: error = 72.2374496, gradient norm = 0.0002693 (50 iterations in 2.508s)\n",
            "[t-SNE] Iteration 250: error = 72.2376251, gradient norm = 0.0001424 (50 iterations in 2.514s)\n",
            "[t-SNE] KL divergence after 250 iterations with early exaggeration: 72.237625\n",
            "[t-SNE] Iteration 300: error = 1.6322131, gradient norm = 0.0009958 (50 iterations in 1.888s)\n",
            "[t-SNE] Iteration 350: error = 1.3891286, gradient norm = 0.0003958 (50 iterations in 1.848s)\n",
            "[t-SNE] Iteration 400: error = 1.2994323, gradient norm = 0.0002068 (50 iterations in 1.860s)\n",
            "[t-SNE] Iteration 450: error = 1.2553251, gradient norm = 0.0001405 (50 iterations in 1.868s)\n",
            "[t-SNE] Iteration 500: error = 1.2296009, gradient norm = 0.0001127 (50 iterations in 1.866s)\n",
            "[t-SNE] Iteration 550: error = 1.2143114, gradient norm = 0.0000933 (50 iterations in 1.891s)\n",
            "[t-SNE] Iteration 600: error = 1.2048749, gradient norm = 0.0000825 (50 iterations in 1.904s)\n",
            "[t-SNE] Iteration 650: error = 1.1984644, gradient norm = 0.0000654 (50 iterations in 1.923s)\n",
            "[t-SNE] Iteration 700: error = 1.1939819, gradient norm = 0.0000583 (50 iterations in 1.932s)\n",
            "[t-SNE] Iteration 750: error = 1.1907589, gradient norm = 0.0000520 (50 iterations in 1.925s)\n",
            "[t-SNE] Iteration 800: error = 1.1882882, gradient norm = 0.0000490 (50 iterations in 1.949s)\n",
            "[t-SNE] Iteration 850: error = 1.1861608, gradient norm = 0.0000465 (50 iterations in 1.941s)\n",
            "[t-SNE] Iteration 900: error = 1.1845021, gradient norm = 0.0000418 (50 iterations in 1.936s)\n",
            "[t-SNE] Iteration 950: error = 1.1832688, gradient norm = 0.0000400 (50 iterations in 1.934s)\n",
            "[t-SNE] Iteration 1000: error = 1.1823338, gradient norm = 0.0000368 (50 iterations in 1.950s)\n",
            "[t-SNE] KL divergence after 1000 iterations: 1.182334\n"
          ],
          "name": "stdout"
        }
      ]
    },
    {
      "cell_type": "code",
      "metadata": {
        "id": "gkEAAqQHWsdT"
      },
      "source": [
        "#put the reduced vectors into a dataframe\n",
        "reduced_df = pd.DataFrame(data_embed,columns=['x','y'])\n",
        "vocab = pd.DataFrame(list(product_model.wv.vocab))\n",
        "df_forviz = pd.concat([reduced_df,vocab],axis=1)"
      ],
      "execution_count": null,
      "outputs": []
    },
    {
      "cell_type": "code",
      "metadata": {
        "colab": {
          "base_uri": "https://localhost:8080/"
        },
        "id": "6oErzFMqoTvn",
        "outputId": "78323473-26b1-4ae8-df2f-41decbb6544d"
      },
      "source": [
        "len(vocab)"
      ],
      "execution_count": null,
      "outputs": [
        {
          "output_type": "execute_result",
          "data": {
            "text/plain": [
              "3865"
            ]
          },
          "metadata": {
            "tags": []
          },
          "execution_count": 32
        }
      ]
    },
    {
      "cell_type": "code",
      "metadata": {
        "colab": {
          "base_uri": "https://localhost:8080/"
        },
        "id": "9PMblI3PoWWL",
        "outputId": "87e55cc2-0fa6-4c1c-f7bd-86d1c5401f3a"
      },
      "source": [
        "df_train['Description'].nunique()"
      ],
      "execution_count": null,
      "outputs": [
        {
          "output_type": "execute_result",
          "data": {
            "text/plain": [
              "3865"
            ]
          },
          "metadata": {
            "tags": []
          },
          "execution_count": 33
        }
      ]
    },
    {
      "cell_type": "code",
      "metadata": {
        "colab": {
          "base_uri": "https://localhost:8080/",
          "height": 406
        },
        "id": "wrF_tQG-nm0A",
        "outputId": "a62c0e13-0376-4296-b4a9-239f3c141ca9"
      },
      "source": [
        "df_forviz"
      ],
      "execution_count": null,
      "outputs": [
        {
          "output_type": "execute_result",
          "data": {
            "text/html": [
              "<div>\n",
              "<style scoped>\n",
              "    .dataframe tbody tr th:only-of-type {\n",
              "        vertical-align: middle;\n",
              "    }\n",
              "\n",
              "    .dataframe tbody tr th {\n",
              "        vertical-align: top;\n",
              "    }\n",
              "\n",
              "    .dataframe thead th {\n",
              "        text-align: right;\n",
              "    }\n",
              "</style>\n",
              "<table border=\"1\" class=\"dataframe\">\n",
              "  <thead>\n",
              "    <tr style=\"text-align: right;\">\n",
              "      <th></th>\n",
              "      <th>x</th>\n",
              "      <th>y</th>\n",
              "      <th>0</th>\n",
              "    </tr>\n",
              "  </thead>\n",
              "  <tbody>\n",
              "    <tr>\n",
              "      <th>0</th>\n",
              "      <td>17.082424</td>\n",
              "      <td>30.582113</td>\n",
              "      <td>T-LIGHT GLASS FLUTED ANTIQUE</td>\n",
              "    </tr>\n",
              "    <tr>\n",
              "      <th>1</th>\n",
              "      <td>24.448668</td>\n",
              "      <td>30.485245</td>\n",
              "      <td>ANTIQUE GLASS HEART DECORATION</td>\n",
              "    </tr>\n",
              "    <tr>\n",
              "      <th>2</th>\n",
              "      <td>22.327700</td>\n",
              "      <td>29.435087</td>\n",
              "      <td>BLUE DRAGONFLY HELICOPTER</td>\n",
              "    </tr>\n",
              "    <tr>\n",
              "      <th>3</th>\n",
              "      <td>43.583981</td>\n",
              "      <td>7.779832</td>\n",
              "      <td>STRING OF STARS CARD HOLDER</td>\n",
              "    </tr>\n",
              "    <tr>\n",
              "      <th>4</th>\n",
              "      <td>43.549393</td>\n",
              "      <td>7.628956</td>\n",
              "      <td>4 VANILLA BOTANICAL CANDLES</td>\n",
              "    </tr>\n",
              "    <tr>\n",
              "      <th>...</th>\n",
              "      <td>...</td>\n",
              "      <td>...</td>\n",
              "      <td>...</td>\n",
              "    </tr>\n",
              "    <tr>\n",
              "      <th>3860</th>\n",
              "      <td>-39.348446</td>\n",
              "      <td>1.454987</td>\n",
              "      <td>TEA TIME TEA TOWELS</td>\n",
              "    </tr>\n",
              "    <tr>\n",
              "      <th>3861</th>\n",
              "      <td>-40.775116</td>\n",
              "      <td>2.954615</td>\n",
              "      <td>ASSORTED TUTTI FRUTTI ROUND BOX</td>\n",
              "    </tr>\n",
              "    <tr>\n",
              "      <th>3862</th>\n",
              "      <td>-69.063538</td>\n",
              "      <td>12.484281</td>\n",
              "      <td>DOLPHIN WINDMILL</td>\n",
              "    </tr>\n",
              "    <tr>\n",
              "      <th>3863</th>\n",
              "      <td>-59.585831</td>\n",
              "      <td>10.525442</td>\n",
              "      <td>BELL HEART ANTIQUE GOLD</td>\n",
              "    </tr>\n",
              "    <tr>\n",
              "      <th>3864</th>\n",
              "      <td>-58.259384</td>\n",
              "      <td>5.889133</td>\n",
              "      <td>WHITE CHERRY LIGHTS</td>\n",
              "    </tr>\n",
              "  </tbody>\n",
              "</table>\n",
              "<p>3865 rows × 3 columns</p>\n",
              "</div>"
            ],
            "text/plain": [
              "              x          y                                0\n",
              "0     17.082424  30.582113     T-LIGHT GLASS FLUTED ANTIQUE\n",
              "1     24.448668  30.485245  ANTIQUE GLASS HEART DECORATION \n",
              "2     22.327700  29.435087        BLUE DRAGONFLY HELICOPTER\n",
              "3     43.583981   7.779832      STRING OF STARS CARD HOLDER\n",
              "4     43.549393   7.628956      4 VANILLA BOTANICAL CANDLES\n",
              "...         ...        ...                              ...\n",
              "3860 -39.348446   1.454987             TEA TIME TEA TOWELS \n",
              "3861 -40.775116   2.954615  ASSORTED TUTTI FRUTTI ROUND BOX\n",
              "3862 -69.063538  12.484281                 DOLPHIN WINDMILL\n",
              "3863 -59.585831  10.525442          BELL HEART ANTIQUE GOLD\n",
              "3864 -58.259384   5.889133              WHITE CHERRY LIGHTS\n",
              "\n",
              "[3865 rows x 3 columns]"
            ]
          },
          "metadata": {
            "tags": []
          },
          "execution_count": 34
        }
      ]
    },
    {
      "cell_type": "code",
      "metadata": {
        "colab": {
          "base_uri": "https://localhost:8080/",
          "height": 406
        },
        "id": "sGj1Oi2-mFUB",
        "outputId": "9ae61909-a30c-4bde-a967-79bf437878d6"
      },
      "source": [
        "#Adding features to the dataframe to color the visualization; here is avg unit price for each product\n",
        "product_price_bins = df_train[['Description','UnitPrice']].groupby('Description').mean().reset_index()\n",
        "product_price_bins['Price_Ntile'] = ntile(product_price_bins['UnitPrice'],5)\n",
        "product_price_bins"
      ],
      "execution_count": null,
      "outputs": [
        {
          "output_type": "execute_result",
          "data": {
            "text/html": [
              "<div>\n",
              "<style scoped>\n",
              "    .dataframe tbody tr th:only-of-type {\n",
              "        vertical-align: middle;\n",
              "    }\n",
              "\n",
              "    .dataframe tbody tr th {\n",
              "        vertical-align: top;\n",
              "    }\n",
              "\n",
              "    .dataframe thead th {\n",
              "        text-align: right;\n",
              "    }\n",
              "</style>\n",
              "<table border=\"1\" class=\"dataframe\">\n",
              "  <thead>\n",
              "    <tr style=\"text-align: right;\">\n",
              "      <th></th>\n",
              "      <th>Description</th>\n",
              "      <th>UnitPrice</th>\n",
              "      <th>Price_Ntile</th>\n",
              "    </tr>\n",
              "  </thead>\n",
              "  <tbody>\n",
              "    <tr>\n",
              "      <th>0</th>\n",
              "      <td>4 PURPLE FLOCK DINNER CANDLES</td>\n",
              "      <td>2.330000</td>\n",
              "      <td>2</td>\n",
              "    </tr>\n",
              "    <tr>\n",
              "      <th>1</th>\n",
              "      <td>50'S CHRISTMAS GIFT BAG LARGE</td>\n",
              "      <td>1.247766</td>\n",
              "      <td>1</td>\n",
              "    </tr>\n",
              "    <tr>\n",
              "      <th>2</th>\n",
              "      <td>DOLLY GIRL BEAKER</td>\n",
              "      <td>1.243359</td>\n",
              "      <td>1</td>\n",
              "    </tr>\n",
              "    <tr>\n",
              "      <th>3</th>\n",
              "      <td>I LOVE LONDON MINI BACKPACK</td>\n",
              "      <td>4.137097</td>\n",
              "      <td>3</td>\n",
              "    </tr>\n",
              "    <tr>\n",
              "      <th>4</th>\n",
              "      <td>I LOVE LONDON MINI RUCKSACK</td>\n",
              "      <td>4.150000</td>\n",
              "      <td>3</td>\n",
              "    </tr>\n",
              "    <tr>\n",
              "      <th>...</th>\n",
              "      <td>...</td>\n",
              "      <td>...</td>\n",
              "      <td>...</td>\n",
              "    </tr>\n",
              "    <tr>\n",
              "      <th>3860</th>\n",
              "      <td>ZINC T-LIGHT HOLDER STARS SMALL</td>\n",
              "      <td>0.838939</td>\n",
              "      <td>0</td>\n",
              "    </tr>\n",
              "    <tr>\n",
              "      <th>3861</th>\n",
              "      <td>ZINC TOP  2 DOOR WOODEN SHELF</td>\n",
              "      <td>16.768182</td>\n",
              "      <td>4</td>\n",
              "    </tr>\n",
              "    <tr>\n",
              "      <th>3862</th>\n",
              "      <td>ZINC WILLIE WINKIE  CANDLE STICK</td>\n",
              "      <td>0.875689</td>\n",
              "      <td>1</td>\n",
              "    </tr>\n",
              "    <tr>\n",
              "      <th>3863</th>\n",
              "      <td>ZINC WIRE KITCHEN ORGANISER</td>\n",
              "      <td>7.468182</td>\n",
              "      <td>4</td>\n",
              "    </tr>\n",
              "    <tr>\n",
              "      <th>3864</th>\n",
              "      <td>ZINC WIRE SWEETHEART LETTER TRAY</td>\n",
              "      <td>3.401765</td>\n",
              "      <td>3</td>\n",
              "    </tr>\n",
              "  </tbody>\n",
              "</table>\n",
              "<p>3865 rows × 3 columns</p>\n",
              "</div>"
            ],
            "text/plain": [
              "                           Description  UnitPrice  Price_Ntile\n",
              "0        4 PURPLE FLOCK DINNER CANDLES   2.330000            2\n",
              "1        50'S CHRISTMAS GIFT BAG LARGE   1.247766            1\n",
              "2                    DOLLY GIRL BEAKER   1.243359            1\n",
              "3          I LOVE LONDON MINI BACKPACK   4.137097            3\n",
              "4          I LOVE LONDON MINI RUCKSACK   4.150000            3\n",
              "...                                ...        ...          ...\n",
              "3860   ZINC T-LIGHT HOLDER STARS SMALL   0.838939            0\n",
              "3861    ZINC TOP  2 DOOR WOODEN SHELF   16.768182            4\n",
              "3862  ZINC WILLIE WINKIE  CANDLE STICK   0.875689            1\n",
              "3863       ZINC WIRE KITCHEN ORGANISER   7.468182            4\n",
              "3864  ZINC WIRE SWEETHEART LETTER TRAY   3.401765            3\n",
              "\n",
              "[3865 rows x 3 columns]"
            ]
          },
          "metadata": {
            "tags": []
          },
          "execution_count": 35
        }
      ]
    },
    {
      "cell_type": "code",
      "metadata": {
        "colab": {
          "base_uri": "https://localhost:8080/"
        },
        "id": "PQs6vMt_w9Yh",
        "outputId": "e2279712-e386-476c-a122-334c61ceb70a"
      },
      "source": [
        "len(df_train[df_train['Description']==' 4 PURPLE FLOCK DINNER CANDLES'])"
      ],
      "execution_count": null,
      "outputs": [
        {
          "output_type": "execute_result",
          "data": {
            "text/plain": [
              "32"
            ]
          },
          "metadata": {
            "tags": []
          },
          "execution_count": 36
        }
      ]
    },
    {
      "cell_type": "code",
      "metadata": {
        "colab": {
          "base_uri": "https://localhost:8080/",
          "height": 406
        },
        "id": "WRiRZ5-cwVKk",
        "outputId": "14679fdd-fc92-4318-f21d-5429f1e3ef88"
      },
      "source": [
        "#Adding features to the dataframe to color the visualization; here total order count for each product\n",
        "product_order_bins = df_train[['Description','InvoiceNo']].groupby('Description').count().reset_index()\n",
        "product_order_bins['Orders_Ntile'] = ntile(product_order_bins['InvoiceNo'],5)\n",
        "product_order_bins"
      ],
      "execution_count": null,
      "outputs": [
        {
          "output_type": "execute_result",
          "data": {
            "text/html": [
              "<div>\n",
              "<style scoped>\n",
              "    .dataframe tbody tr th:only-of-type {\n",
              "        vertical-align: middle;\n",
              "    }\n",
              "\n",
              "    .dataframe tbody tr th {\n",
              "        vertical-align: top;\n",
              "    }\n",
              "\n",
              "    .dataframe thead th {\n",
              "        text-align: right;\n",
              "    }\n",
              "</style>\n",
              "<table border=\"1\" class=\"dataframe\">\n",
              "  <thead>\n",
              "    <tr style=\"text-align: right;\">\n",
              "      <th></th>\n",
              "      <th>Description</th>\n",
              "      <th>InvoiceNo</th>\n",
              "      <th>Orders_Ntile</th>\n",
              "    </tr>\n",
              "  </thead>\n",
              "  <tbody>\n",
              "    <tr>\n",
              "      <th>0</th>\n",
              "      <td>4 PURPLE FLOCK DINNER CANDLES</td>\n",
              "      <td>32</td>\n",
              "      <td>2</td>\n",
              "    </tr>\n",
              "    <tr>\n",
              "      <th>1</th>\n",
              "      <td>50'S CHRISTMAS GIFT BAG LARGE</td>\n",
              "      <td>94</td>\n",
              "      <td>3</td>\n",
              "    </tr>\n",
              "    <tr>\n",
              "      <th>2</th>\n",
              "      <td>DOLLY GIRL BEAKER</td>\n",
              "      <td>128</td>\n",
              "      <td>3</td>\n",
              "    </tr>\n",
              "    <tr>\n",
              "      <th>3</th>\n",
              "      <td>I LOVE LONDON MINI BACKPACK</td>\n",
              "      <td>62</td>\n",
              "      <td>2</td>\n",
              "    </tr>\n",
              "    <tr>\n",
              "      <th>4</th>\n",
              "      <td>I LOVE LONDON MINI RUCKSACK</td>\n",
              "      <td>1</td>\n",
              "      <td>0</td>\n",
              "    </tr>\n",
              "    <tr>\n",
              "      <th>...</th>\n",
              "      <td>...</td>\n",
              "      <td>...</td>\n",
              "      <td>...</td>\n",
              "    </tr>\n",
              "    <tr>\n",
              "      <th>3860</th>\n",
              "      <td>ZINC T-LIGHT HOLDER STARS SMALL</td>\n",
              "      <td>198</td>\n",
              "      <td>4</td>\n",
              "    </tr>\n",
              "    <tr>\n",
              "      <th>3861</th>\n",
              "      <td>ZINC TOP  2 DOOR WOODEN SHELF</td>\n",
              "      <td>11</td>\n",
              "      <td>1</td>\n",
              "    </tr>\n",
              "    <tr>\n",
              "      <th>3862</th>\n",
              "      <td>ZINC WILLIE WINKIE  CANDLE STICK</td>\n",
              "      <td>167</td>\n",
              "      <td>4</td>\n",
              "    </tr>\n",
              "    <tr>\n",
              "      <th>3863</th>\n",
              "      <td>ZINC WIRE KITCHEN ORGANISER</td>\n",
              "      <td>11</td>\n",
              "      <td>1</td>\n",
              "    </tr>\n",
              "    <tr>\n",
              "      <th>3864</th>\n",
              "      <td>ZINC WIRE SWEETHEART LETTER TRAY</td>\n",
              "      <td>17</td>\n",
              "      <td>1</td>\n",
              "    </tr>\n",
              "  </tbody>\n",
              "</table>\n",
              "<p>3865 rows × 3 columns</p>\n",
              "</div>"
            ],
            "text/plain": [
              "                           Description  InvoiceNo  Orders_Ntile\n",
              "0        4 PURPLE FLOCK DINNER CANDLES         32             2\n",
              "1        50'S CHRISTMAS GIFT BAG LARGE         94             3\n",
              "2                    DOLLY GIRL BEAKER        128             3\n",
              "3          I LOVE LONDON MINI BACKPACK         62             2\n",
              "4          I LOVE LONDON MINI RUCKSACK          1             0\n",
              "...                                ...        ...           ...\n",
              "3860   ZINC T-LIGHT HOLDER STARS SMALL        198             4\n",
              "3861    ZINC TOP  2 DOOR WOODEN SHELF          11             1\n",
              "3862  ZINC WILLIE WINKIE  CANDLE STICK        167             4\n",
              "3863       ZINC WIRE KITCHEN ORGANISER         11             1\n",
              "3864  ZINC WIRE SWEETHEART LETTER TRAY         17             1\n",
              "\n",
              "[3865 rows x 3 columns]"
            ]
          },
          "metadata": {
            "tags": []
          },
          "execution_count": 37
        }
      ]
    },
    {
      "cell_type": "code",
      "metadata": {
        "colab": {
          "base_uri": "https://localhost:8080/",
          "height": 406
        },
        "id": "KfcbneGeyfsE",
        "outputId": "ca14fd3b-2a1f-46b8-ea2c-5b55d7770799"
      },
      "source": [
        "#Adding features to the dataframe to color the visualization; here is total quantity ordered for each product\n",
        "total_quantity = df_train[['Description','Quantity']].groupby('Description').sum().reset_index()\n",
        "total_quantity['Quantity_Ntile'] = ntile(total_quantity['Quantity'],5)\n",
        "total_quantity"
      ],
      "execution_count": null,
      "outputs": [
        {
          "output_type": "execute_result",
          "data": {
            "text/html": [
              "<div>\n",
              "<style scoped>\n",
              "    .dataframe tbody tr th:only-of-type {\n",
              "        vertical-align: middle;\n",
              "    }\n",
              "\n",
              "    .dataframe tbody tr th {\n",
              "        vertical-align: top;\n",
              "    }\n",
              "\n",
              "    .dataframe thead th {\n",
              "        text-align: right;\n",
              "    }\n",
              "</style>\n",
              "<table border=\"1\" class=\"dataframe\">\n",
              "  <thead>\n",
              "    <tr style=\"text-align: right;\">\n",
              "      <th></th>\n",
              "      <th>Description</th>\n",
              "      <th>Quantity</th>\n",
              "      <th>Quantity_Ntile</th>\n",
              "    </tr>\n",
              "  </thead>\n",
              "  <tbody>\n",
              "    <tr>\n",
              "      <th>0</th>\n",
              "      <td>4 PURPLE FLOCK DINNER CANDLES</td>\n",
              "      <td>121</td>\n",
              "      <td>1</td>\n",
              "    </tr>\n",
              "    <tr>\n",
              "      <th>1</th>\n",
              "      <td>50'S CHRISTMAS GIFT BAG LARGE</td>\n",
              "      <td>1688</td>\n",
              "      <td>4</td>\n",
              "    </tr>\n",
              "    <tr>\n",
              "      <th>2</th>\n",
              "      <td>DOLLY GIRL BEAKER</td>\n",
              "      <td>2309</td>\n",
              "      <td>4</td>\n",
              "    </tr>\n",
              "    <tr>\n",
              "      <th>3</th>\n",
              "      <td>I LOVE LONDON MINI BACKPACK</td>\n",
              "      <td>339</td>\n",
              "      <td>2</td>\n",
              "    </tr>\n",
              "    <tr>\n",
              "      <th>4</th>\n",
              "      <td>I LOVE LONDON MINI RUCKSACK</td>\n",
              "      <td>1</td>\n",
              "      <td>0</td>\n",
              "    </tr>\n",
              "    <tr>\n",
              "      <th>...</th>\n",
              "      <td>...</td>\n",
              "      <td>...</td>\n",
              "      <td>...</td>\n",
              "    </tr>\n",
              "    <tr>\n",
              "      <th>3860</th>\n",
              "      <td>ZINC T-LIGHT HOLDER STARS SMALL</td>\n",
              "      <td>4156</td>\n",
              "      <td>4</td>\n",
              "    </tr>\n",
              "    <tr>\n",
              "      <th>3861</th>\n",
              "      <td>ZINC TOP  2 DOOR WOODEN SHELF</td>\n",
              "      <td>5</td>\n",
              "      <td>0</td>\n",
              "    </tr>\n",
              "    <tr>\n",
              "      <th>3862</th>\n",
              "      <td>ZINC WILLIE WINKIE  CANDLE STICK</td>\n",
              "      <td>2352</td>\n",
              "      <td>4</td>\n",
              "    </tr>\n",
              "    <tr>\n",
              "      <th>3863</th>\n",
              "      <td>ZINC WIRE KITCHEN ORGANISER</td>\n",
              "      <td>23</td>\n",
              "      <td>0</td>\n",
              "    </tr>\n",
              "    <tr>\n",
              "      <th>3864</th>\n",
              "      <td>ZINC WIRE SWEETHEART LETTER TRAY</td>\n",
              "      <td>76</td>\n",
              "      <td>1</td>\n",
              "    </tr>\n",
              "  </tbody>\n",
              "</table>\n",
              "<p>3865 rows × 3 columns</p>\n",
              "</div>"
            ],
            "text/plain": [
              "                           Description  Quantity  Quantity_Ntile\n",
              "0        4 PURPLE FLOCK DINNER CANDLES       121               1\n",
              "1        50'S CHRISTMAS GIFT BAG LARGE      1688               4\n",
              "2                    DOLLY GIRL BEAKER      2309               4\n",
              "3          I LOVE LONDON MINI BACKPACK       339               2\n",
              "4          I LOVE LONDON MINI RUCKSACK         1               0\n",
              "...                                ...       ...             ...\n",
              "3860   ZINC T-LIGHT HOLDER STARS SMALL      4156               4\n",
              "3861    ZINC TOP  2 DOOR WOODEN SHELF          5               0\n",
              "3862  ZINC WILLIE WINKIE  CANDLE STICK      2352               4\n",
              "3863       ZINC WIRE KITCHEN ORGANISER        23               0\n",
              "3864  ZINC WIRE SWEETHEART LETTER TRAY        76               1\n",
              "\n",
              "[3865 rows x 3 columns]"
            ]
          },
          "metadata": {
            "tags": []
          },
          "execution_count": 38
        }
      ]
    },
    {
      "cell_type": "code",
      "metadata": {
        "colab": {
          "base_uri": "https://localhost:8080/",
          "height": 406
        },
        "id": "wint2o4iom15",
        "outputId": "cfdbfa65-509f-4ebd-9acd-622703d74aed"
      },
      "source": [
        "df_forviz_temp = df_forviz.merge(product_price_bins,left_on=0,right_on='Description')\n",
        "df_forviz_temp"
      ],
      "execution_count": null,
      "outputs": [
        {
          "output_type": "execute_result",
          "data": {
            "text/html": [
              "<div>\n",
              "<style scoped>\n",
              "    .dataframe tbody tr th:only-of-type {\n",
              "        vertical-align: middle;\n",
              "    }\n",
              "\n",
              "    .dataframe tbody tr th {\n",
              "        vertical-align: top;\n",
              "    }\n",
              "\n",
              "    .dataframe thead th {\n",
              "        text-align: right;\n",
              "    }\n",
              "</style>\n",
              "<table border=\"1\" class=\"dataframe\">\n",
              "  <thead>\n",
              "    <tr style=\"text-align: right;\">\n",
              "      <th></th>\n",
              "      <th>x</th>\n",
              "      <th>y</th>\n",
              "      <th>0</th>\n",
              "      <th>Description</th>\n",
              "      <th>UnitPrice</th>\n",
              "      <th>Price_Ntile</th>\n",
              "    </tr>\n",
              "  </thead>\n",
              "  <tbody>\n",
              "    <tr>\n",
              "      <th>0</th>\n",
              "      <td>17.082424</td>\n",
              "      <td>30.582113</td>\n",
              "      <td>T-LIGHT GLASS FLUTED ANTIQUE</td>\n",
              "      <td>T-LIGHT GLASS FLUTED ANTIQUE</td>\n",
              "      <td>1.231057</td>\n",
              "      <td>1</td>\n",
              "    </tr>\n",
              "    <tr>\n",
              "      <th>1</th>\n",
              "      <td>24.448668</td>\n",
              "      <td>30.485245</td>\n",
              "      <td>ANTIQUE GLASS HEART DECORATION</td>\n",
              "      <td>ANTIQUE GLASS HEART DECORATION</td>\n",
              "      <td>1.950000</td>\n",
              "      <td>2</td>\n",
              "    </tr>\n",
              "    <tr>\n",
              "      <th>2</th>\n",
              "      <td>22.327700</td>\n",
              "      <td>29.435087</td>\n",
              "      <td>BLUE DRAGONFLY HELICOPTER</td>\n",
              "      <td>BLUE DRAGONFLY HELICOPTER</td>\n",
              "      <td>7.950000</td>\n",
              "      <td>4</td>\n",
              "    </tr>\n",
              "    <tr>\n",
              "      <th>3</th>\n",
              "      <td>43.583981</td>\n",
              "      <td>7.779832</td>\n",
              "      <td>STRING OF STARS CARD HOLDER</td>\n",
              "      <td>STRING OF STARS CARD HOLDER</td>\n",
              "      <td>2.950000</td>\n",
              "      <td>3</td>\n",
              "    </tr>\n",
              "    <tr>\n",
              "      <th>4</th>\n",
              "      <td>43.549393</td>\n",
              "      <td>7.628956</td>\n",
              "      <td>4 VANILLA BOTANICAL CANDLES</td>\n",
              "      <td>4 VANILLA BOTANICAL CANDLES</td>\n",
              "      <td>1.636364</td>\n",
              "      <td>2</td>\n",
              "    </tr>\n",
              "    <tr>\n",
              "      <th>...</th>\n",
              "      <td>...</td>\n",
              "      <td>...</td>\n",
              "      <td>...</td>\n",
              "      <td>...</td>\n",
              "      <td>...</td>\n",
              "      <td>...</td>\n",
              "    </tr>\n",
              "    <tr>\n",
              "      <th>3860</th>\n",
              "      <td>-39.348446</td>\n",
              "      <td>1.454987</td>\n",
              "      <td>TEA TIME TEA TOWELS</td>\n",
              "      <td>TEA TIME TEA TOWELS</td>\n",
              "      <td>2.325000</td>\n",
              "      <td>2</td>\n",
              "    </tr>\n",
              "    <tr>\n",
              "      <th>3861</th>\n",
              "      <td>-40.775116</td>\n",
              "      <td>2.954615</td>\n",
              "      <td>ASSORTED TUTTI FRUTTI ROUND BOX</td>\n",
              "      <td>ASSORTED TUTTI FRUTTI ROUND BOX</td>\n",
              "      <td>1.650000</td>\n",
              "      <td>2</td>\n",
              "    </tr>\n",
              "    <tr>\n",
              "      <th>3862</th>\n",
              "      <td>-69.063538</td>\n",
              "      <td>12.484281</td>\n",
              "      <td>DOLPHIN WINDMILL</td>\n",
              "      <td>DOLPHIN WINDMILL</td>\n",
              "      <td>2.120000</td>\n",
              "      <td>2</td>\n",
              "    </tr>\n",
              "    <tr>\n",
              "      <th>3863</th>\n",
              "      <td>-59.585831</td>\n",
              "      <td>10.525442</td>\n",
              "      <td>BELL HEART ANTIQUE GOLD</td>\n",
              "      <td>BELL HEART ANTIQUE GOLD</td>\n",
              "      <td>2.080000</td>\n",
              "      <td>2</td>\n",
              "    </tr>\n",
              "    <tr>\n",
              "      <th>3864</th>\n",
              "      <td>-58.259384</td>\n",
              "      <td>5.889133</td>\n",
              "      <td>WHITE CHERRY LIGHTS</td>\n",
              "      <td>WHITE CHERRY LIGHTS</td>\n",
              "      <td>6.750000</td>\n",
              "      <td>4</td>\n",
              "    </tr>\n",
              "  </tbody>\n",
              "</table>\n",
              "<p>3865 rows × 6 columns</p>\n",
              "</div>"
            ],
            "text/plain": [
              "              x          y  ... UnitPrice Price_Ntile\n",
              "0     17.082424  30.582113  ...  1.231057           1\n",
              "1     24.448668  30.485245  ...  1.950000           2\n",
              "2     22.327700  29.435087  ...  7.950000           4\n",
              "3     43.583981   7.779832  ...  2.950000           3\n",
              "4     43.549393   7.628956  ...  1.636364           2\n",
              "...         ...        ...  ...       ...         ...\n",
              "3860 -39.348446   1.454987  ...  2.325000           2\n",
              "3861 -40.775116   2.954615  ...  1.650000           2\n",
              "3862 -69.063538  12.484281  ...  2.120000           2\n",
              "3863 -59.585831  10.525442  ...  2.080000           2\n",
              "3864 -58.259384   5.889133  ...  6.750000           4\n",
              "\n",
              "[3865 rows x 6 columns]"
            ]
          },
          "metadata": {
            "tags": []
          },
          "execution_count": 39
        }
      ]
    },
    {
      "cell_type": "code",
      "metadata": {
        "colab": {
          "base_uri": "https://localhost:8080/",
          "height": 440
        },
        "id": "ZdQxUGMexHD1",
        "outputId": "bec817d3-3d6d-4092-f0ea-fb877871fe49"
      },
      "source": [
        "df_forviz_temp2 = df_forviz_temp.merge(product_order_bins,left_on='Description',right_on='Description')\n",
        "df_forviz_temp2"
      ],
      "execution_count": null,
      "outputs": [
        {
          "output_type": "execute_result",
          "data": {
            "text/html": [
              "<div>\n",
              "<style scoped>\n",
              "    .dataframe tbody tr th:only-of-type {\n",
              "        vertical-align: middle;\n",
              "    }\n",
              "\n",
              "    .dataframe tbody tr th {\n",
              "        vertical-align: top;\n",
              "    }\n",
              "\n",
              "    .dataframe thead th {\n",
              "        text-align: right;\n",
              "    }\n",
              "</style>\n",
              "<table border=\"1\" class=\"dataframe\">\n",
              "  <thead>\n",
              "    <tr style=\"text-align: right;\">\n",
              "      <th></th>\n",
              "      <th>x</th>\n",
              "      <th>y</th>\n",
              "      <th>0</th>\n",
              "      <th>Description</th>\n",
              "      <th>UnitPrice</th>\n",
              "      <th>Price_Ntile</th>\n",
              "      <th>InvoiceNo</th>\n",
              "      <th>Orders_Ntile</th>\n",
              "    </tr>\n",
              "  </thead>\n",
              "  <tbody>\n",
              "    <tr>\n",
              "      <th>0</th>\n",
              "      <td>17.082424</td>\n",
              "      <td>30.582113</td>\n",
              "      <td>T-LIGHT GLASS FLUTED ANTIQUE</td>\n",
              "      <td>T-LIGHT GLASS FLUTED ANTIQUE</td>\n",
              "      <td>1.231057</td>\n",
              "      <td>1</td>\n",
              "      <td>246</td>\n",
              "      <td>4</td>\n",
              "    </tr>\n",
              "    <tr>\n",
              "      <th>1</th>\n",
              "      <td>24.448668</td>\n",
              "      <td>30.485245</td>\n",
              "      <td>ANTIQUE GLASS HEART DECORATION</td>\n",
              "      <td>ANTIQUE GLASS HEART DECORATION</td>\n",
              "      <td>1.950000</td>\n",
              "      <td>2</td>\n",
              "      <td>30</td>\n",
              "      <td>2</td>\n",
              "    </tr>\n",
              "    <tr>\n",
              "      <th>2</th>\n",
              "      <td>22.327700</td>\n",
              "      <td>29.435087</td>\n",
              "      <td>BLUE DRAGONFLY HELICOPTER</td>\n",
              "      <td>BLUE DRAGONFLY HELICOPTER</td>\n",
              "      <td>7.950000</td>\n",
              "      <td>4</td>\n",
              "      <td>27</td>\n",
              "      <td>2</td>\n",
              "    </tr>\n",
              "    <tr>\n",
              "      <th>3</th>\n",
              "      <td>43.583981</td>\n",
              "      <td>7.779832</td>\n",
              "      <td>STRING OF STARS CARD HOLDER</td>\n",
              "      <td>STRING OF STARS CARD HOLDER</td>\n",
              "      <td>2.950000</td>\n",
              "      <td>3</td>\n",
              "      <td>12</td>\n",
              "      <td>1</td>\n",
              "    </tr>\n",
              "    <tr>\n",
              "      <th>4</th>\n",
              "      <td>43.549393</td>\n",
              "      <td>7.628956</td>\n",
              "      <td>4 VANILLA BOTANICAL CANDLES</td>\n",
              "      <td>4 VANILLA BOTANICAL CANDLES</td>\n",
              "      <td>1.636364</td>\n",
              "      <td>2</td>\n",
              "      <td>110</td>\n",
              "      <td>3</td>\n",
              "    </tr>\n",
              "    <tr>\n",
              "      <th>...</th>\n",
              "      <td>...</td>\n",
              "      <td>...</td>\n",
              "      <td>...</td>\n",
              "      <td>...</td>\n",
              "      <td>...</td>\n",
              "      <td>...</td>\n",
              "      <td>...</td>\n",
              "      <td>...</td>\n",
              "    </tr>\n",
              "    <tr>\n",
              "      <th>3860</th>\n",
              "      <td>-39.348446</td>\n",
              "      <td>1.454987</td>\n",
              "      <td>TEA TIME TEA TOWELS</td>\n",
              "      <td>TEA TIME TEA TOWELS</td>\n",
              "      <td>2.325000</td>\n",
              "      <td>2</td>\n",
              "      <td>2</td>\n",
              "      <td>0</td>\n",
              "    </tr>\n",
              "    <tr>\n",
              "      <th>3861</th>\n",
              "      <td>-40.775116</td>\n",
              "      <td>2.954615</td>\n",
              "      <td>ASSORTED TUTTI FRUTTI ROUND BOX</td>\n",
              "      <td>ASSORTED TUTTI FRUTTI ROUND BOX</td>\n",
              "      <td>1.650000</td>\n",
              "      <td>2</td>\n",
              "      <td>1</td>\n",
              "      <td>0</td>\n",
              "    </tr>\n",
              "    <tr>\n",
              "      <th>3862</th>\n",
              "      <td>-69.063538</td>\n",
              "      <td>12.484281</td>\n",
              "      <td>DOLPHIN WINDMILL</td>\n",
              "      <td>DOLPHIN WINDMILL</td>\n",
              "      <td>2.120000</td>\n",
              "      <td>2</td>\n",
              "      <td>1</td>\n",
              "      <td>0</td>\n",
              "    </tr>\n",
              "    <tr>\n",
              "      <th>3863</th>\n",
              "      <td>-59.585831</td>\n",
              "      <td>10.525442</td>\n",
              "      <td>BELL HEART ANTIQUE GOLD</td>\n",
              "      <td>BELL HEART ANTIQUE GOLD</td>\n",
              "      <td>2.080000</td>\n",
              "      <td>2</td>\n",
              "      <td>1</td>\n",
              "      <td>0</td>\n",
              "    </tr>\n",
              "    <tr>\n",
              "      <th>3864</th>\n",
              "      <td>-58.259384</td>\n",
              "      <td>5.889133</td>\n",
              "      <td>WHITE CHERRY LIGHTS</td>\n",
              "      <td>WHITE CHERRY LIGHTS</td>\n",
              "      <td>6.750000</td>\n",
              "      <td>4</td>\n",
              "      <td>1</td>\n",
              "      <td>0</td>\n",
              "    </tr>\n",
              "  </tbody>\n",
              "</table>\n",
              "<p>3865 rows × 8 columns</p>\n",
              "</div>"
            ],
            "text/plain": [
              "              x          y  ... InvoiceNo Orders_Ntile\n",
              "0     17.082424  30.582113  ...       246            4\n",
              "1     24.448668  30.485245  ...        30            2\n",
              "2     22.327700  29.435087  ...        27            2\n",
              "3     43.583981   7.779832  ...        12            1\n",
              "4     43.549393   7.628956  ...       110            3\n",
              "...         ...        ...  ...       ...          ...\n",
              "3860 -39.348446   1.454987  ...         2            0\n",
              "3861 -40.775116   2.954615  ...         1            0\n",
              "3862 -69.063538  12.484281  ...         1            0\n",
              "3863 -59.585831  10.525442  ...         1            0\n",
              "3864 -58.259384   5.889133  ...         1            0\n",
              "\n",
              "[3865 rows x 8 columns]"
            ]
          },
          "metadata": {
            "tags": []
          },
          "execution_count": 40
        }
      ]
    },
    {
      "cell_type": "code",
      "metadata": {
        "colab": {
          "base_uri": "https://localhost:8080/",
          "height": 573
        },
        "id": "CXBzjT10y_jL",
        "outputId": "6a2b7a4b-d309-49ef-b033-f316efc5269e"
      },
      "source": [
        "df_forviz_final = df_forviz_temp2.merge(total_quantity,left_on='Description',right_on='Description')\n",
        "df_forviz_final"
      ],
      "execution_count": null,
      "outputs": [
        {
          "output_type": "execute_result",
          "data": {
            "text/html": [
              "<div>\n",
              "<style scoped>\n",
              "    .dataframe tbody tr th:only-of-type {\n",
              "        vertical-align: middle;\n",
              "    }\n",
              "\n",
              "    .dataframe tbody tr th {\n",
              "        vertical-align: top;\n",
              "    }\n",
              "\n",
              "    .dataframe thead th {\n",
              "        text-align: right;\n",
              "    }\n",
              "</style>\n",
              "<table border=\"1\" class=\"dataframe\">\n",
              "  <thead>\n",
              "    <tr style=\"text-align: right;\">\n",
              "      <th></th>\n",
              "      <th>x</th>\n",
              "      <th>y</th>\n",
              "      <th>0</th>\n",
              "      <th>Description</th>\n",
              "      <th>UnitPrice</th>\n",
              "      <th>Price_Ntile</th>\n",
              "      <th>InvoiceNo</th>\n",
              "      <th>Orders_Ntile</th>\n",
              "      <th>Quantity</th>\n",
              "      <th>Quantity_Ntile</th>\n",
              "    </tr>\n",
              "  </thead>\n",
              "  <tbody>\n",
              "    <tr>\n",
              "      <th>0</th>\n",
              "      <td>17.082424</td>\n",
              "      <td>30.582113</td>\n",
              "      <td>T-LIGHT GLASS FLUTED ANTIQUE</td>\n",
              "      <td>T-LIGHT GLASS FLUTED ANTIQUE</td>\n",
              "      <td>1.231057</td>\n",
              "      <td>1</td>\n",
              "      <td>246</td>\n",
              "      <td>4</td>\n",
              "      <td>6625</td>\n",
              "      <td>4</td>\n",
              "    </tr>\n",
              "    <tr>\n",
              "      <th>1</th>\n",
              "      <td>24.448668</td>\n",
              "      <td>30.485245</td>\n",
              "      <td>ANTIQUE GLASS HEART DECORATION</td>\n",
              "      <td>ANTIQUE GLASS HEART DECORATION</td>\n",
              "      <td>1.950000</td>\n",
              "      <td>2</td>\n",
              "      <td>30</td>\n",
              "      <td>2</td>\n",
              "      <td>295</td>\n",
              "      <td>2</td>\n",
              "    </tr>\n",
              "    <tr>\n",
              "      <th>2</th>\n",
              "      <td>22.327700</td>\n",
              "      <td>29.435087</td>\n",
              "      <td>BLUE DRAGONFLY HELICOPTER</td>\n",
              "      <td>BLUE DRAGONFLY HELICOPTER</td>\n",
              "      <td>7.950000</td>\n",
              "      <td>4</td>\n",
              "      <td>27</td>\n",
              "      <td>2</td>\n",
              "      <td>36</td>\n",
              "      <td>1</td>\n",
              "    </tr>\n",
              "    <tr>\n",
              "      <th>3</th>\n",
              "      <td>43.583981</td>\n",
              "      <td>7.779832</td>\n",
              "      <td>STRING OF STARS CARD HOLDER</td>\n",
              "      <td>STRING OF STARS CARD HOLDER</td>\n",
              "      <td>2.950000</td>\n",
              "      <td>3</td>\n",
              "      <td>12</td>\n",
              "      <td>1</td>\n",
              "      <td>71</td>\n",
              "      <td>1</td>\n",
              "    </tr>\n",
              "    <tr>\n",
              "      <th>4</th>\n",
              "      <td>43.549393</td>\n",
              "      <td>7.628956</td>\n",
              "      <td>4 VANILLA BOTANICAL CANDLES</td>\n",
              "      <td>4 VANILLA BOTANICAL CANDLES</td>\n",
              "      <td>1.636364</td>\n",
              "      <td>2</td>\n",
              "      <td>110</td>\n",
              "      <td>3</td>\n",
              "      <td>817</td>\n",
              "      <td>3</td>\n",
              "    </tr>\n",
              "    <tr>\n",
              "      <th>...</th>\n",
              "      <td>...</td>\n",
              "      <td>...</td>\n",
              "      <td>...</td>\n",
              "      <td>...</td>\n",
              "      <td>...</td>\n",
              "      <td>...</td>\n",
              "      <td>...</td>\n",
              "      <td>...</td>\n",
              "      <td>...</td>\n",
              "      <td>...</td>\n",
              "    </tr>\n",
              "    <tr>\n",
              "      <th>3860</th>\n",
              "      <td>-39.348446</td>\n",
              "      <td>1.454987</td>\n",
              "      <td>TEA TIME TEA TOWELS</td>\n",
              "      <td>TEA TIME TEA TOWELS</td>\n",
              "      <td>2.325000</td>\n",
              "      <td>2</td>\n",
              "      <td>2</td>\n",
              "      <td>0</td>\n",
              "      <td>2600</td>\n",
              "      <td>4</td>\n",
              "    </tr>\n",
              "    <tr>\n",
              "      <th>3861</th>\n",
              "      <td>-40.775116</td>\n",
              "      <td>2.954615</td>\n",
              "      <td>ASSORTED TUTTI FRUTTI ROUND BOX</td>\n",
              "      <td>ASSORTED TUTTI FRUTTI ROUND BOX</td>\n",
              "      <td>1.650000</td>\n",
              "      <td>2</td>\n",
              "      <td>1</td>\n",
              "      <td>0</td>\n",
              "      <td>-24</td>\n",
              "      <td>0</td>\n",
              "    </tr>\n",
              "    <tr>\n",
              "      <th>3862</th>\n",
              "      <td>-69.063538</td>\n",
              "      <td>12.484281</td>\n",
              "      <td>DOLPHIN WINDMILL</td>\n",
              "      <td>DOLPHIN WINDMILL</td>\n",
              "      <td>2.120000</td>\n",
              "      <td>2</td>\n",
              "      <td>1</td>\n",
              "      <td>0</td>\n",
              "      <td>1</td>\n",
              "      <td>0</td>\n",
              "    </tr>\n",
              "    <tr>\n",
              "      <th>3863</th>\n",
              "      <td>-59.585831</td>\n",
              "      <td>10.525442</td>\n",
              "      <td>BELL HEART ANTIQUE GOLD</td>\n",
              "      <td>BELL HEART ANTIQUE GOLD</td>\n",
              "      <td>2.080000</td>\n",
              "      <td>2</td>\n",
              "      <td>1</td>\n",
              "      <td>0</td>\n",
              "      <td>12</td>\n",
              "      <td>0</td>\n",
              "    </tr>\n",
              "    <tr>\n",
              "      <th>3864</th>\n",
              "      <td>-58.259384</td>\n",
              "      <td>5.889133</td>\n",
              "      <td>WHITE CHERRY LIGHTS</td>\n",
              "      <td>WHITE CHERRY LIGHTS</td>\n",
              "      <td>6.750000</td>\n",
              "      <td>4</td>\n",
              "      <td>1</td>\n",
              "      <td>0</td>\n",
              "      <td>-8</td>\n",
              "      <td>0</td>\n",
              "    </tr>\n",
              "  </tbody>\n",
              "</table>\n",
              "<p>3865 rows × 10 columns</p>\n",
              "</div>"
            ],
            "text/plain": [
              "              x          y  ... Quantity Quantity_Ntile\n",
              "0     17.082424  30.582113  ...     6625              4\n",
              "1     24.448668  30.485245  ...      295              2\n",
              "2     22.327700  29.435087  ...       36              1\n",
              "3     43.583981   7.779832  ...       71              1\n",
              "4     43.549393   7.628956  ...      817              3\n",
              "...         ...        ...  ...      ...            ...\n",
              "3860 -39.348446   1.454987  ...     2600              4\n",
              "3861 -40.775116   2.954615  ...      -24              0\n",
              "3862 -69.063538  12.484281  ...        1              0\n",
              "3863 -59.585831  10.525442  ...       12              0\n",
              "3864 -58.259384   5.889133  ...       -8              0\n",
              "\n",
              "[3865 rows x 10 columns]"
            ]
          },
          "metadata": {
            "tags": []
          },
          "execution_count": 41
        }
      ]
    },
    {
      "cell_type": "code",
      "metadata": {
        "id": "14n5Q3nAolP_"
      },
      "source": [
        "df_forviz_final.to_csv('mytext.tsv',sep='\\t',index=False)"
      ],
      "execution_count": null,
      "outputs": []
    },
    {
      "cell_type": "code",
      "metadata": {
        "colab": {
          "base_uri": "https://localhost:8080/"
        },
        "id": "O--VnIUV9_TV",
        "outputId": "2b65b03d-b9ad-4cfd-e867-7a2c61c7021c"
      },
      "source": [
        "from google.colab.output import eval_js\n",
        "from IPython.display import Javascript\n",
        "!git clone https://github.com/CAHLR/d3-scatterplot.git"
      ],
      "execution_count": null,
      "outputs": [
        {
          "output_type": "stream",
          "text": [
            "Cloning into 'd3-scatterplot'...\n",
            "remote: Enumerating objects: 19, done.\u001b[K\n",
            "remote: Counting objects: 100% (19/19), done.\u001b[K\n",
            "remote: Compressing objects: 100% (19/19), done.\u001b[K\n",
            "remote: Total 1022 (delta 9), reused 1 (delta 0), pack-reused 1003\u001b[K\n",
            "Receiving objects: 100% (1022/1022), 1.94 MiB | 4.04 MiB/s, done.\n",
            "Resolving deltas: 100% (590/590), done.\n"
          ],
          "name": "stdout"
        }
      ]
    },
    {
      "cell_type": "code",
      "metadata": {
        "colab": {
          "base_uri": "https://localhost:8080/",
          "height": 820
        },
        "id": "3wiCnZ00-BAY",
        "outputId": "3aaf9d87-5a91-4da0-edab-19f9defe2059"
      },
      "source": [
        "def show_port(port, data_file, width=600, height=800):\n",
        "  display(Javascript(\"\"\"\n",
        "  (async ()=>{\n",
        "    fm = document.createElement('iframe')\n",
        "    fm.src = await google.colab.kernel.proxyPort(%d) + '/index.html?dataset=%s'\n",
        "    fm.width = '90%%'\n",
        "    fm.height = '%d'\n",
        "    fm.frameBorder = 0\n",
        "    document.body.append(fm)\n",
        "  })();\n",
        "  \"\"\" % (port, data_file, height)))\n",
        "\n",
        "port = 8000\n",
        "data_file = 'mytext.tsv'\n",
        "height = 1500\n",
        "\n",
        "get_ipython().system_raw('cd d3-scatterplot && python3 -m http.server %d &' % port) \n",
        "show_port(port, data_file, height)"
      ],
      "execution_count": null,
      "outputs": [
        {
          "output_type": "display_data",
          "data": {
            "application/javascript": [
              "\n",
              "  (async ()=>{\n",
              "    fm = document.createElement('iframe')\n",
              "    fm.src = await google.colab.kernel.proxyPort(8000) + '/index.html?dataset=mytext.tsv'\n",
              "    fm.width = '90%'\n",
              "    fm.height = '800'\n",
              "    fm.frameBorder = 0\n",
              "    document.body.append(fm)\n",
              "  })();\n",
              "  "
            ],
            "text/plain": [
              "<IPython.core.display.Javascript object>"
            ]
          },
          "metadata": {
            "tags": []
          }
        }
      ]
    },
    {
      "cell_type": "markdown",
      "metadata": {
        "id": "E8uUxdqq2SiZ"
      },
      "source": [
        "#Product Recommender Validation"
      ]
    },
    {
      "cell_type": "code",
      "metadata": {
        "id": "Tote_Kec1xLO"
      },
      "source": [
        "def aggregate_vectors(products):\n",
        "    product_vec = []\n",
        "    for i in products:\n",
        "        try:\n",
        "            product_vec.append(product_model[i])\n",
        "        except KeyError:\n",
        "            continue\n",
        "        \n",
        "    return np.mean(product_vec, axis=0)"
      ],
      "execution_count": null,
      "outputs": []
    },
    {
      "cell_type": "code",
      "metadata": {
        "id": "KBu7YZTR1xIR"
      },
      "source": [
        "purchase_list_test_2=[]\n",
        "for i in purchase_list_test:\n",
        "  if len(i)>1:\n",
        "    purchase_list_test_2.append(i)"
      ],
      "execution_count": null,
      "outputs": []
    },
    {
      "cell_type": "code",
      "metadata": {
        "id": "KQUN0z9X1xF9"
      },
      "source": [
        "purchased_item_without_last=[]\n",
        "last_purchase_item=[]\n",
        "for i in range(len(purchase_list_test_2)):\n",
        "  last_purchase=purchase_list_test_2[i][-1]\n",
        "  last_purchase_item.append(last_purchase)  \n",
        "  without_last=purchase_list_test_2[i][:-1]\n",
        "  purchased_item_without_last.append(without_last)"
      ],
      "execution_count": null,
      "outputs": []
    },
    {
      "cell_type": "code",
      "metadata": {
        "id": "Gjf9bCOa1xC4"
      },
      "source": [
        "last_purchase=pd.DataFrame(last_purchase_item)\n",
        "last_purchase.columns=['last_purchase']"
      ],
      "execution_count": null,
      "outputs": []
    },
    {
      "cell_type": "code",
      "metadata": {
        "id": "toh-pmye1xAT"
      },
      "source": [
        "average_item=[]\n",
        "for i in purchased_item_without_last:\n",
        "  average=aggregate_vectors(i)\n",
        "  average_item.append(average)"
      ],
      "execution_count": null,
      "outputs": []
    },
    {
      "cell_type": "code",
      "metadata": {
        "id": "JuPDWMDB1w8y"
      },
      "source": [
        "pred = pd.DataFrame()\n",
        "n=100\n",
        "for i in range(len(purchase_list_test_2)):\n",
        "  a=pd.DataFrame(product_model.similar_by_vector(average_item[i],n))\n",
        "  a=a.drop(1, axis=1).T\n",
        "  pred=pd.concat([pred, a],axis=0)\n",
        "pred=pred.reset_index().drop('index', axis=1)\n",
        "pred=pd.concat([pred,last_purchase],axis=1)"
      ],
      "execution_count": null,
      "outputs": []
    },
    {
      "cell_type": "code",
      "metadata": {
        "id": "3VERx_SS1w5_"
      },
      "source": [
        "a=pd.DataFrame()\n",
        "for i in range(n):\n",
        "  a['correct_'+str(i)]=(pred[i]==pred['last_purchase']).astype(int)"
      ],
      "execution_count": null,
      "outputs": []
    },
    {
      "cell_type": "code",
      "metadata": {
        "id": "uS4ZpkoO19lt"
      },
      "source": [
        "a['correct']=a.sum(axis=1)"
      ],
      "execution_count": null,
      "outputs": []
    },
    {
      "cell_type": "code",
      "metadata": {
        "id": "bGj6q4sy1-KU"
      },
      "source": [
        "pred['correct']=a['correct']"
      ],
      "execution_count": null,
      "outputs": []
    },
    {
      "cell_type": "code",
      "metadata": {
        "colab": {
          "base_uri": "https://localhost:8080/"
        },
        "id": "BACtZsus1-SQ",
        "outputId": "59b7e16a-0150-45a0-a690-c61b5c75cfa7"
      },
      "source": [
        "accuracy_rate = pred['correct'].sum()/len(pred)\n",
        "accuracy_rate"
      ],
      "execution_count": null,
      "outputs": [
        {
          "output_type": "execute_result",
          "data": {
            "text/plain": [
              "0.17016317016317017"
            ]
          },
          "metadata": {
            "tags": []
          },
          "execution_count": 54
        }
      ]
    },
    {
      "cell_type": "markdown",
      "metadata": {
        "id": "lxZxIJfElksA"
      },
      "source": [
        "# Customer Recommender"
      ]
    },
    {
      "cell_type": "code",
      "metadata": {
        "id": "I8xd8xRkseG4"
      },
      "source": [
        "#copy dataframe to be used for customer recommender\n",
        "df2 = pd.DataFrame(df)\n",
        "\n",
        "#Convert CustomerID to string\n",
        "df['CustomerID'] = df['CustomerID'].astype(str)\n",
        "\n",
        "#Break unique products into a train and validation set\n",
        "products_train, products_test = train_test_split(df2['StockCode'].unique(),test_size=0.1,random_state=42)\n",
        "\n",
        "#Create train and test datasets\n",
        "df2_train = df2[df2['StockCode'].isin(products_train)]\n",
        "df2_test = df2[df2['StockCode'].isin(products_test)]"
      ],
      "execution_count": null,
      "outputs": []
    },
    {
      "cell_type": "code",
      "metadata": {
        "colab": {
          "base_uri": "https://localhost:8080/"
        },
        "id": "9sYrnLzztIXO",
        "outputId": "5b63958e-152b-430e-bba2-1e2ce1d02846"
      },
      "source": [
        "print(len(products_train))\n",
        "print(len(products_test))"
      ],
      "execution_count": null,
      "outputs": [
        {
          "output_type": "stream",
          "text": [
            "3315\n",
            "369\n"
          ],
          "name": "stdout"
        }
      ]
    },
    {
      "cell_type": "code",
      "metadata": {
        "id": "43md4KGEwB8G"
      },
      "source": [
        "#For each product, create sequence of purchases (customers who purchased that product) - training set\n",
        "customer_list_train = []\n",
        "\n",
        "for product in products_train:\n",
        "  cust_list = df2_train[df2_train['StockCode'] == product]['CustomerID'].tolist()\n",
        "  customer_list_train.append(cust_list)"
      ],
      "execution_count": null,
      "outputs": []
    },
    {
      "cell_type": "code",
      "metadata": {
        "colab": {
          "base_uri": "https://localhost:8080/"
        },
        "id": "aQMPYvRaMYy6",
        "outputId": "392118da-e2c9-47a5-91b4-8672bd9e0704"
      },
      "source": [
        "#Validate first StockCode\n",
        "print('First StockCode:', products_train[0])\n",
        "\n",
        "#Number of instances of stock code 23006 in the training set\n",
        "print('Number of instances of 23006:', len(df2_train[df2_train['StockCode']==23006]))\n",
        "\n",
        "#Validate same number in customer list - checks out\n",
        "print('Number of instances of 23006 in customer list:', len(customer_list_train[0]))"
      ],
      "execution_count": null,
      "outputs": [
        {
          "output_type": "stream",
          "text": [
            "First StockCode: 23006\n",
            "Number of instances of 23006: 136\n",
            "Number of instances of 23006 in customer list: 136\n"
          ],
          "name": "stdout"
        }
      ]
    },
    {
      "cell_type": "code",
      "metadata": {
        "id": "RNol2nuptTeb"
      },
      "source": [
        "#For each product, create sequence of purchases (customers who purchased that product) - test set\n",
        "customer_list_test = []\n",
        "\n",
        "for product in products_test:\n",
        "  cust_list = df2_test[df2_test['StockCode']==product]['CustomerID'].tolist()\n",
        "  customer_list_test.append(cust_list)"
      ],
      "execution_count": null,
      "outputs": []
    },
    {
      "cell_type": "code",
      "metadata": {
        "colab": {
          "base_uri": "https://localhost:8080/",
          "height": 1000
        },
        "id": "SH64m4Owx1R9",
        "outputId": "fb5c7aca-3af7-4f29-b3a6-842d0b5edd40"
      },
      "source": [
        "df2.head(60)"
      ],
      "execution_count": null,
      "outputs": [
        {
          "output_type": "execute_result",
          "data": {
            "text/html": [
              "<div>\n",
              "<style scoped>\n",
              "    .dataframe tbody tr th:only-of-type {\n",
              "        vertical-align: middle;\n",
              "    }\n",
              "\n",
              "    .dataframe tbody tr th {\n",
              "        vertical-align: top;\n",
              "    }\n",
              "\n",
              "    .dataframe thead th {\n",
              "        text-align: right;\n",
              "    }\n",
              "</style>\n",
              "<table border=\"1\" class=\"dataframe\">\n",
              "  <thead>\n",
              "    <tr style=\"text-align: right;\">\n",
              "      <th></th>\n",
              "      <th>InvoiceNo</th>\n",
              "      <th>StockCode</th>\n",
              "      <th>Description</th>\n",
              "      <th>Quantity</th>\n",
              "      <th>InvoiceDate</th>\n",
              "      <th>UnitPrice</th>\n",
              "      <th>CustomerID</th>\n",
              "      <th>Country</th>\n",
              "    </tr>\n",
              "  </thead>\n",
              "  <tbody>\n",
              "    <tr>\n",
              "      <th>0</th>\n",
              "      <td>536365</td>\n",
              "      <td>85123A</td>\n",
              "      <td>WHITE HANGING HEART T-LIGHT HOLDER</td>\n",
              "      <td>6</td>\n",
              "      <td>2010-12-01 08:26:00</td>\n",
              "      <td>2.55</td>\n",
              "      <td>17850.0</td>\n",
              "      <td>United Kingdom</td>\n",
              "    </tr>\n",
              "    <tr>\n",
              "      <th>1</th>\n",
              "      <td>536365</td>\n",
              "      <td>71053</td>\n",
              "      <td>WHITE METAL LANTERN</td>\n",
              "      <td>6</td>\n",
              "      <td>2010-12-01 08:26:00</td>\n",
              "      <td>3.39</td>\n",
              "      <td>17850.0</td>\n",
              "      <td>United Kingdom</td>\n",
              "    </tr>\n",
              "    <tr>\n",
              "      <th>2</th>\n",
              "      <td>536365</td>\n",
              "      <td>84406B</td>\n",
              "      <td>CREAM CUPID HEARTS COAT HANGER</td>\n",
              "      <td>8</td>\n",
              "      <td>2010-12-01 08:26:00</td>\n",
              "      <td>2.75</td>\n",
              "      <td>17850.0</td>\n",
              "      <td>United Kingdom</td>\n",
              "    </tr>\n",
              "    <tr>\n",
              "      <th>3</th>\n",
              "      <td>536365</td>\n",
              "      <td>84029G</td>\n",
              "      <td>KNITTED UNION FLAG HOT WATER BOTTLE</td>\n",
              "      <td>6</td>\n",
              "      <td>2010-12-01 08:26:00</td>\n",
              "      <td>3.39</td>\n",
              "      <td>17850.0</td>\n",
              "      <td>United Kingdom</td>\n",
              "    </tr>\n",
              "    <tr>\n",
              "      <th>4</th>\n",
              "      <td>536365</td>\n",
              "      <td>84029E</td>\n",
              "      <td>RED WOOLLY HOTTIE WHITE HEART.</td>\n",
              "      <td>6</td>\n",
              "      <td>2010-12-01 08:26:00</td>\n",
              "      <td>3.39</td>\n",
              "      <td>17850.0</td>\n",
              "      <td>United Kingdom</td>\n",
              "    </tr>\n",
              "    <tr>\n",
              "      <th>5</th>\n",
              "      <td>536365</td>\n",
              "      <td>22752</td>\n",
              "      <td>SET 7 BABUSHKA NESTING BOXES</td>\n",
              "      <td>2</td>\n",
              "      <td>2010-12-01 08:26:00</td>\n",
              "      <td>7.65</td>\n",
              "      <td>17850.0</td>\n",
              "      <td>United Kingdom</td>\n",
              "    </tr>\n",
              "    <tr>\n",
              "      <th>6</th>\n",
              "      <td>536365</td>\n",
              "      <td>21730</td>\n",
              "      <td>GLASS STAR FROSTED T-LIGHT HOLDER</td>\n",
              "      <td>6</td>\n",
              "      <td>2010-12-01 08:26:00</td>\n",
              "      <td>4.25</td>\n",
              "      <td>17850.0</td>\n",
              "      <td>United Kingdom</td>\n",
              "    </tr>\n",
              "    <tr>\n",
              "      <th>7</th>\n",
              "      <td>536366</td>\n",
              "      <td>22633</td>\n",
              "      <td>HAND WARMER UNION JACK</td>\n",
              "      <td>6</td>\n",
              "      <td>2010-12-01 08:28:00</td>\n",
              "      <td>1.85</td>\n",
              "      <td>17850.0</td>\n",
              "      <td>United Kingdom</td>\n",
              "    </tr>\n",
              "    <tr>\n",
              "      <th>8</th>\n",
              "      <td>536366</td>\n",
              "      <td>22632</td>\n",
              "      <td>HAND WARMER RED POLKA DOT</td>\n",
              "      <td>6</td>\n",
              "      <td>2010-12-01 08:28:00</td>\n",
              "      <td>1.85</td>\n",
              "      <td>17850.0</td>\n",
              "      <td>United Kingdom</td>\n",
              "    </tr>\n",
              "    <tr>\n",
              "      <th>9</th>\n",
              "      <td>536367</td>\n",
              "      <td>84879</td>\n",
              "      <td>ASSORTED COLOUR BIRD ORNAMENT</td>\n",
              "      <td>32</td>\n",
              "      <td>2010-12-01 08:34:00</td>\n",
              "      <td>1.69</td>\n",
              "      <td>13047.0</td>\n",
              "      <td>United Kingdom</td>\n",
              "    </tr>\n",
              "    <tr>\n",
              "      <th>10</th>\n",
              "      <td>536367</td>\n",
              "      <td>22745</td>\n",
              "      <td>POPPY'S PLAYHOUSE BEDROOM</td>\n",
              "      <td>6</td>\n",
              "      <td>2010-12-01 08:34:00</td>\n",
              "      <td>2.10</td>\n",
              "      <td>13047.0</td>\n",
              "      <td>United Kingdom</td>\n",
              "    </tr>\n",
              "    <tr>\n",
              "      <th>11</th>\n",
              "      <td>536367</td>\n",
              "      <td>22748</td>\n",
              "      <td>POPPY'S PLAYHOUSE KITCHEN</td>\n",
              "      <td>6</td>\n",
              "      <td>2010-12-01 08:34:00</td>\n",
              "      <td>2.10</td>\n",
              "      <td>13047.0</td>\n",
              "      <td>United Kingdom</td>\n",
              "    </tr>\n",
              "    <tr>\n",
              "      <th>12</th>\n",
              "      <td>536367</td>\n",
              "      <td>22749</td>\n",
              "      <td>FELTCRAFT PRINCESS CHARLOTTE DOLL</td>\n",
              "      <td>8</td>\n",
              "      <td>2010-12-01 08:34:00</td>\n",
              "      <td>3.75</td>\n",
              "      <td>13047.0</td>\n",
              "      <td>United Kingdom</td>\n",
              "    </tr>\n",
              "    <tr>\n",
              "      <th>13</th>\n",
              "      <td>536367</td>\n",
              "      <td>22310</td>\n",
              "      <td>IVORY KNITTED MUG COSY</td>\n",
              "      <td>6</td>\n",
              "      <td>2010-12-01 08:34:00</td>\n",
              "      <td>1.65</td>\n",
              "      <td>13047.0</td>\n",
              "      <td>United Kingdom</td>\n",
              "    </tr>\n",
              "    <tr>\n",
              "      <th>14</th>\n",
              "      <td>536367</td>\n",
              "      <td>84969</td>\n",
              "      <td>BOX OF 6 ASSORTED COLOUR TEASPOONS</td>\n",
              "      <td>6</td>\n",
              "      <td>2010-12-01 08:34:00</td>\n",
              "      <td>4.25</td>\n",
              "      <td>13047.0</td>\n",
              "      <td>United Kingdom</td>\n",
              "    </tr>\n",
              "    <tr>\n",
              "      <th>15</th>\n",
              "      <td>536367</td>\n",
              "      <td>22623</td>\n",
              "      <td>BOX OF VINTAGE JIGSAW BLOCKS</td>\n",
              "      <td>3</td>\n",
              "      <td>2010-12-01 08:34:00</td>\n",
              "      <td>4.95</td>\n",
              "      <td>13047.0</td>\n",
              "      <td>United Kingdom</td>\n",
              "    </tr>\n",
              "    <tr>\n",
              "      <th>16</th>\n",
              "      <td>536367</td>\n",
              "      <td>22622</td>\n",
              "      <td>BOX OF VINTAGE ALPHABET BLOCKS</td>\n",
              "      <td>2</td>\n",
              "      <td>2010-12-01 08:34:00</td>\n",
              "      <td>9.95</td>\n",
              "      <td>13047.0</td>\n",
              "      <td>United Kingdom</td>\n",
              "    </tr>\n",
              "    <tr>\n",
              "      <th>17</th>\n",
              "      <td>536367</td>\n",
              "      <td>21754</td>\n",
              "      <td>HOME BUILDING BLOCK WORD</td>\n",
              "      <td>3</td>\n",
              "      <td>2010-12-01 08:34:00</td>\n",
              "      <td>5.95</td>\n",
              "      <td>13047.0</td>\n",
              "      <td>United Kingdom</td>\n",
              "    </tr>\n",
              "    <tr>\n",
              "      <th>18</th>\n",
              "      <td>536367</td>\n",
              "      <td>21755</td>\n",
              "      <td>LOVE BUILDING BLOCK WORD</td>\n",
              "      <td>3</td>\n",
              "      <td>2010-12-01 08:34:00</td>\n",
              "      <td>5.95</td>\n",
              "      <td>13047.0</td>\n",
              "      <td>United Kingdom</td>\n",
              "    </tr>\n",
              "    <tr>\n",
              "      <th>19</th>\n",
              "      <td>536367</td>\n",
              "      <td>21777</td>\n",
              "      <td>RECIPE BOX WITH METAL HEART</td>\n",
              "      <td>4</td>\n",
              "      <td>2010-12-01 08:34:00</td>\n",
              "      <td>7.95</td>\n",
              "      <td>13047.0</td>\n",
              "      <td>United Kingdom</td>\n",
              "    </tr>\n",
              "    <tr>\n",
              "      <th>20</th>\n",
              "      <td>536367</td>\n",
              "      <td>48187</td>\n",
              "      <td>DOORMAT NEW ENGLAND</td>\n",
              "      <td>4</td>\n",
              "      <td>2010-12-01 08:34:00</td>\n",
              "      <td>7.95</td>\n",
              "      <td>13047.0</td>\n",
              "      <td>United Kingdom</td>\n",
              "    </tr>\n",
              "    <tr>\n",
              "      <th>21</th>\n",
              "      <td>536368</td>\n",
              "      <td>22960</td>\n",
              "      <td>JAM MAKING SET WITH JARS</td>\n",
              "      <td>6</td>\n",
              "      <td>2010-12-01 08:34:00</td>\n",
              "      <td>4.25</td>\n",
              "      <td>13047.0</td>\n",
              "      <td>United Kingdom</td>\n",
              "    </tr>\n",
              "    <tr>\n",
              "      <th>22</th>\n",
              "      <td>536368</td>\n",
              "      <td>22913</td>\n",
              "      <td>RED COAT RACK PARIS FASHION</td>\n",
              "      <td>3</td>\n",
              "      <td>2010-12-01 08:34:00</td>\n",
              "      <td>4.95</td>\n",
              "      <td>13047.0</td>\n",
              "      <td>United Kingdom</td>\n",
              "    </tr>\n",
              "    <tr>\n",
              "      <th>23</th>\n",
              "      <td>536368</td>\n",
              "      <td>22912</td>\n",
              "      <td>YELLOW COAT RACK PARIS FASHION</td>\n",
              "      <td>3</td>\n",
              "      <td>2010-12-01 08:34:00</td>\n",
              "      <td>4.95</td>\n",
              "      <td>13047.0</td>\n",
              "      <td>United Kingdom</td>\n",
              "    </tr>\n",
              "    <tr>\n",
              "      <th>24</th>\n",
              "      <td>536368</td>\n",
              "      <td>22914</td>\n",
              "      <td>BLUE COAT RACK PARIS FASHION</td>\n",
              "      <td>3</td>\n",
              "      <td>2010-12-01 08:34:00</td>\n",
              "      <td>4.95</td>\n",
              "      <td>13047.0</td>\n",
              "      <td>United Kingdom</td>\n",
              "    </tr>\n",
              "    <tr>\n",
              "      <th>25</th>\n",
              "      <td>536369</td>\n",
              "      <td>21756</td>\n",
              "      <td>BATH BUILDING BLOCK WORD</td>\n",
              "      <td>3</td>\n",
              "      <td>2010-12-01 08:35:00</td>\n",
              "      <td>5.95</td>\n",
              "      <td>13047.0</td>\n",
              "      <td>United Kingdom</td>\n",
              "    </tr>\n",
              "    <tr>\n",
              "      <th>26</th>\n",
              "      <td>536370</td>\n",
              "      <td>22728</td>\n",
              "      <td>ALARM CLOCK BAKELIKE PINK</td>\n",
              "      <td>24</td>\n",
              "      <td>2010-12-01 08:45:00</td>\n",
              "      <td>3.75</td>\n",
              "      <td>12583.0</td>\n",
              "      <td>France</td>\n",
              "    </tr>\n",
              "    <tr>\n",
              "      <th>27</th>\n",
              "      <td>536370</td>\n",
              "      <td>22727</td>\n",
              "      <td>ALARM CLOCK BAKELIKE RED</td>\n",
              "      <td>24</td>\n",
              "      <td>2010-12-01 08:45:00</td>\n",
              "      <td>3.75</td>\n",
              "      <td>12583.0</td>\n",
              "      <td>France</td>\n",
              "    </tr>\n",
              "    <tr>\n",
              "      <th>28</th>\n",
              "      <td>536370</td>\n",
              "      <td>22726</td>\n",
              "      <td>ALARM CLOCK BAKELIKE GREEN</td>\n",
              "      <td>12</td>\n",
              "      <td>2010-12-01 08:45:00</td>\n",
              "      <td>3.75</td>\n",
              "      <td>12583.0</td>\n",
              "      <td>France</td>\n",
              "    </tr>\n",
              "    <tr>\n",
              "      <th>29</th>\n",
              "      <td>536370</td>\n",
              "      <td>21724</td>\n",
              "      <td>PANDA AND BUNNIES STICKER SHEET</td>\n",
              "      <td>12</td>\n",
              "      <td>2010-12-01 08:45:00</td>\n",
              "      <td>0.85</td>\n",
              "      <td>12583.0</td>\n",
              "      <td>France</td>\n",
              "    </tr>\n",
              "    <tr>\n",
              "      <th>30</th>\n",
              "      <td>536370</td>\n",
              "      <td>21883</td>\n",
              "      <td>STARS GIFT TAPE</td>\n",
              "      <td>24</td>\n",
              "      <td>2010-12-01 08:45:00</td>\n",
              "      <td>0.65</td>\n",
              "      <td>12583.0</td>\n",
              "      <td>France</td>\n",
              "    </tr>\n",
              "    <tr>\n",
              "      <th>31</th>\n",
              "      <td>536370</td>\n",
              "      <td>10002</td>\n",
              "      <td>INFLATABLE POLITICAL GLOBE</td>\n",
              "      <td>48</td>\n",
              "      <td>2010-12-01 08:45:00</td>\n",
              "      <td>0.85</td>\n",
              "      <td>12583.0</td>\n",
              "      <td>France</td>\n",
              "    </tr>\n",
              "    <tr>\n",
              "      <th>32</th>\n",
              "      <td>536370</td>\n",
              "      <td>21791</td>\n",
              "      <td>VINTAGE HEADS AND TAILS CARD GAME</td>\n",
              "      <td>24</td>\n",
              "      <td>2010-12-01 08:45:00</td>\n",
              "      <td>1.25</td>\n",
              "      <td>12583.0</td>\n",
              "      <td>France</td>\n",
              "    </tr>\n",
              "    <tr>\n",
              "      <th>33</th>\n",
              "      <td>536370</td>\n",
              "      <td>21035</td>\n",
              "      <td>SET/2 RED RETROSPOT TEA TOWELS</td>\n",
              "      <td>18</td>\n",
              "      <td>2010-12-01 08:45:00</td>\n",
              "      <td>2.95</td>\n",
              "      <td>12583.0</td>\n",
              "      <td>France</td>\n",
              "    </tr>\n",
              "    <tr>\n",
              "      <th>34</th>\n",
              "      <td>536370</td>\n",
              "      <td>22326</td>\n",
              "      <td>ROUND SNACK BOXES SET OF4 WOODLAND</td>\n",
              "      <td>24</td>\n",
              "      <td>2010-12-01 08:45:00</td>\n",
              "      <td>2.95</td>\n",
              "      <td>12583.0</td>\n",
              "      <td>France</td>\n",
              "    </tr>\n",
              "    <tr>\n",
              "      <th>35</th>\n",
              "      <td>536370</td>\n",
              "      <td>22629</td>\n",
              "      <td>SPACEBOY LUNCH BOX</td>\n",
              "      <td>24</td>\n",
              "      <td>2010-12-01 08:45:00</td>\n",
              "      <td>1.95</td>\n",
              "      <td>12583.0</td>\n",
              "      <td>France</td>\n",
              "    </tr>\n",
              "    <tr>\n",
              "      <th>36</th>\n",
              "      <td>536370</td>\n",
              "      <td>22659</td>\n",
              "      <td>LUNCH BOX I LOVE LONDON</td>\n",
              "      <td>24</td>\n",
              "      <td>2010-12-01 08:45:00</td>\n",
              "      <td>1.95</td>\n",
              "      <td>12583.0</td>\n",
              "      <td>France</td>\n",
              "    </tr>\n",
              "    <tr>\n",
              "      <th>37</th>\n",
              "      <td>536370</td>\n",
              "      <td>22631</td>\n",
              "      <td>CIRCUS PARADE LUNCH BOX</td>\n",
              "      <td>24</td>\n",
              "      <td>2010-12-01 08:45:00</td>\n",
              "      <td>1.95</td>\n",
              "      <td>12583.0</td>\n",
              "      <td>France</td>\n",
              "    </tr>\n",
              "    <tr>\n",
              "      <th>38</th>\n",
              "      <td>536370</td>\n",
              "      <td>22661</td>\n",
              "      <td>CHARLOTTE BAG DOLLY GIRL DESIGN</td>\n",
              "      <td>20</td>\n",
              "      <td>2010-12-01 08:45:00</td>\n",
              "      <td>0.85</td>\n",
              "      <td>12583.0</td>\n",
              "      <td>France</td>\n",
              "    </tr>\n",
              "    <tr>\n",
              "      <th>39</th>\n",
              "      <td>536370</td>\n",
              "      <td>21731</td>\n",
              "      <td>RED TOADSTOOL LED NIGHT LIGHT</td>\n",
              "      <td>24</td>\n",
              "      <td>2010-12-01 08:45:00</td>\n",
              "      <td>1.65</td>\n",
              "      <td>12583.0</td>\n",
              "      <td>France</td>\n",
              "    </tr>\n",
              "    <tr>\n",
              "      <th>40</th>\n",
              "      <td>536370</td>\n",
              "      <td>22900</td>\n",
              "      <td>SET 2 TEA TOWELS I LOVE LONDON</td>\n",
              "      <td>24</td>\n",
              "      <td>2010-12-01 08:45:00</td>\n",
              "      <td>2.95</td>\n",
              "      <td>12583.0</td>\n",
              "      <td>France</td>\n",
              "    </tr>\n",
              "    <tr>\n",
              "      <th>41</th>\n",
              "      <td>536370</td>\n",
              "      <td>21913</td>\n",
              "      <td>VINTAGE SEASIDE JIGSAW PUZZLES</td>\n",
              "      <td>12</td>\n",
              "      <td>2010-12-01 08:45:00</td>\n",
              "      <td>3.75</td>\n",
              "      <td>12583.0</td>\n",
              "      <td>France</td>\n",
              "    </tr>\n",
              "    <tr>\n",
              "      <th>42</th>\n",
              "      <td>536370</td>\n",
              "      <td>22540</td>\n",
              "      <td>MINI JIGSAW CIRCUS PARADE</td>\n",
              "      <td>24</td>\n",
              "      <td>2010-12-01 08:45:00</td>\n",
              "      <td>0.42</td>\n",
              "      <td>12583.0</td>\n",
              "      <td>France</td>\n",
              "    </tr>\n",
              "    <tr>\n",
              "      <th>43</th>\n",
              "      <td>536370</td>\n",
              "      <td>22544</td>\n",
              "      <td>MINI JIGSAW SPACEBOY</td>\n",
              "      <td>24</td>\n",
              "      <td>2010-12-01 08:45:00</td>\n",
              "      <td>0.42</td>\n",
              "      <td>12583.0</td>\n",
              "      <td>France</td>\n",
              "    </tr>\n",
              "    <tr>\n",
              "      <th>44</th>\n",
              "      <td>536370</td>\n",
              "      <td>22492</td>\n",
              "      <td>MINI PAINT SET VINTAGE</td>\n",
              "      <td>36</td>\n",
              "      <td>2010-12-01 08:45:00</td>\n",
              "      <td>0.65</td>\n",
              "      <td>12583.0</td>\n",
              "      <td>France</td>\n",
              "    </tr>\n",
              "    <tr>\n",
              "      <th>45</th>\n",
              "      <td>536370</td>\n",
              "      <td>POST</td>\n",
              "      <td>POSTAGE</td>\n",
              "      <td>3</td>\n",
              "      <td>2010-12-01 08:45:00</td>\n",
              "      <td>18.00</td>\n",
              "      <td>12583.0</td>\n",
              "      <td>France</td>\n",
              "    </tr>\n",
              "    <tr>\n",
              "      <th>46</th>\n",
              "      <td>536371</td>\n",
              "      <td>22086</td>\n",
              "      <td>PAPER CHAIN KIT 50'S CHRISTMAS</td>\n",
              "      <td>80</td>\n",
              "      <td>2010-12-01 09:00:00</td>\n",
              "      <td>2.55</td>\n",
              "      <td>13748.0</td>\n",
              "      <td>United Kingdom</td>\n",
              "    </tr>\n",
              "    <tr>\n",
              "      <th>47</th>\n",
              "      <td>536372</td>\n",
              "      <td>22632</td>\n",
              "      <td>HAND WARMER RED POLKA DOT</td>\n",
              "      <td>6</td>\n",
              "      <td>2010-12-01 09:01:00</td>\n",
              "      <td>1.85</td>\n",
              "      <td>17850.0</td>\n",
              "      <td>United Kingdom</td>\n",
              "    </tr>\n",
              "    <tr>\n",
              "      <th>48</th>\n",
              "      <td>536372</td>\n",
              "      <td>22633</td>\n",
              "      <td>HAND WARMER UNION JACK</td>\n",
              "      <td>6</td>\n",
              "      <td>2010-12-01 09:01:00</td>\n",
              "      <td>1.85</td>\n",
              "      <td>17850.0</td>\n",
              "      <td>United Kingdom</td>\n",
              "    </tr>\n",
              "    <tr>\n",
              "      <th>49</th>\n",
              "      <td>536373</td>\n",
              "      <td>85123A</td>\n",
              "      <td>WHITE HANGING HEART T-LIGHT HOLDER</td>\n",
              "      <td>6</td>\n",
              "      <td>2010-12-01 09:02:00</td>\n",
              "      <td>2.55</td>\n",
              "      <td>17850.0</td>\n",
              "      <td>United Kingdom</td>\n",
              "    </tr>\n",
              "    <tr>\n",
              "      <th>50</th>\n",
              "      <td>536373</td>\n",
              "      <td>71053</td>\n",
              "      <td>WHITE METAL LANTERN</td>\n",
              "      <td>6</td>\n",
              "      <td>2010-12-01 09:02:00</td>\n",
              "      <td>3.39</td>\n",
              "      <td>17850.0</td>\n",
              "      <td>United Kingdom</td>\n",
              "    </tr>\n",
              "    <tr>\n",
              "      <th>51</th>\n",
              "      <td>536373</td>\n",
              "      <td>84406B</td>\n",
              "      <td>CREAM CUPID HEARTS COAT HANGER</td>\n",
              "      <td>8</td>\n",
              "      <td>2010-12-01 09:02:00</td>\n",
              "      <td>2.75</td>\n",
              "      <td>17850.0</td>\n",
              "      <td>United Kingdom</td>\n",
              "    </tr>\n",
              "    <tr>\n",
              "      <th>52</th>\n",
              "      <td>536373</td>\n",
              "      <td>20679</td>\n",
              "      <td>EDWARDIAN PARASOL RED</td>\n",
              "      <td>6</td>\n",
              "      <td>2010-12-01 09:02:00</td>\n",
              "      <td>4.95</td>\n",
              "      <td>17850.0</td>\n",
              "      <td>United Kingdom</td>\n",
              "    </tr>\n",
              "    <tr>\n",
              "      <th>53</th>\n",
              "      <td>536373</td>\n",
              "      <td>37370</td>\n",
              "      <td>RETRO COFFEE MUGS ASSORTED</td>\n",
              "      <td>6</td>\n",
              "      <td>2010-12-01 09:02:00</td>\n",
              "      <td>1.06</td>\n",
              "      <td>17850.0</td>\n",
              "      <td>United Kingdom</td>\n",
              "    </tr>\n",
              "    <tr>\n",
              "      <th>54</th>\n",
              "      <td>536373</td>\n",
              "      <td>21871</td>\n",
              "      <td>SAVE THE PLANET MUG</td>\n",
              "      <td>6</td>\n",
              "      <td>2010-12-01 09:02:00</td>\n",
              "      <td>1.06</td>\n",
              "      <td>17850.0</td>\n",
              "      <td>United Kingdom</td>\n",
              "    </tr>\n",
              "    <tr>\n",
              "      <th>55</th>\n",
              "      <td>536373</td>\n",
              "      <td>21071</td>\n",
              "      <td>VINTAGE BILLBOARD DRINK ME MUG</td>\n",
              "      <td>6</td>\n",
              "      <td>2010-12-01 09:02:00</td>\n",
              "      <td>1.06</td>\n",
              "      <td>17850.0</td>\n",
              "      <td>United Kingdom</td>\n",
              "    </tr>\n",
              "    <tr>\n",
              "      <th>56</th>\n",
              "      <td>536373</td>\n",
              "      <td>21068</td>\n",
              "      <td>VINTAGE BILLBOARD LOVE/HATE MUG</td>\n",
              "      <td>6</td>\n",
              "      <td>2010-12-01 09:02:00</td>\n",
              "      <td>1.06</td>\n",
              "      <td>17850.0</td>\n",
              "      <td>United Kingdom</td>\n",
              "    </tr>\n",
              "    <tr>\n",
              "      <th>57</th>\n",
              "      <td>536373</td>\n",
              "      <td>82483</td>\n",
              "      <td>WOOD 2 DRAWER CABINET WHITE FINISH</td>\n",
              "      <td>2</td>\n",
              "      <td>2010-12-01 09:02:00</td>\n",
              "      <td>4.95</td>\n",
              "      <td>17850.0</td>\n",
              "      <td>United Kingdom</td>\n",
              "    </tr>\n",
              "    <tr>\n",
              "      <th>58</th>\n",
              "      <td>536373</td>\n",
              "      <td>82486</td>\n",
              "      <td>WOOD S/3 CABINET ANT WHITE FINISH</td>\n",
              "      <td>4</td>\n",
              "      <td>2010-12-01 09:02:00</td>\n",
              "      <td>6.95</td>\n",
              "      <td>17850.0</td>\n",
              "      <td>United Kingdom</td>\n",
              "    </tr>\n",
              "    <tr>\n",
              "      <th>59</th>\n",
              "      <td>536373</td>\n",
              "      <td>82482</td>\n",
              "      <td>WOODEN PICTURE FRAME WHITE FINISH</td>\n",
              "      <td>6</td>\n",
              "      <td>2010-12-01 09:02:00</td>\n",
              "      <td>2.10</td>\n",
              "      <td>17850.0</td>\n",
              "      <td>United Kingdom</td>\n",
              "    </tr>\n",
              "  </tbody>\n",
              "</table>\n",
              "</div>"
            ],
            "text/plain": [
              "   InvoiceNo StockCode  ... CustomerID         Country\n",
              "0     536365    85123A  ...    17850.0  United Kingdom\n",
              "1     536365     71053  ...    17850.0  United Kingdom\n",
              "2     536365    84406B  ...    17850.0  United Kingdom\n",
              "3     536365    84029G  ...    17850.0  United Kingdom\n",
              "4     536365    84029E  ...    17850.0  United Kingdom\n",
              "5     536365     22752  ...    17850.0  United Kingdom\n",
              "6     536365     21730  ...    17850.0  United Kingdom\n",
              "7     536366     22633  ...    17850.0  United Kingdom\n",
              "8     536366     22632  ...    17850.0  United Kingdom\n",
              "9     536367     84879  ...    13047.0  United Kingdom\n",
              "10    536367     22745  ...    13047.0  United Kingdom\n",
              "11    536367     22748  ...    13047.0  United Kingdom\n",
              "12    536367     22749  ...    13047.0  United Kingdom\n",
              "13    536367     22310  ...    13047.0  United Kingdom\n",
              "14    536367     84969  ...    13047.0  United Kingdom\n",
              "15    536367     22623  ...    13047.0  United Kingdom\n",
              "16    536367     22622  ...    13047.0  United Kingdom\n",
              "17    536367     21754  ...    13047.0  United Kingdom\n",
              "18    536367     21755  ...    13047.0  United Kingdom\n",
              "19    536367     21777  ...    13047.0  United Kingdom\n",
              "20    536367     48187  ...    13047.0  United Kingdom\n",
              "21    536368     22960  ...    13047.0  United Kingdom\n",
              "22    536368     22913  ...    13047.0  United Kingdom\n",
              "23    536368     22912  ...    13047.0  United Kingdom\n",
              "24    536368     22914  ...    13047.0  United Kingdom\n",
              "25    536369     21756  ...    13047.0  United Kingdom\n",
              "26    536370     22728  ...    12583.0          France\n",
              "27    536370     22727  ...    12583.0          France\n",
              "28    536370     22726  ...    12583.0          France\n",
              "29    536370     21724  ...    12583.0          France\n",
              "30    536370     21883  ...    12583.0          France\n",
              "31    536370     10002  ...    12583.0          France\n",
              "32    536370     21791  ...    12583.0          France\n",
              "33    536370     21035  ...    12583.0          France\n",
              "34    536370     22326  ...    12583.0          France\n",
              "35    536370     22629  ...    12583.0          France\n",
              "36    536370     22659  ...    12583.0          France\n",
              "37    536370     22631  ...    12583.0          France\n",
              "38    536370     22661  ...    12583.0          France\n",
              "39    536370     21731  ...    12583.0          France\n",
              "40    536370     22900  ...    12583.0          France\n",
              "41    536370     21913  ...    12583.0          France\n",
              "42    536370     22540  ...    12583.0          France\n",
              "43    536370     22544  ...    12583.0          France\n",
              "44    536370     22492  ...    12583.0          France\n",
              "45    536370      POST  ...    12583.0          France\n",
              "46    536371     22086  ...    13748.0  United Kingdom\n",
              "47    536372     22632  ...    17850.0  United Kingdom\n",
              "48    536372     22633  ...    17850.0  United Kingdom\n",
              "49    536373    85123A  ...    17850.0  United Kingdom\n",
              "50    536373     71053  ...    17850.0  United Kingdom\n",
              "51    536373    84406B  ...    17850.0  United Kingdom\n",
              "52    536373     20679  ...    17850.0  United Kingdom\n",
              "53    536373     37370  ...    17850.0  United Kingdom\n",
              "54    536373     21871  ...    17850.0  United Kingdom\n",
              "55    536373     21071  ...    17850.0  United Kingdom\n",
              "56    536373     21068  ...    17850.0  United Kingdom\n",
              "57    536373     82483  ...    17850.0  United Kingdom\n",
              "58    536373     82486  ...    17850.0  United Kingdom\n",
              "59    536373     82482  ...    17850.0  United Kingdom\n",
              "\n",
              "[60 rows x 8 columns]"
            ]
          },
          "metadata": {
            "tags": []
          },
          "execution_count": 60
        }
      ]
    },
    {
      "cell_type": "code",
      "metadata": {
        "id": "Wx8Mp9sMtTeb"
      },
      "source": [
        "#Train a word2vec model\n",
        "#Starting with a vector size of 10\n",
        "customer_model = gensim.models.Word2Vec(customer_list_train, min_count=1, size=100, window=100,seed=7)"
      ],
      "execution_count": null,
      "outputs": []
    },
    {
      "cell_type": "code",
      "metadata": {
        "colab": {
          "base_uri": "https://localhost:8080/"
        },
        "id": "aqNLyPcztTeb",
        "outputId": "5a882528-cf12-48d5-85c5-0ffe63170c32"
      },
      "source": [
        "#Find 5 most similar customers\n",
        "customer_model.most_similar(positive='17850.0')[:5]"
      ],
      "execution_count": null,
      "outputs": [
        {
          "output_type": "execute_result",
          "data": {
            "text/plain": [
              "[('17496.0', 0.8699281215667725),\n",
              " ('14821.0', 0.8585019111633301),\n",
              " ('17732.0', 0.8549244403839111),\n",
              " ('15350.0', 0.8437656164169312),\n",
              " ('17525.0', 0.8364177346229553)]"
            ]
          },
          "metadata": {
            "tags": []
          },
          "execution_count": 62
        }
      ]
    },
    {
      "cell_type": "code",
      "metadata": {
        "colab": {
          "base_uri": "https://localhost:8080/"
        },
        "id": "bUYDrcyAyajU",
        "outputId": "222eaea9-cb33-4453-9787-c11294fa3824"
      },
      "source": [
        "#Seeing this customer's history\n",
        "df2[df2.CustomerID == '17850.0']['Description'][:10].tolist()"
      ],
      "execution_count": null,
      "outputs": [
        {
          "output_type": "execute_result",
          "data": {
            "text/plain": [
              "['WHITE HANGING HEART T-LIGHT HOLDER',\n",
              " 'WHITE METAL LANTERN',\n",
              " 'CREAM CUPID HEARTS COAT HANGER',\n",
              " 'KNITTED UNION FLAG HOT WATER BOTTLE',\n",
              " 'RED WOOLLY HOTTIE WHITE HEART.',\n",
              " 'SET 7 BABUSHKA NESTING BOXES',\n",
              " 'GLASS STAR FROSTED T-LIGHT HOLDER',\n",
              " 'HAND WARMER UNION JACK',\n",
              " 'HAND WARMER RED POLKA DOT',\n",
              " 'HAND WARMER RED POLKA DOT']"
            ]
          },
          "metadata": {
            "tags": []
          },
          "execution_count": 63
        }
      ]
    },
    {
      "cell_type": "code",
      "metadata": {
        "colab": {
          "base_uri": "https://localhost:8080/"
        },
        "id": "g-SRMnozyZ8K",
        "outputId": "5240cde0-ae5c-421a-8b20-53e24da7c5d4"
      },
      "source": [
        "#Seeing this customer's most similar customer's history\n",
        "most_similar_customer = customer_model.most_similar(positive='17850.0')[:1][0][0]\n",
        "df2[df2.CustomerID == most_similar_customer]['Description'][:10].tolist()"
      ],
      "execution_count": null,
      "outputs": [
        {
          "output_type": "execute_result",
          "data": {
            "text/plain": [
              "['ASSORTED COLOURS SILK FAN',\n",
              " 'RED HANGING HEART T-LIGHT HOLDER',\n",
              " 'WHITE HANGING HEART T-LIGHT HOLDER',\n",
              " 'PLEASE ONE PERSON METAL SIGN',\n",
              " 'FAUX FUR CHOCOLATE THROW',\n",
              " 'GREY HEART HOT WATER BOTTLE',\n",
              " 'SCOTTIE DOG HOT WATER BOTTLE',\n",
              " 'CHOCOLATE HOT WATER BOTTLE',\n",
              " 'HOT WATER BOTTLE BABUSHKA ',\n",
              " 'HOT WATER BOTTLE I AM SO POORLY']"
            ]
          },
          "metadata": {
            "tags": []
          },
          "execution_count": 64
        }
      ]
    },
    {
      "cell_type": "code",
      "metadata": {
        "id": "R2zo2A87tTec"
      },
      "source": [
        "#Dimensionality reduction\n",
        "vector_list = customer_model[df2_train['CustomerID'].unique().tolist()]"
      ],
      "execution_count": null,
      "outputs": []
    },
    {
      "cell_type": "code",
      "metadata": {
        "id": "_Y2XAWcs1hoZ"
      },
      "source": [
        "#function to output list of customers likely to buy a product\n",
        "def potential_customers(stock_code):\n",
        "  past_cust = df2_train[df2_train['StockCode']==stock_code]['CustomerID'].tolist()[:10]\n",
        "  potential_customers = customer_model.most_similar(positive=past_cust)[:10]\n",
        "  return potential_customers"
      ],
      "execution_count": null,
      "outputs": []
    },
    {
      "cell_type": "code",
      "metadata": {
        "colab": {
          "base_uri": "https://localhost:8080/"
        },
        "id": "dXdbJwWF5nPv",
        "outputId": "22b18d99-ea9e-44dd-a772-550c1401eeac"
      },
      "source": [
        "#Example product\n",
        "product_id = '84406B'\n",
        "\n",
        "#Description of the product code we are using\n",
        "print('Description of produce we are looking at:\\n', df2[df2.StockCode == product_id]['Description'][:1].tolist()[0], '\\n')\n",
        "\n",
        "#Testing the function by sending in the product code\n",
        "potential_cust = potential_customers(product_id)\n",
        "print('Customers likely to want to buy this product:\\n', potential_cust[:5], '\\n')\n",
        "\n",
        "#Purchase history of the most likely next customer\n",
        "print('Purchase history of', potential_cust[0][0], ':')\n",
        "print(df2[df2.CustomerID == potential_cust[0][0]]['Description'][:10].tolist())\n",
        "\n",
        "#Purchase history of the second most likely next customer\n",
        "print('Purchase history of', potential_cust[1][0], ':')\n",
        "print(df2[df2.CustomerID == potential_cust[1][0]]['Description'][:10].tolist(), '\\n')"
      ],
      "execution_count": null,
      "outputs": [
        {
          "output_type": "stream",
          "text": [
            "Description of produce we are looking at:\n",
            " CREAM CUPID HEARTS COAT HANGER \n",
            "\n",
            "Customers likely to want to buy this product:\n",
            " [('17496.0', 0.8851398229598999), ('17732.0', 0.8789436221122742), ('13065.0', 0.8688386678695679), ('15350.0', 0.8629039525985718), ('14821.0', 0.8598238229751587)] \n",
            "\n",
            "Purchase history of 17496.0 :\n",
            "['ASSORTED COLOURS SILK FAN', 'RED HANGING HEART T-LIGHT HOLDER', 'WHITE HANGING HEART T-LIGHT HOLDER', 'PLEASE ONE PERSON METAL SIGN', 'FAUX FUR CHOCOLATE THROW', 'GREY HEART HOT WATER BOTTLE', 'SCOTTIE DOG HOT WATER BOTTLE', 'CHOCOLATE HOT WATER BOTTLE', 'HOT WATER BOTTLE BABUSHKA ', 'HOT WATER BOTTLE I AM SO POORLY']\n",
            "Purchase history of 17732.0 :\n",
            "['VINTAGE CREAM 3 BASKET CAKE STAND', 'CHRISTMAS RETROSPOT HEART WOOD', 'HOME BUILDING BLOCK WORD', 'BATH BUILDING BLOCK WORD', 'FAWN BLUE HOT WATER BOTTLE', 'HOT WATER BOTTLE TEA AND SYMPATHY', 'JUMBO BAG PINK POLKADOT', 'JUMBO BAG RED RETROSPOT', 'DOORMAT RESPECTABLE HOUSE', 'DOORMAT UNION JACK GUNS AND ROSES'] \n",
            "\n"
          ],
          "name": "stdout"
        }
      ]
    },
    {
      "cell_type": "code",
      "metadata": {
        "colab": {
          "base_uri": "https://localhost:8080/"
        },
        "id": "DxgH1Q6ftTec",
        "outputId": "83d5f53a-4bfd-4d4f-8b6d-98a9cc2145e6"
      },
      "source": [
        "from sklearn.manifold import TSNE\n",
        "data_embed = TSNE(n_components=2, perplexity=50, verbose=2, method='barnes_hut').fit_transform(vector_list)"
      ],
      "execution_count": null,
      "outputs": [
        {
          "output_type": "stream",
          "text": [
            "[t-SNE] Computing 151 nearest neighbors...\n",
            "[t-SNE] Indexed 4359 samples in 0.047s...\n",
            "[t-SNE] Computed neighbors for 4359 samples in 4.597s...\n",
            "[t-SNE] Computed conditional probabilities for sample 1000 / 4359\n",
            "[t-SNE] Computed conditional probabilities for sample 2000 / 4359\n",
            "[t-SNE] Computed conditional probabilities for sample 3000 / 4359\n",
            "[t-SNE] Computed conditional probabilities for sample 4000 / 4359\n",
            "[t-SNE] Computed conditional probabilities for sample 4359 / 4359\n",
            "[t-SNE] Mean sigma: 0.529252\n",
            "[t-SNE] Computed conditional probabilities in 0.398s\n",
            "[t-SNE] Iteration 50: error = 78.5780029, gradient norm = 0.0000374 (50 iterations in 2.337s)\n",
            "[t-SNE] Iteration 100: error = 77.9665985, gradient norm = 0.0102175 (50 iterations in 2.658s)\n",
            "[t-SNE] Iteration 150: error = 77.4517517, gradient norm = 0.0000919 (50 iterations in 2.131s)\n",
            "[t-SNE] Iteration 200: error = 77.4489822, gradient norm = 0.0005421 (50 iterations in 2.433s)\n",
            "[t-SNE] Iteration 250: error = 77.3232498, gradient norm = 0.0009128 (50 iterations in 2.523s)\n",
            "[t-SNE] KL divergence after 250 iterations with early exaggeration: 77.323250\n",
            "[t-SNE] Iteration 300: error = 2.1546807, gradient norm = 0.0009403 (50 iterations in 2.078s)\n",
            "[t-SNE] Iteration 350: error = 1.9737558, gradient norm = 0.0003696 (50 iterations in 2.050s)\n",
            "[t-SNE] Iteration 400: error = 1.9022551, gradient norm = 0.0001972 (50 iterations in 2.062s)\n",
            "[t-SNE] Iteration 450: error = 1.8651575, gradient norm = 0.0001261 (50 iterations in 2.088s)\n",
            "[t-SNE] Iteration 500: error = 1.8438108, gradient norm = 0.0000939 (50 iterations in 2.115s)\n",
            "[t-SNE] Iteration 550: error = 1.8293408, gradient norm = 0.0000789 (50 iterations in 2.120s)\n",
            "[t-SNE] Iteration 600: error = 1.8208957, gradient norm = 0.0000617 (50 iterations in 2.117s)\n",
            "[t-SNE] Iteration 650: error = 1.8153611, gradient norm = 0.0000521 (50 iterations in 2.114s)\n",
            "[t-SNE] Iteration 700: error = 1.8112820, gradient norm = 0.0000441 (50 iterations in 2.127s)\n",
            "[t-SNE] Iteration 750: error = 1.8082938, gradient norm = 0.0000454 (50 iterations in 2.138s)\n",
            "[t-SNE] Iteration 800: error = 1.8060533, gradient norm = 0.0000362 (50 iterations in 2.133s)\n",
            "[t-SNE] Iteration 850: error = 1.8042604, gradient norm = 0.0000345 (50 iterations in 2.117s)\n",
            "[t-SNE] Iteration 900: error = 1.8029413, gradient norm = 0.0000313 (50 iterations in 2.131s)\n",
            "[t-SNE] Iteration 950: error = 1.8021543, gradient norm = 0.0000380 (50 iterations in 2.135s)\n",
            "[t-SNE] Iteration 1000: error = 1.8016133, gradient norm = 0.0000320 (50 iterations in 2.141s)\n",
            "[t-SNE] KL divergence after 1000 iterations: 1.801613\n"
          ],
          "name": "stdout"
        }
      ]
    },
    {
      "cell_type": "code",
      "metadata": {
        "colab": {
          "base_uri": "https://localhost:8080/"
        },
        "id": "cQM6kcq0qgBh",
        "outputId": "e5fd4792-9f79-46c0-e76a-8455f20ab20c"
      },
      "source": [
        "data_embed"
      ],
      "execution_count": null,
      "outputs": [
        {
          "output_type": "execute_result",
          "data": {
            "text/plain": [
              "array([[ -3.2651274, -51.947903 ],\n",
              "       [-27.871796 , -24.800701 ],\n",
              "       [-37.3478   ,  11.674446 ],\n",
              "       ...,\n",
              "       [ 32.463448 ,   0.9489198],\n",
              "       [ 16.881329 ,  24.681273 ],\n",
              "       [  1.0924712,  42.38417  ]], dtype=float32)"
            ]
          },
          "metadata": {
            "tags": []
          },
          "execution_count": 69
        }
      ]
    },
    {
      "cell_type": "code",
      "metadata": {
        "colab": {
          "base_uri": "https://localhost:8080/"
        },
        "id": "C3jV0yi72D14",
        "outputId": "8d442561-6219-4158-bd3b-929598c6918a"
      },
      "source": [
        "vector_list"
      ],
      "execution_count": null,
      "outputs": [
        {
          "output_type": "execute_result",
          "data": {
            "text/plain": [
              "array([[ 3.0901010e+00, -1.0988375e+00,  1.7203182e+00, ...,\n",
              "        -8.3690518e-01, -3.4944787e+00,  4.0846545e-01],\n",
              "       [ 2.1902628e+00,  4.0061903e-01,  3.7500688e-01, ...,\n",
              "         1.0691415e+00, -1.6061007e+00, -3.0453119e+00],\n",
              "       [-1.2169340e+00,  7.3985785e-01, -4.7757271e-01, ...,\n",
              "         2.8783541e+00,  2.9576106e+00, -6.6401708e-01],\n",
              "       ...,\n",
              "       [ 6.2205952e-02, -3.1368360e-02, -1.5082472e-02, ...,\n",
              "        -1.7851096e-02, -2.4746655e-02,  1.2941094e-03],\n",
              "       [ 1.6513637e-01,  5.4530255e-02, -4.1726362e-02, ...,\n",
              "        -1.8209267e-02,  1.2869075e-01,  1.7780763e-01],\n",
              "       [ 3.6217186e-01, -6.7249812e-02, -7.3720431e-01, ...,\n",
              "         2.9886213e-01,  8.7786549e-01,  3.0212191e-01]], dtype=float32)"
            ]
          },
          "metadata": {
            "tags": []
          },
          "execution_count": 70
        }
      ]
    },
    {
      "cell_type": "code",
      "metadata": {
        "colab": {
          "base_uri": "https://localhost:8080/",
          "height": 197
        },
        "id": "_Sjbm2ow2Drv",
        "outputId": "e50b9b09-6a4f-4e86-c64d-b2c984bdc4cf"
      },
      "source": [
        "df2_train.head()"
      ],
      "execution_count": null,
      "outputs": [
        {
          "output_type": "execute_result",
          "data": {
            "text/html": [
              "<div>\n",
              "<style scoped>\n",
              "    .dataframe tbody tr th:only-of-type {\n",
              "        vertical-align: middle;\n",
              "    }\n",
              "\n",
              "    .dataframe tbody tr th {\n",
              "        vertical-align: top;\n",
              "    }\n",
              "\n",
              "    .dataframe thead th {\n",
              "        text-align: right;\n",
              "    }\n",
              "</style>\n",
              "<table border=\"1\" class=\"dataframe\">\n",
              "  <thead>\n",
              "    <tr style=\"text-align: right;\">\n",
              "      <th></th>\n",
              "      <th>InvoiceNo</th>\n",
              "      <th>StockCode</th>\n",
              "      <th>Description</th>\n",
              "      <th>Quantity</th>\n",
              "      <th>InvoiceDate</th>\n",
              "      <th>UnitPrice</th>\n",
              "      <th>CustomerID</th>\n",
              "      <th>Country</th>\n",
              "    </tr>\n",
              "  </thead>\n",
              "  <tbody>\n",
              "    <tr>\n",
              "      <th>0</th>\n",
              "      <td>536365</td>\n",
              "      <td>85123A</td>\n",
              "      <td>WHITE HANGING HEART T-LIGHT HOLDER</td>\n",
              "      <td>6</td>\n",
              "      <td>2010-12-01 08:26:00</td>\n",
              "      <td>2.55</td>\n",
              "      <td>17850.0</td>\n",
              "      <td>United Kingdom</td>\n",
              "    </tr>\n",
              "    <tr>\n",
              "      <th>1</th>\n",
              "      <td>536365</td>\n",
              "      <td>71053</td>\n",
              "      <td>WHITE METAL LANTERN</td>\n",
              "      <td>6</td>\n",
              "      <td>2010-12-01 08:26:00</td>\n",
              "      <td>3.39</td>\n",
              "      <td>17850.0</td>\n",
              "      <td>United Kingdom</td>\n",
              "    </tr>\n",
              "    <tr>\n",
              "      <th>2</th>\n",
              "      <td>536365</td>\n",
              "      <td>84406B</td>\n",
              "      <td>CREAM CUPID HEARTS COAT HANGER</td>\n",
              "      <td>8</td>\n",
              "      <td>2010-12-01 08:26:00</td>\n",
              "      <td>2.75</td>\n",
              "      <td>17850.0</td>\n",
              "      <td>United Kingdom</td>\n",
              "    </tr>\n",
              "    <tr>\n",
              "      <th>3</th>\n",
              "      <td>536365</td>\n",
              "      <td>84029G</td>\n",
              "      <td>KNITTED UNION FLAG HOT WATER BOTTLE</td>\n",
              "      <td>6</td>\n",
              "      <td>2010-12-01 08:26:00</td>\n",
              "      <td>3.39</td>\n",
              "      <td>17850.0</td>\n",
              "      <td>United Kingdom</td>\n",
              "    </tr>\n",
              "    <tr>\n",
              "      <th>4</th>\n",
              "      <td>536365</td>\n",
              "      <td>84029E</td>\n",
              "      <td>RED WOOLLY HOTTIE WHITE HEART.</td>\n",
              "      <td>6</td>\n",
              "      <td>2010-12-01 08:26:00</td>\n",
              "      <td>3.39</td>\n",
              "      <td>17850.0</td>\n",
              "      <td>United Kingdom</td>\n",
              "    </tr>\n",
              "  </tbody>\n",
              "</table>\n",
              "</div>"
            ],
            "text/plain": [
              "  InvoiceNo StockCode  ... CustomerID         Country\n",
              "0    536365    85123A  ...    17850.0  United Kingdom\n",
              "1    536365     71053  ...    17850.0  United Kingdom\n",
              "2    536365    84406B  ...    17850.0  United Kingdom\n",
              "3    536365    84029G  ...    17850.0  United Kingdom\n",
              "4    536365    84029E  ...    17850.0  United Kingdom\n",
              "\n",
              "[5 rows x 8 columns]"
            ]
          },
          "metadata": {
            "tags": []
          },
          "execution_count": 71
        }
      ]
    },
    {
      "cell_type": "code",
      "metadata": {
        "colab": {
          "base_uri": "https://localhost:8080/"
        },
        "id": "d9cGgICu4l9O",
        "outputId": "c2d625e3-8637-4bf5-a11a-4b56c8333d2d"
      },
      "source": [
        "df2_train[['CustomerID','Quantity']].groupby('CustomerID').sum().reset_index()['Quantity']"
      ],
      "execution_count": null,
      "outputs": [
        {
          "output_type": "execute_result",
          "data": {
            "text/plain": [
              "0          0\n",
              "1       2106\n",
              "2       1981\n",
              "3        595\n",
              "4        169\n",
              "        ... \n",
              "4354      45\n",
              "4355      42\n",
              "4356      82\n",
              "4357    1240\n",
              "4358    1574\n",
              "Name: Quantity, Length: 4359, dtype: int64"
            ]
          },
          "metadata": {
            "tags": []
          },
          "execution_count": 72
        }
      ]
    },
    {
      "cell_type": "code",
      "metadata": {
        "id": "h8rU72AatTec"
      },
      "source": [
        "reduced_df = pd.DataFrame(data_embed,columns=['x','y'])\n",
        "vocab = pd.DataFrame(list(customer_model.wv.vocab))\n",
        "df2_forviz = pd.concat([reduced_df,vocab],axis=1)\n",
        "df2_forviz['country'] = df2_train[['CustomerID','Country']].groupby('CustomerID').first().reset_index()['Country']\n",
        "df2_forviz['quantity'] = df2_train[['CustomerID','Quantity']].groupby('CustomerID').sum().reset_index()['Quantity']\n",
        "\n",
        "df2_train['total_spend'] = df2_train.Quantity * df2_train.UnitPrice\n",
        "df2_forviz['total_spend'] = df2_train[['CustomerID','total_spend']].groupby('CustomerID').sum().reset_index()['total_spend']\n",
        "df2_forviz = df2_forviz.rename(columns={0: 'CustomerId'})"
      ],
      "execution_count": null,
      "outputs": []
    },
    {
      "cell_type": "code",
      "metadata": {
        "colab": {
          "base_uri": "https://localhost:8080/",
          "height": 197
        },
        "id": "5ChhqShP2fq6",
        "outputId": "7cc28fd9-21ab-4c42-8990-21101cd5e8b9"
      },
      "source": [
        "df2_forviz.head()"
      ],
      "execution_count": null,
      "outputs": [
        {
          "output_type": "execute_result",
          "data": {
            "text/html": [
              "<div>\n",
              "<style scoped>\n",
              "    .dataframe tbody tr th:only-of-type {\n",
              "        vertical-align: middle;\n",
              "    }\n",
              "\n",
              "    .dataframe tbody tr th {\n",
              "        vertical-align: top;\n",
              "    }\n",
              "\n",
              "    .dataframe thead th {\n",
              "        text-align: right;\n",
              "    }\n",
              "</style>\n",
              "<table border=\"1\" class=\"dataframe\">\n",
              "  <thead>\n",
              "    <tr style=\"text-align: right;\">\n",
              "      <th></th>\n",
              "      <th>x</th>\n",
              "      <th>y</th>\n",
              "      <th>CustomerId</th>\n",
              "      <th>country</th>\n",
              "      <th>quantity</th>\n",
              "      <th>total_spend</th>\n",
              "    </tr>\n",
              "  </thead>\n",
              "  <tbody>\n",
              "    <tr>\n",
              "      <th>0</th>\n",
              "      <td>-3.265127</td>\n",
              "      <td>-51.947903</td>\n",
              "      <td>13089.0</td>\n",
              "      <td>United Kingdom</td>\n",
              "      <td>0</td>\n",
              "      <td>0.00</td>\n",
              "    </tr>\n",
              "    <tr>\n",
              "      <th>1</th>\n",
              "      <td>-27.871796</td>\n",
              "      <td>-24.800701</td>\n",
              "      <td>15903.0</td>\n",
              "      <td>Iceland</td>\n",
              "      <td>2106</td>\n",
              "      <td>3755.60</td>\n",
              "    </tr>\n",
              "    <tr>\n",
              "      <th>2</th>\n",
              "      <td>-37.347801</td>\n",
              "      <td>11.674446</td>\n",
              "      <td>17841.0</td>\n",
              "      <td>Finland</td>\n",
              "      <td>1981</td>\n",
              "      <td>1652.28</td>\n",
              "    </tr>\n",
              "    <tr>\n",
              "      <th>3</th>\n",
              "      <td>-24.507553</td>\n",
              "      <td>-20.963926</td>\n",
              "      <td>13767.0</td>\n",
              "      <td>Italy</td>\n",
              "      <td>595</td>\n",
              "      <td>1687.77</td>\n",
              "    </tr>\n",
              "    <tr>\n",
              "      <th>4</th>\n",
              "      <td>45.344040</td>\n",
              "      <td>-2.758820</td>\n",
              "      <td>16912.0</td>\n",
              "      <td>Norway</td>\n",
              "      <td>169</td>\n",
              "      <td>288.40</td>\n",
              "    </tr>\n",
              "  </tbody>\n",
              "</table>\n",
              "</div>"
            ],
            "text/plain": [
              "           x          y CustomerId         country  quantity  total_spend\n",
              "0  -3.265127 -51.947903    13089.0  United Kingdom         0         0.00\n",
              "1 -27.871796 -24.800701    15903.0         Iceland      2106      3755.60\n",
              "2 -37.347801  11.674446    17841.0         Finland      1981      1652.28\n",
              "3 -24.507553 -20.963926    13767.0           Italy       595      1687.77\n",
              "4  45.344040  -2.758820    16912.0          Norway       169       288.40"
            ]
          },
          "metadata": {
            "tags": []
          },
          "execution_count": 74
        }
      ]
    },
    {
      "cell_type": "code",
      "metadata": {
        "id": "9qsNkaENrJme"
      },
      "source": [
        "df2_forviz.to_csv('mytext2.tsv',sep='\\t',index=False)"
      ],
      "execution_count": null,
      "outputs": []
    },
    {
      "cell_type": "code",
      "metadata": {
        "colab": {
          "base_uri": "https://localhost:8080/",
          "height": 820
        },
        "id": "XlA1EK0ctTec",
        "outputId": "1026394f-f2a3-4569-b3b3-53a457cdf23a"
      },
      "source": [
        "def show_port(port, data_file, width=600, height=800):\n",
        "  display(Javascript(\"\"\"\n",
        "  (async ()=>{\n",
        "    fm = document.createElement('iframe')\n",
        "    fm.src = await google.colab.kernel.proxyPort(%d) + '/index.html?dataset=%s'\n",
        "    fm.width = '90%%'\n",
        "    fm.height = '%d'\n",
        "    fm.frameBorder = 0\n",
        "    document.body.append(fm)\n",
        "  })();\n",
        "  \"\"\" % (port, data_file, height)))\n",
        "\n",
        "port = 8000\n",
        "data_file = 'mytext2.tsv'\n",
        "height = 1600\n",
        "\n",
        "get_ipython().system_raw('cd d3-scatterplot && python3 -m http.server %d &' % port) \n",
        "show_port(port, data_file, height)"
      ],
      "execution_count": null,
      "outputs": [
        {
          "output_type": "display_data",
          "data": {
            "application/javascript": [
              "\n",
              "  (async ()=>{\n",
              "    fm = document.createElement('iframe')\n",
              "    fm.src = await google.colab.kernel.proxyPort(8000) + '/index.html?dataset=mytext2.tsv'\n",
              "    fm.width = '90%'\n",
              "    fm.height = '800'\n",
              "    fm.frameBorder = 0\n",
              "    document.body.append(fm)\n",
              "  })();\n",
              "  "
            ],
            "text/plain": [
              "<IPython.core.display.Javascript object>"
            ]
          },
          "metadata": {
            "tags": []
          }
        }
      ]
    },
    {
      "cell_type": "markdown",
      "metadata": {
        "id": "oACGf9r3Jfez"
      },
      "source": [
        "#Customer Recommender Validation"
      ]
    },
    {
      "cell_type": "code",
      "metadata": {
        "id": "C15n8JqEJfez"
      },
      "source": [
        "def aggregate_vectors_cust(customers):\n",
        "    customer_vec = []\n",
        "    for i in customers:\n",
        "        try:\n",
        "            customer_vec.append(customer_model[i])\n",
        "        except KeyError:\n",
        "            continue\n",
        "        \n",
        "    return np.mean(customer_vec, axis=0)"
      ],
      "execution_count": null,
      "outputs": []
    },
    {
      "cell_type": "code",
      "metadata": {
        "id": "3XMImqW-Jfe0"
      },
      "source": [
        "customer_list_test_2=[]\n",
        "for i in customer_list_test:\n",
        "  if len(i)>1:\n",
        "    customer_list_test_2.append(i)"
      ],
      "execution_count": null,
      "outputs": []
    },
    {
      "cell_type": "code",
      "metadata": {
        "id": "jx2fZpZAJfe0"
      },
      "source": [
        "purchased_cust_without_last=[]\n",
        "last_purchase_cust=[]\n",
        "for i in range(len(customer_list_test_2)):\n",
        "  last_purchase=customer_list_test_2[i][-1]\n",
        "  last_purchase_cust.append(last_purchase)  \n",
        "  without_last=customer_list_test_2[i][:-1]\n",
        "  purchased_cust_without_last.append(without_last)"
      ],
      "execution_count": null,
      "outputs": []
    },
    {
      "cell_type": "code",
      "metadata": {
        "id": "GyCtJykPJfe0"
      },
      "source": [
        "last_purchase=pd.DataFrame(last_purchase_cust)\n",
        "last_purchase.columns=['last_purchase']"
      ],
      "execution_count": null,
      "outputs": []
    },
    {
      "cell_type": "code",
      "metadata": {
        "id": "vCyWO_rYJfe0"
      },
      "source": [
        "average_cust=[]\n",
        "for i in purchased_cust_without_last:\n",
        "  average=aggregate_vectors_cust(i)\n",
        "  average_cust.append(average)"
      ],
      "execution_count": null,
      "outputs": []
    },
    {
      "cell_type": "code",
      "metadata": {
        "id": "XKd7NnFAJfe0"
      },
      "source": [
        "pred = pd.DataFrame()\n",
        "n=100\n",
        "for i in range(len(customer_list_test_2)):\n",
        "  a=pd.DataFrame(customer_model.similar_by_vector(average_cust[i],n))\n",
        "  a=a.drop(1, axis=1).T\n",
        "  pred=pd.concat([pred, a],axis=0)\n",
        "pred=pred.reset_index().drop('index', axis=1)\n",
        "pred=pd.concat([pred,last_purchase],axis=1)"
      ],
      "execution_count": null,
      "outputs": []
    },
    {
      "cell_type": "code",
      "metadata": {
        "colab": {
          "base_uri": "https://localhost:8080/",
          "height": 426
        },
        "id": "PB2sI--eN5Vk",
        "outputId": "c5b0a683-5c29-4047-d088-579b1da1799c"
      },
      "source": [
        "pred"
      ],
      "execution_count": null,
      "outputs": [
        {
          "output_type": "execute_result",
          "data": {
            "text/html": [
              "<div>\n",
              "<style scoped>\n",
              "    .dataframe tbody tr th:only-of-type {\n",
              "        vertical-align: middle;\n",
              "    }\n",
              "\n",
              "    .dataframe tbody tr th {\n",
              "        vertical-align: top;\n",
              "    }\n",
              "\n",
              "    .dataframe thead th {\n",
              "        text-align: right;\n",
              "    }\n",
              "</style>\n",
              "<table border=\"1\" class=\"dataframe\">\n",
              "  <thead>\n",
              "    <tr style=\"text-align: right;\">\n",
              "      <th></th>\n",
              "      <th>0</th>\n",
              "      <th>1</th>\n",
              "      <th>2</th>\n",
              "      <th>3</th>\n",
              "      <th>4</th>\n",
              "      <th>5</th>\n",
              "      <th>6</th>\n",
              "      <th>7</th>\n",
              "      <th>8</th>\n",
              "      <th>9</th>\n",
              "      <th>10</th>\n",
              "      <th>11</th>\n",
              "      <th>12</th>\n",
              "      <th>13</th>\n",
              "      <th>14</th>\n",
              "      <th>15</th>\n",
              "      <th>16</th>\n",
              "      <th>17</th>\n",
              "      <th>18</th>\n",
              "      <th>19</th>\n",
              "      <th>20</th>\n",
              "      <th>21</th>\n",
              "      <th>22</th>\n",
              "      <th>23</th>\n",
              "      <th>24</th>\n",
              "      <th>25</th>\n",
              "      <th>26</th>\n",
              "      <th>27</th>\n",
              "      <th>28</th>\n",
              "      <th>29</th>\n",
              "      <th>30</th>\n",
              "      <th>31</th>\n",
              "      <th>32</th>\n",
              "      <th>33</th>\n",
              "      <th>34</th>\n",
              "      <th>35</th>\n",
              "      <th>36</th>\n",
              "      <th>37</th>\n",
              "      <th>38</th>\n",
              "      <th>39</th>\n",
              "      <th>...</th>\n",
              "      <th>61</th>\n",
              "      <th>62</th>\n",
              "      <th>63</th>\n",
              "      <th>64</th>\n",
              "      <th>65</th>\n",
              "      <th>66</th>\n",
              "      <th>67</th>\n",
              "      <th>68</th>\n",
              "      <th>69</th>\n",
              "      <th>70</th>\n",
              "      <th>71</th>\n",
              "      <th>72</th>\n",
              "      <th>73</th>\n",
              "      <th>74</th>\n",
              "      <th>75</th>\n",
              "      <th>76</th>\n",
              "      <th>77</th>\n",
              "      <th>78</th>\n",
              "      <th>79</th>\n",
              "      <th>80</th>\n",
              "      <th>81</th>\n",
              "      <th>82</th>\n",
              "      <th>83</th>\n",
              "      <th>84</th>\n",
              "      <th>85</th>\n",
              "      <th>86</th>\n",
              "      <th>87</th>\n",
              "      <th>88</th>\n",
              "      <th>89</th>\n",
              "      <th>90</th>\n",
              "      <th>91</th>\n",
              "      <th>92</th>\n",
              "      <th>93</th>\n",
              "      <th>94</th>\n",
              "      <th>95</th>\n",
              "      <th>96</th>\n",
              "      <th>97</th>\n",
              "      <th>98</th>\n",
              "      <th>99</th>\n",
              "      <th>last_purchase</th>\n",
              "    </tr>\n",
              "  </thead>\n",
              "  <tbody>\n",
              "    <tr>\n",
              "      <th>0</th>\n",
              "      <td>14044.0</td>\n",
              "      <td>18024.0</td>\n",
              "      <td>13291.0</td>\n",
              "      <td>16527.0</td>\n",
              "      <td>17429.0</td>\n",
              "      <td>16450.0</td>\n",
              "      <td>14232.0</td>\n",
              "      <td>17962.0</td>\n",
              "      <td>15201.0</td>\n",
              "      <td>15663.0</td>\n",
              "      <td>17370.0</td>\n",
              "      <td>12977.0</td>\n",
              "      <td>16305.0</td>\n",
              "      <td>16394.0</td>\n",
              "      <td>17696.0</td>\n",
              "      <td>14002.0</td>\n",
              "      <td>14745.0</td>\n",
              "      <td>17263.0</td>\n",
              "      <td>15569.0</td>\n",
              "      <td>15334.0</td>\n",
              "      <td>16918.0</td>\n",
              "      <td>15746.0</td>\n",
              "      <td>14891.0</td>\n",
              "      <td>16794.0</td>\n",
              "      <td>17105.0</td>\n",
              "      <td>17750.0</td>\n",
              "      <td>15829.0</td>\n",
              "      <td>16813.0</td>\n",
              "      <td>13618.0</td>\n",
              "      <td>17248.0</td>\n",
              "      <td>14375.0</td>\n",
              "      <td>15541.0</td>\n",
              "      <td>14716.0</td>\n",
              "      <td>12821.0</td>\n",
              "      <td>15232.0</td>\n",
              "      <td>17695.0</td>\n",
              "      <td>14124.0</td>\n",
              "      <td>17854.0</td>\n",
              "      <td>15342.0</td>\n",
              "      <td>17775.0</td>\n",
              "      <td>...</td>\n",
              "      <td>15700.0</td>\n",
              "      <td>14645.0</td>\n",
              "      <td>17899.0</td>\n",
              "      <td>15752.0</td>\n",
              "      <td>13583.0</td>\n",
              "      <td>13667.0</td>\n",
              "      <td>17923.0</td>\n",
              "      <td>15007.0</td>\n",
              "      <td>17265.0</td>\n",
              "      <td>18147.0</td>\n",
              "      <td>12649.0</td>\n",
              "      <td>16904.0</td>\n",
              "      <td>14408.0</td>\n",
              "      <td>12461.0</td>\n",
              "      <td>15690.0</td>\n",
              "      <td>17873.0</td>\n",
              "      <td>13162.0</td>\n",
              "      <td>16906.0</td>\n",
              "      <td>16041.0</td>\n",
              "      <td>14699.0</td>\n",
              "      <td>13474.0</td>\n",
              "      <td>13959.0</td>\n",
              "      <td>14414.0</td>\n",
              "      <td>18230.0</td>\n",
              "      <td>13194.0</td>\n",
              "      <td>15128.0</td>\n",
              "      <td>17816.0</td>\n",
              "      <td>13355.0</td>\n",
              "      <td>14336.0</td>\n",
              "      <td>12871.0</td>\n",
              "      <td>13762.0</td>\n",
              "      <td>14552.0</td>\n",
              "      <td>13791.0</td>\n",
              "      <td>17298.0</td>\n",
              "      <td>13026.0</td>\n",
              "      <td>17422.0</td>\n",
              "      <td>17935.0</td>\n",
              "      <td>16729.0</td>\n",
              "      <td>17514.0</td>\n",
              "      <td>14096.0</td>\n",
              "    </tr>\n",
              "    <tr>\n",
              "      <th>1</th>\n",
              "      <td>14336.0</td>\n",
              "      <td>14232.0</td>\n",
              "      <td>17962.0</td>\n",
              "      <td>13184.0</td>\n",
              "      <td>14401.0</td>\n",
              "      <td>13717.0</td>\n",
              "      <td>16527.0</td>\n",
              "      <td>13524.0</td>\n",
              "      <td>14321.0</td>\n",
              "      <td>16448.0</td>\n",
              "      <td>13618.0</td>\n",
              "      <td>14272.0</td>\n",
              "      <td>13126.0</td>\n",
              "      <td>15315.0</td>\n",
              "      <td>13885.0</td>\n",
              "      <td>17854.0</td>\n",
              "      <td>15932.0</td>\n",
              "      <td>17105.0</td>\n",
              "      <td>15349.0</td>\n",
              "      <td>15663.0</td>\n",
              "      <td>17154.0</td>\n",
              "      <td>13253.0</td>\n",
              "      <td>13140.0</td>\n",
              "      <td>13499.0</td>\n",
              "      <td>15569.0</td>\n",
              "      <td>14918.0</td>\n",
              "      <td>15547.0</td>\n",
              "      <td>14997.0</td>\n",
              "      <td>15746.0</td>\n",
              "      <td>17696.0</td>\n",
              "      <td>16209.0</td>\n",
              "      <td>14375.0</td>\n",
              "      <td>17775.0</td>\n",
              "      <td>17656.0</td>\n",
              "      <td>13675.0</td>\n",
              "      <td>14995.0</td>\n",
              "      <td>13165.0</td>\n",
              "      <td>13427.0</td>\n",
              "      <td>15722.0</td>\n",
              "      <td>14472.0</td>\n",
              "      <td>...</td>\n",
              "      <td>13955.0</td>\n",
              "      <td>16780.0</td>\n",
              "      <td>13233.0</td>\n",
              "      <td>17828.0</td>\n",
              "      <td>16965.0</td>\n",
              "      <td>14576.0</td>\n",
              "      <td>16175.0</td>\n",
              "      <td>16930.0</td>\n",
              "      <td>14177.0</td>\n",
              "      <td>13685.0</td>\n",
              "      <td>13134.0</td>\n",
              "      <td>17514.0</td>\n",
              "      <td>13799.0</td>\n",
              "      <td>14298.0</td>\n",
              "      <td>17560.0</td>\n",
              "      <td>13782.0</td>\n",
              "      <td>13479.0</td>\n",
              "      <td>17172.0</td>\n",
              "      <td>14196.0</td>\n",
              "      <td>15263.0</td>\n",
              "      <td>14167.0</td>\n",
              "      <td>17135.0</td>\n",
              "      <td>15438.0</td>\n",
              "      <td>14883.0</td>\n",
              "      <td>17122.0</td>\n",
              "      <td>17470.0</td>\n",
              "      <td>14924.0</td>\n",
              "      <td>15185.0</td>\n",
              "      <td>13474.0</td>\n",
              "      <td>12556.0</td>\n",
              "      <td>13291.0</td>\n",
              "      <td>16081.0</td>\n",
              "      <td>14064.0</td>\n",
              "      <td>13583.0</td>\n",
              "      <td>13162.0</td>\n",
              "      <td>15717.0</td>\n",
              "      <td>13026.0</td>\n",
              "      <td>17790.0</td>\n",
              "      <td>18069.0</td>\n",
              "      <td>15471.0</td>\n",
              "    </tr>\n",
              "    <tr>\n",
              "      <th>2</th>\n",
              "      <td>12674.0</td>\n",
              "      <td>12562.0</td>\n",
              "      <td>12689.0</td>\n",
              "      <td>12656.0</td>\n",
              "      <td>13131.0</td>\n",
              "      <td>12962.0</td>\n",
              "      <td>12518.0</td>\n",
              "      <td>12724.0</td>\n",
              "      <td>12645.0</td>\n",
              "      <td>12598.0</td>\n",
              "      <td>12670.0</td>\n",
              "      <td>12380.0</td>\n",
              "      <td>12397.0</td>\n",
              "      <td>12492.0</td>\n",
              "      <td>12680.0</td>\n",
              "      <td>12620.0</td>\n",
              "      <td>12579.0</td>\n",
              "      <td>12700.0</td>\n",
              "      <td>12395.0</td>\n",
              "      <td>12705.0</td>\n",
              "      <td>12714.0</td>\n",
              "      <td>12379.0</td>\n",
              "      <td>13816.0</td>\n",
              "      <td>12490.0</td>\n",
              "      <td>12362.0</td>\n",
              "      <td>12438.0</td>\n",
              "      <td>12483.0</td>\n",
              "      <td>12721.0</td>\n",
              "      <td>12814.0</td>\n",
              "      <td>12526.0</td>\n",
              "      <td>12474.0</td>\n",
              "      <td>12390.0</td>\n",
              "      <td>12513.0</td>\n",
              "      <td>12583.0</td>\n",
              "      <td>12716.0</td>\n",
              "      <td>12475.0</td>\n",
              "      <td>12637.0</td>\n",
              "      <td>12531.0</td>\n",
              "      <td>12558.0</td>\n",
              "      <td>12701.0</td>\n",
              "      <td>...</td>\n",
              "      <td>12654.0</td>\n",
              "      <td>12664.0</td>\n",
              "      <td>13927.0</td>\n",
              "      <td>17552.0</td>\n",
              "      <td>12626.0</td>\n",
              "      <td>13985.0</td>\n",
              "      <td>12703.0</td>\n",
              "      <td>12593.0</td>\n",
              "      <td>12381.0</td>\n",
              "      <td>12406.0</td>\n",
              "      <td>12398.0</td>\n",
              "      <td>12457.0</td>\n",
              "      <td>18145.0</td>\n",
              "      <td>14533.0</td>\n",
              "      <td>13817.0</td>\n",
              "      <td>14262.0</td>\n",
              "      <td>12372.0</td>\n",
              "      <td>13520.0</td>\n",
              "      <td>12691.0</td>\n",
              "      <td>16648.0</td>\n",
              "      <td>17703.0</td>\n",
              "      <td>14495.0</td>\n",
              "      <td>12678.0</td>\n",
              "      <td>17791.0</td>\n",
              "      <td>12609.0</td>\n",
              "      <td>12384.0</td>\n",
              "      <td>16581.0</td>\n",
              "      <td>15136.0</td>\n",
              "      <td>17295.0</td>\n",
              "      <td>12566.0</td>\n",
              "      <td>13772.0</td>\n",
              "      <td>16999.0</td>\n",
              "      <td>15866.0</td>\n",
              "      <td>13209.0</td>\n",
              "      <td>13296.0</td>\n",
              "      <td>13318.0</td>\n",
              "      <td>12491.0</td>\n",
              "      <td>12662.0</td>\n",
              "      <td>14720.0</td>\n",
              "      <td>14730.0</td>\n",
              "    </tr>\n",
              "    <tr>\n",
              "      <th>3</th>\n",
              "      <td>12977.0</td>\n",
              "      <td>13291.0</td>\n",
              "      <td>18024.0</td>\n",
              "      <td>15181.0</td>\n",
              "      <td>13563.0</td>\n",
              "      <td>16527.0</td>\n",
              "      <td>15132.0</td>\n",
              "      <td>16906.0</td>\n",
              "      <td>15577.0</td>\n",
              "      <td>15569.0</td>\n",
              "      <td>13618.0</td>\n",
              "      <td>17921.0</td>\n",
              "      <td>14745.0</td>\n",
              "      <td>13637.0</td>\n",
              "      <td>15985.0</td>\n",
              "      <td>16813.0</td>\n",
              "      <td>16241.0</td>\n",
              "      <td>18064.0</td>\n",
              "      <td>12556.0</td>\n",
              "      <td>14147.0</td>\n",
              "      <td>16041.0</td>\n",
              "      <td>14375.0</td>\n",
              "      <td>12942.0</td>\n",
              "      <td>13611.0</td>\n",
              "      <td>13675.0</td>\n",
              "      <td>15201.0</td>\n",
              "      <td>17229.0</td>\n",
              "      <td>16356.0</td>\n",
              "      <td>14044.0</td>\n",
              "      <td>15976.0</td>\n",
              "      <td>14584.0</td>\n",
              "      <td>14699.0</td>\n",
              "      <td>13263.0</td>\n",
              "      <td>15700.0</td>\n",
              "      <td>17923.0</td>\n",
              "      <td>17946.0</td>\n",
              "      <td>14645.0</td>\n",
              "      <td>16448.0</td>\n",
              "      <td>14162.0</td>\n",
              "      <td>15722.0</td>\n",
              "      <td>...</td>\n",
              "      <td>18193.0</td>\n",
              "      <td>17854.0</td>\n",
              "      <td>14476.0</td>\n",
              "      <td>13479.0</td>\n",
              "      <td>13052.0</td>\n",
              "      <td>16206.0</td>\n",
              "      <td>17873.0</td>\n",
              "      <td>14235.0</td>\n",
              "      <td>15800.0</td>\n",
              "      <td>17105.0</td>\n",
              "      <td>17514.0</td>\n",
              "      <td>15182.0</td>\n",
              "      <td>14690.0</td>\n",
              "      <td>15007.0</td>\n",
              "      <td>17625.0</td>\n",
              "      <td>13561.0</td>\n",
              "      <td>18129.0</td>\n",
              "      <td>15289.0</td>\n",
              "      <td>16529.0</td>\n",
              "      <td>17899.0</td>\n",
              "      <td>16324.0</td>\n",
              "      <td>15523.0</td>\n",
              "      <td>17298.0</td>\n",
              "      <td>14100.0</td>\n",
              "      <td>18032.0</td>\n",
              "      <td>18224.0</td>\n",
              "      <td>14976.0</td>\n",
              "      <td>15026.0</td>\n",
              "      <td>14423.0</td>\n",
              "      <td>15665.0</td>\n",
              "      <td>15980.0</td>\n",
              "      <td>13462.0</td>\n",
              "      <td>15264.0</td>\n",
              "      <td>14801.0</td>\n",
              "      <td>17948.0</td>\n",
              "      <td>13499.0</td>\n",
              "      <td>16120.0</td>\n",
              "      <td>16225.0</td>\n",
              "      <td>12821.0</td>\n",
              "      <td>17491.0</td>\n",
              "    </tr>\n",
              "    <tr>\n",
              "      <th>4</th>\n",
              "      <td>13166.0</td>\n",
              "      <td>15709.0</td>\n",
              "      <td>18078.0</td>\n",
              "      <td>13052.0</td>\n",
              "      <td>17781.0</td>\n",
              "      <td>17535.0</td>\n",
              "      <td>17770.0</td>\n",
              "      <td>18280.0</td>\n",
              "      <td>16252.0</td>\n",
              "      <td>17708.0</td>\n",
              "      <td>13402.0</td>\n",
              "      <td>13439.0</td>\n",
              "      <td>16377.0</td>\n",
              "      <td>12881.0</td>\n",
              "      <td>14779.0</td>\n",
              "      <td>13976.0</td>\n",
              "      <td>15388.0</td>\n",
              "      <td>14195.0</td>\n",
              "      <td>14889.0</td>\n",
              "      <td>15528.0</td>\n",
              "      <td>13848.0</td>\n",
              "      <td>12605.0</td>\n",
              "      <td>13404.0</td>\n",
              "      <td>17171.0</td>\n",
              "      <td>13747.0</td>\n",
              "      <td>14012.0</td>\n",
              "      <td>18155.0</td>\n",
              "      <td>13497.0</td>\n",
              "      <td>15554.0</td>\n",
              "      <td>13821.0</td>\n",
              "      <td>13753.0</td>\n",
              "      <td>15945.0</td>\n",
              "      <td>16431.0</td>\n",
              "      <td>17035.0</td>\n",
              "      <td>17969.0</td>\n",
              "      <td>17701.0</td>\n",
              "      <td>14737.0</td>\n",
              "      <td>16030.0</td>\n",
              "      <td>17905.0</td>\n",
              "      <td>18009.0</td>\n",
              "      <td>...</td>\n",
              "      <td>14059.0</td>\n",
              "      <td>16583.0</td>\n",
              "      <td>18061.0</td>\n",
              "      <td>12988.0</td>\n",
              "      <td>17166.0</td>\n",
              "      <td>14633.0</td>\n",
              "      <td>13581.0</td>\n",
              "      <td>15219.0</td>\n",
              "      <td>14672.0</td>\n",
              "      <td>14238.0</td>\n",
              "      <td>15670.0</td>\n",
              "      <td>14625.0</td>\n",
              "      <td>18176.0</td>\n",
              "      <td>15454.0</td>\n",
              "      <td>16499.0</td>\n",
              "      <td>13508.0</td>\n",
              "      <td>14348.0</td>\n",
              "      <td>12574.0</td>\n",
              "      <td>16943.0</td>\n",
              "      <td>15052.0</td>\n",
              "      <td>17236.0</td>\n",
              "      <td>17060.0</td>\n",
              "      <td>14248.0</td>\n",
              "      <td>17749.0</td>\n",
              "      <td>13600.0</td>\n",
              "      <td>15512.0</td>\n",
              "      <td>17881.0</td>\n",
              "      <td>18010.0</td>\n",
              "      <td>15869.0</td>\n",
              "      <td>16217.0</td>\n",
              "      <td>17263.0</td>\n",
              "      <td>17320.0</td>\n",
              "      <td>17923.0</td>\n",
              "      <td>17843.0</td>\n",
              "      <td>17970.0</td>\n",
              "      <td>12564.0</td>\n",
              "      <td>16308.0</td>\n",
              "      <td>12601.0</td>\n",
              "      <td>12468.0</td>\n",
              "      <td>18203.0</td>\n",
              "    </tr>\n",
              "    <tr>\n",
              "      <th>...</th>\n",
              "      <td>...</td>\n",
              "      <td>...</td>\n",
              "      <td>...</td>\n",
              "      <td>...</td>\n",
              "      <td>...</td>\n",
              "      <td>...</td>\n",
              "      <td>...</td>\n",
              "      <td>...</td>\n",
              "      <td>...</td>\n",
              "      <td>...</td>\n",
              "      <td>...</td>\n",
              "      <td>...</td>\n",
              "      <td>...</td>\n",
              "      <td>...</td>\n",
              "      <td>...</td>\n",
              "      <td>...</td>\n",
              "      <td>...</td>\n",
              "      <td>...</td>\n",
              "      <td>...</td>\n",
              "      <td>...</td>\n",
              "      <td>...</td>\n",
              "      <td>...</td>\n",
              "      <td>...</td>\n",
              "      <td>...</td>\n",
              "      <td>...</td>\n",
              "      <td>...</td>\n",
              "      <td>...</td>\n",
              "      <td>...</td>\n",
              "      <td>...</td>\n",
              "      <td>...</td>\n",
              "      <td>...</td>\n",
              "      <td>...</td>\n",
              "      <td>...</td>\n",
              "      <td>...</td>\n",
              "      <td>...</td>\n",
              "      <td>...</td>\n",
              "      <td>...</td>\n",
              "      <td>...</td>\n",
              "      <td>...</td>\n",
              "      <td>...</td>\n",
              "      <td>...</td>\n",
              "      <td>...</td>\n",
              "      <td>...</td>\n",
              "      <td>...</td>\n",
              "      <td>...</td>\n",
              "      <td>...</td>\n",
              "      <td>...</td>\n",
              "      <td>...</td>\n",
              "      <td>...</td>\n",
              "      <td>...</td>\n",
              "      <td>...</td>\n",
              "      <td>...</td>\n",
              "      <td>...</td>\n",
              "      <td>...</td>\n",
              "      <td>...</td>\n",
              "      <td>...</td>\n",
              "      <td>...</td>\n",
              "      <td>...</td>\n",
              "      <td>...</td>\n",
              "      <td>...</td>\n",
              "      <td>...</td>\n",
              "      <td>...</td>\n",
              "      <td>...</td>\n",
              "      <td>...</td>\n",
              "      <td>...</td>\n",
              "      <td>...</td>\n",
              "      <td>...</td>\n",
              "      <td>...</td>\n",
              "      <td>...</td>\n",
              "      <td>...</td>\n",
              "      <td>...</td>\n",
              "      <td>...</td>\n",
              "      <td>...</td>\n",
              "      <td>...</td>\n",
              "      <td>...</td>\n",
              "      <td>...</td>\n",
              "      <td>...</td>\n",
              "      <td>...</td>\n",
              "      <td>...</td>\n",
              "      <td>...</td>\n",
              "      <td>...</td>\n",
              "    </tr>\n",
              "    <tr>\n",
              "      <th>349</th>\n",
              "      <td>15048.0</td>\n",
              "      <td>18218.0</td>\n",
              "      <td>15192.0</td>\n",
              "      <td>15810.0</td>\n",
              "      <td>12455.0</td>\n",
              "      <td>16287.0</td>\n",
              "      <td>17118.0</td>\n",
              "      <td>13235.0</td>\n",
              "      <td>17954.0</td>\n",
              "      <td>12580.0</td>\n",
              "      <td>17994.0</td>\n",
              "      <td>12524.0</td>\n",
              "      <td>16113.0</td>\n",
              "      <td>12414.0</td>\n",
              "      <td>12468.0</td>\n",
              "      <td>12557.0</td>\n",
              "      <td>13815.0</td>\n",
              "      <td>12643.0</td>\n",
              "      <td>13509.0</td>\n",
              "      <td>13069.0</td>\n",
              "      <td>13376.0</td>\n",
              "      <td>13330.0</td>\n",
              "      <td>14981.0</td>\n",
              "      <td>13158.0</td>\n",
              "      <td>15433.0</td>\n",
              "      <td>16550.0</td>\n",
              "      <td>13425.0</td>\n",
              "      <td>15544.0</td>\n",
              "      <td>12679.0</td>\n",
              "      <td>12393.0</td>\n",
              "      <td>12648.0</td>\n",
              "      <td>12710.0</td>\n",
              "      <td>12778.0</td>\n",
              "      <td>12594.0</td>\n",
              "      <td>14632.0</td>\n",
              "      <td>14670.0</td>\n",
              "      <td>13198.0</td>\n",
              "      <td>12811.0</td>\n",
              "      <td>12649.0</td>\n",
              "      <td>12422.0</td>\n",
              "      <td>...</td>\n",
              "      <td>15732.0</td>\n",
              "      <td>12939.0</td>\n",
              "      <td>12633.0</td>\n",
              "      <td>17535.0</td>\n",
              "      <td>12509.0</td>\n",
              "      <td>17735.0</td>\n",
              "      <td>12361.0</td>\n",
              "      <td>12399.0</td>\n",
              "      <td>14587.0</td>\n",
              "      <td>13686.0</td>\n",
              "      <td>13990.0</td>\n",
              "      <td>12759.0</td>\n",
              "      <td>13121.0</td>\n",
              "      <td>17051.0</td>\n",
              "      <td>14891.0</td>\n",
              "      <td>12866.0</td>\n",
              "      <td>17542.0</td>\n",
              "      <td>12354.0</td>\n",
              "      <td>17799.0</td>\n",
              "      <td>16927.0</td>\n",
              "      <td>12423.0</td>\n",
              "      <td>12604.0</td>\n",
              "      <td>12947.0</td>\n",
              "      <td>12793.0</td>\n",
              "      <td>12599.0</td>\n",
              "      <td>14409.0</td>\n",
              "      <td>13246.0</td>\n",
              "      <td>12593.0</td>\n",
              "      <td>16763.0</td>\n",
              "      <td>12405.0</td>\n",
              "      <td>12676.0</td>\n",
              "      <td>12732.0</td>\n",
              "      <td>12840.0</td>\n",
              "      <td>15222.0</td>\n",
              "      <td>16628.0</td>\n",
              "      <td>12624.0</td>\n",
              "      <td>13824.0</td>\n",
              "      <td>12673.0</td>\n",
              "      <td>12413.0</td>\n",
              "      <td>18179.0</td>\n",
              "    </tr>\n",
              "    <tr>\n",
              "      <th>350</th>\n",
              "      <td>15774.0</td>\n",
              "      <td>16177.0</td>\n",
              "      <td>18169.0</td>\n",
              "      <td>13940.0</td>\n",
              "      <td>16934.0</td>\n",
              "      <td>15593.0</td>\n",
              "      <td>15618.0</td>\n",
              "      <td>15740.0</td>\n",
              "      <td>18228.0</td>\n",
              "      <td>17096.0</td>\n",
              "      <td>14474.0</td>\n",
              "      <td>15994.0</td>\n",
              "      <td>16017.0</td>\n",
              "      <td>17733.0</td>\n",
              "      <td>16418.0</td>\n",
              "      <td>16574.0</td>\n",
              "      <td>13867.0</td>\n",
              "      <td>16542.0</td>\n",
              "      <td>14538.0</td>\n",
              "      <td>17498.0</td>\n",
              "      <td>14164.0</td>\n",
              "      <td>13980.0</td>\n",
              "      <td>17344.0</td>\n",
              "      <td>15949.0</td>\n",
              "      <td>13321.0</td>\n",
              "      <td>18211.0</td>\n",
              "      <td>16468.0</td>\n",
              "      <td>17222.0</td>\n",
              "      <td>14383.0</td>\n",
              "      <td>17684.0</td>\n",
              "      <td>13787.0</td>\n",
              "      <td>13801.0</td>\n",
              "      <td>16851.0</td>\n",
              "      <td>13236.0</td>\n",
              "      <td>15664.0</td>\n",
              "      <td>13947.0</td>\n",
              "      <td>13389.0</td>\n",
              "      <td>13514.0</td>\n",
              "      <td>16345.0</td>\n",
              "      <td>18126.0</td>\n",
              "      <td>...</td>\n",
              "      <td>14422.0</td>\n",
              "      <td>15468.0</td>\n",
              "      <td>14240.0</td>\n",
              "      <td>18160.0</td>\n",
              "      <td>13441.0</td>\n",
              "      <td>13882.0</td>\n",
              "      <td>15286.0</td>\n",
              "      <td>15344.0</td>\n",
              "      <td>16198.0</td>\n",
              "      <td>16412.0</td>\n",
              "      <td>15264.0</td>\n",
              "      <td>16466.0</td>\n",
              "      <td>15597.0</td>\n",
              "      <td>15636.0</td>\n",
              "      <td>13928.0</td>\n",
              "      <td>14441.0</td>\n",
              "      <td>14332.0</td>\n",
              "      <td>14861.0</td>\n",
              "      <td>17737.0</td>\n",
              "      <td>16554.0</td>\n",
              "      <td>14297.0</td>\n",
              "      <td>15453.0</td>\n",
              "      <td>17797.0</td>\n",
              "      <td>15826.0</td>\n",
              "      <td>13644.0</td>\n",
              "      <td>13719.0</td>\n",
              "      <td>17720.0</td>\n",
              "      <td>13822.0</td>\n",
              "      <td>14649.0</td>\n",
              "      <td>13607.0</td>\n",
              "      <td>15216.0</td>\n",
              "      <td>17666.0</td>\n",
              "      <td>12938.0</td>\n",
              "      <td>17169.0</td>\n",
              "      <td>16959.0</td>\n",
              "      <td>14381.0</td>\n",
              "      <td>14908.0</td>\n",
              "      <td>15739.0</td>\n",
              "      <td>12454.0</td>\n",
              "      <td>14702.0</td>\n",
              "    </tr>\n",
              "    <tr>\n",
              "      <th>351</th>\n",
              "      <td>14911.0</td>\n",
              "      <td>15261.0</td>\n",
              "      <td>14236.0</td>\n",
              "      <td>12569.0</td>\n",
              "      <td>12694.0</td>\n",
              "      <td>12619.0</td>\n",
              "      <td>12697.0</td>\n",
              "      <td>12566.0</td>\n",
              "      <td>15327.0</td>\n",
              "      <td>12688.0</td>\n",
              "      <td>12417.0</td>\n",
              "      <td>12381.0</td>\n",
              "      <td>12642.0</td>\n",
              "      <td>14948.0</td>\n",
              "      <td>12436.0</td>\n",
              "      <td>12523.0</td>\n",
              "      <td>17631.0</td>\n",
              "      <td>12588.0</td>\n",
              "      <td>17844.0</td>\n",
              "      <td>12420.0</td>\n",
              "      <td>12720.0</td>\n",
              "      <td>12425.0</td>\n",
              "      <td>16050.0</td>\n",
              "      <td>12434.0</td>\n",
              "      <td>16551.0</td>\n",
              "      <td>18251.0</td>\n",
              "      <td>16211.0</td>\n",
              "      <td>16292.0</td>\n",
              "      <td>12528.0</td>\n",
              "      <td>12548.0</td>\n",
              "      <td>12384.0</td>\n",
              "      <td>13014.0</td>\n",
              "      <td>12895.0</td>\n",
              "      <td>12352.0</td>\n",
              "      <td>14644.0</td>\n",
              "      <td>12739.0</td>\n",
              "      <td>13690.0</td>\n",
              "      <td>12407.0</td>\n",
              "      <td>12519.0</td>\n",
              "      <td>13826.0</td>\n",
              "      <td>...</td>\n",
              "      <td>12504.0</td>\n",
              "      <td>13504.0</td>\n",
              "      <td>12701.0</td>\n",
              "      <td>18272.0</td>\n",
              "      <td>12879.0</td>\n",
              "      <td>14916.0</td>\n",
              "      <td>14013.0</td>\n",
              "      <td>13759.0</td>\n",
              "      <td>16824.0</td>\n",
              "      <td>12513.0</td>\n",
              "      <td>12607.0</td>\n",
              "      <td>12718.0</td>\n",
              "      <td>14720.0</td>\n",
              "      <td>12437.0</td>\n",
              "      <td>13338.0</td>\n",
              "      <td>14301.0</td>\n",
              "      <td>12678.0</td>\n",
              "      <td>12863.0</td>\n",
              "      <td>13127.0</td>\n",
              "      <td>13244.0</td>\n",
              "      <td>13324.0</td>\n",
              "      <td>12512.0</td>\n",
              "      <td>16829.0</td>\n",
              "      <td>15301.0</td>\n",
              "      <td>13804.0</td>\n",
              "      <td>13394.0</td>\n",
              "      <td>12647.0</td>\n",
              "      <td>13006.0</td>\n",
              "      <td>12885.0</td>\n",
              "      <td>16761.0</td>\n",
              "      <td>16153.0</td>\n",
              "      <td>14050.0</td>\n",
              "      <td>15370.0</td>\n",
              "      <td>12579.0</td>\n",
              "      <td>13931.0</td>\n",
              "      <td>14961.0</td>\n",
              "      <td>18241.0</td>\n",
              "      <td>15120.0</td>\n",
              "      <td>13505.0</td>\n",
              "      <td>14911.0</td>\n",
              "    </tr>\n",
              "    <tr>\n",
              "      <th>352</th>\n",
              "      <td>12535.0</td>\n",
              "      <td>15045.0</td>\n",
              "      <td>13784.0</td>\n",
              "      <td>16739.0</td>\n",
              "      <td>15071.0</td>\n",
              "      <td>14344.0</td>\n",
              "      <td>16837.0</td>\n",
              "      <td>13865.0</td>\n",
              "      <td>13873.0</td>\n",
              "      <td>14517.0</td>\n",
              "      <td>15438.0</td>\n",
              "      <td>12930.0</td>\n",
              "      <td>13631.0</td>\n",
              "      <td>14816.0</td>\n",
              "      <td>12987.0</td>\n",
              "      <td>14962.0</td>\n",
              "      <td>14639.0</td>\n",
              "      <td>13737.0</td>\n",
              "      <td>14512.0</td>\n",
              "      <td>12352.0</td>\n",
              "      <td>16756.0</td>\n",
              "      <td>18155.0</td>\n",
              "      <td>16621.0</td>\n",
              "      <td>15656.0</td>\n",
              "      <td>14217.0</td>\n",
              "      <td>14841.0</td>\n",
              "      <td>13339.0</td>\n",
              "      <td>12775.0</td>\n",
              "      <td>18265.0</td>\n",
              "      <td>15221.0</td>\n",
              "      <td>13627.0</td>\n",
              "      <td>14973.0</td>\n",
              "      <td>14542.0</td>\n",
              "      <td>18109.0</td>\n",
              "      <td>14758.0</td>\n",
              "      <td>13453.0</td>\n",
              "      <td>14377.0</td>\n",
              "      <td>17574.0</td>\n",
              "      <td>17500.0</td>\n",
              "      <td>16419.0</td>\n",
              "      <td>...</td>\n",
              "      <td>16839.0</td>\n",
              "      <td>18138.0</td>\n",
              "      <td>13338.0</td>\n",
              "      <td>14952.0</td>\n",
              "      <td>12833.0</td>\n",
              "      <td>14243.0</td>\n",
              "      <td>16716.0</td>\n",
              "      <td>15623.0</td>\n",
              "      <td>16852.0</td>\n",
              "      <td>17567.0</td>\n",
              "      <td>12576.0</td>\n",
              "      <td>13888.0</td>\n",
              "      <td>16235.0</td>\n",
              "      <td>16952.0</td>\n",
              "      <td>16769.0</td>\n",
              "      <td>18073.0</td>\n",
              "      <td>17408.0</td>\n",
              "      <td>12997.0</td>\n",
              "      <td>12837.0</td>\n",
              "      <td>13171.0</td>\n",
              "      <td>15636.0</td>\n",
              "      <td>16344.0</td>\n",
              "      <td>15189.0</td>\n",
              "      <td>18203.0</td>\n",
              "      <td>13452.0</td>\n",
              "      <td>14180.0</td>\n",
              "      <td>14235.0</td>\n",
              "      <td>16693.0</td>\n",
              "      <td>14538.0</td>\n",
              "      <td>14209.0</td>\n",
              "      <td>13134.0</td>\n",
              "      <td>14514.0</td>\n",
              "      <td>14543.0</td>\n",
              "      <td>13265.0</td>\n",
              "      <td>17738.0</td>\n",
              "      <td>14522.0</td>\n",
              "      <td>17058.0</td>\n",
              "      <td>15042.0</td>\n",
              "      <td>12779.0</td>\n",
              "      <td>14911.0</td>\n",
              "    </tr>\n",
              "    <tr>\n",
              "      <th>353</th>\n",
              "      <td>17767.0</td>\n",
              "      <td>16885.0</td>\n",
              "      <td>15645.0</td>\n",
              "      <td>13565.0</td>\n",
              "      <td>17942.0</td>\n",
              "      <td>15017.0</td>\n",
              "      <td>14111.0</td>\n",
              "      <td>17793.0</td>\n",
              "      <td>15054.0</td>\n",
              "      <td>15557.0</td>\n",
              "      <td>16804.0</td>\n",
              "      <td>18034.0</td>\n",
              "      <td>15977.0</td>\n",
              "      <td>14784.0</td>\n",
              "      <td>18127.0</td>\n",
              "      <td>15426.0</td>\n",
              "      <td>12913.0</td>\n",
              "      <td>12938.0</td>\n",
              "      <td>17289.0</td>\n",
              "      <td>15680.0</td>\n",
              "      <td>17812.0</td>\n",
              "      <td>16979.0</td>\n",
              "      <td>17561.0</td>\n",
              "      <td>15022.0</td>\n",
              "      <td>17502.0</td>\n",
              "      <td>17458.0</td>\n",
              "      <td>15986.0</td>\n",
              "      <td>16903.0</td>\n",
              "      <td>15634.0</td>\n",
              "      <td>17590.0</td>\n",
              "      <td>15516.0</td>\n",
              "      <td>17806.0</td>\n",
              "      <td>16504.0</td>\n",
              "      <td>16376.0</td>\n",
              "      <td>14666.0</td>\n",
              "      <td>14723.0</td>\n",
              "      <td>16887.0</td>\n",
              "      <td>16368.0</td>\n",
              "      <td>14480.0</td>\n",
              "      <td>15597.0</td>\n",
              "      <td>...</td>\n",
              "      <td>18101.0</td>\n",
              "      <td>15883.0</td>\n",
              "      <td>17397.0</td>\n",
              "      <td>17253.0</td>\n",
              "      <td>14664.0</td>\n",
              "      <td>17797.0</td>\n",
              "      <td>17772.0</td>\n",
              "      <td>13882.0</td>\n",
              "      <td>12953.0</td>\n",
              "      <td>17904.0</td>\n",
              "      <td>16411.0</td>\n",
              "      <td>15184.0</td>\n",
              "      <td>14553.0</td>\n",
              "      <td>17044.0</td>\n",
              "      <td>17403.0</td>\n",
              "      <td>18110.0</td>\n",
              "      <td>17297.0</td>\n",
              "      <td>17595.0</td>\n",
              "      <td>17359.0</td>\n",
              "      <td>18117.0</td>\n",
              "      <td>17608.0</td>\n",
              "      <td>18006.0</td>\n",
              "      <td>14882.0</td>\n",
              "      <td>14725.0</td>\n",
              "      <td>15916.0</td>\n",
              "      <td>16892.0</td>\n",
              "      <td>15773.0</td>\n",
              "      <td>13579.0</td>\n",
              "      <td>17250.0</td>\n",
              "      <td>17344.0</td>\n",
              "      <td>14204.0</td>\n",
              "      <td>15024.0</td>\n",
              "      <td>14597.0</td>\n",
              "      <td>15676.0</td>\n",
              "      <td>12617.0</td>\n",
              "      <td>13710.0</td>\n",
              "      <td>16207.0</td>\n",
              "      <td>13569.0</td>\n",
              "      <td>14547.0</td>\n",
              "      <td>15984.0</td>\n",
              "    </tr>\n",
              "  </tbody>\n",
              "</table>\n",
              "<p>354 rows × 101 columns</p>\n",
              "</div>"
            ],
            "text/plain": [
              "           0        1        2  ...       98       99 last_purchase\n",
              "0    14044.0  18024.0  13291.0  ...  16729.0  17514.0       14096.0\n",
              "1    14336.0  14232.0  17962.0  ...  17790.0  18069.0       15471.0\n",
              "2    12674.0  12562.0  12689.0  ...  12662.0  14720.0       14730.0\n",
              "3    12977.0  13291.0  18024.0  ...  16225.0  12821.0       17491.0\n",
              "4    13166.0  15709.0  18078.0  ...  12601.0  12468.0       18203.0\n",
              "..       ...      ...      ...  ...      ...      ...           ...\n",
              "349  15048.0  18218.0  15192.0  ...  12673.0  12413.0       18179.0\n",
              "350  15774.0  16177.0  18169.0  ...  15739.0  12454.0       14702.0\n",
              "351  14911.0  15261.0  14236.0  ...  15120.0  13505.0       14911.0\n",
              "352  12535.0  15045.0  13784.0  ...  15042.0  12779.0       14911.0\n",
              "353  17767.0  16885.0  15645.0  ...  13569.0  14547.0       15984.0\n",
              "\n",
              "[354 rows x 101 columns]"
            ]
          },
          "metadata": {
            "tags": []
          },
          "execution_count": 83
        }
      ]
    },
    {
      "cell_type": "code",
      "metadata": {
        "id": "rZJAq3RbJfe0"
      },
      "source": [
        "a=pd.DataFrame()\n",
        "for i in range(n):\n",
        "  a['correct_'+str(i)]=(pred[i]==pred['last_purchase']).astype(int)"
      ],
      "execution_count": null,
      "outputs": []
    },
    {
      "cell_type": "code",
      "metadata": {
        "id": "XqD0fKQpJfe0"
      },
      "source": [
        "a['correct']=a.sum(axis=1)"
      ],
      "execution_count": null,
      "outputs": []
    },
    {
      "cell_type": "code",
      "metadata": {
        "id": "Jn6_2cDBJfe0"
      },
      "source": [
        "pred['correct']=a['correct']"
      ],
      "execution_count": null,
      "outputs": []
    },
    {
      "cell_type": "code",
      "metadata": {
        "colab": {
          "base_uri": "https://localhost:8080/"
        },
        "id": "PWh7VUKCJfe0",
        "outputId": "14914e3c-ee83-4af1-9366-e4b72bc1a374"
      },
      "source": [
        "accuracy_rate = pred['correct'].sum()/len(pred)\n",
        "accuracy_rate"
      ],
      "execution_count": null,
      "outputs": [
        {
          "output_type": "execute_result",
          "data": {
            "text/plain": [
              "0.12429378531073447"
            ]
          },
          "metadata": {
            "tags": []
          },
          "execution_count": 87
        }
      ]
    },
    {
      "cell_type": "code",
      "metadata": {
        "id": "ytL2PQQQl6T7"
      },
      "source": [
        ""
      ],
      "execution_count": null,
      "outputs": []
    }
  ]
}